{
 "cells": [
  {
   "cell_type": "markdown",
   "metadata": {},
   "source": [
    "# 魔法方法"
   ]
  },
  {
   "cell_type": "markdown",
   "metadata": {},
   "source": [
    "1. 魔法方法总是被双下划线包围，例如``__init__``\n",
    "2. 魔法方法是面向对象的 Python 的一切，如果你不知道魔法方法，说明你还没能意识到面向对象的 Python 的强大\n",
    "3. 魔法方法的“魔力”体现在它们总能够在适当的时候被自动调用\n",
    "4. 魔法方法的第一个参数应为``cls``（类方法） 或者``self``（实例方法）\n",
    "<br>\n",
    "cls：代表一个类的名称\n",
    "<br>\n",
    "self：代表一个实例对象的名称"
   ]
  },
  {
   "cell_type": "markdown",
   "metadata": {},
   "source": [
    "## 1. 基本的魔法方法"
   ]
  },
  {
   "cell_type": "markdown",
   "metadata": {},
   "source": [
    "#### 1.1 ``__init__(self[, ...])`` 构造器，当一个实例被创建的时候调用的初始化方法"
   ]
  },
  {
   "cell_type": "code",
   "execution_count": 1,
   "metadata": {
    "ExecuteTime": {
     "end_time": "2020-08-12T08:29:02.693691Z",
     "start_time": "2020-08-12T08:29:02.684702Z"
    }
   },
   "outputs": [
    {
     "name": "stdout",
     "output_type": "stream",
     "text": [
      "18\n",
      "20\n"
     ]
    }
   ],
   "source": [
    "class Rectangle:\n",
    "    def __init__(self, x, y):\n",
    "        self.x = x\n",
    "        self.y = y\n",
    "\n",
    "    def getPeri(self):\n",
    "        return (self.x + self.y) * 2\n",
    "\n",
    "    def getArea(self):\n",
    "        return self.x * self.y\n",
    "\n",
    "\n",
    "rect = Rectangle(4, 5)\n",
    "print(rect.getPeri())  \n",
    "print(rect.getArea())"
   ]
  },
  {
   "cell_type": "markdown",
   "metadata": {},
   "source": [
    "#### 1.2 ``__new__(cls[, ...])`` 在一个对象实例化的时候所调用的第一个方法，在调用``__init__``初始化前，先调用``__new__``"
   ]
  },
  {
   "cell_type": "markdown",
   "metadata": {},
   "source": [
    "+ ``__new__``至少要有一个参数cls，代表要实例化的类，此参数在实例化时由 Python 解释器自动提供，后面的参数直接传递给__init__\n",
    "+ ``__new__``对当前类进行了实例化，并将实例返回，传给``__init__``的``self``。但是，执行了``__new__``，并不一定会进入``__init__``，只有``__new__``返回了，当前类``cls``的实例，当前类的``__init__``才会进入"
   ]
  },
  {
   "cell_type": "code",
   "execution_count": 2,
   "metadata": {
    "ExecuteTime": {
     "end_time": "2020-08-12T08:29:03.418269Z",
     "start_time": "2020-08-12T08:29:03.412280Z"
    }
   },
   "outputs": [
    {
     "name": "stdout",
     "output_type": "stream",
     "text": [
      "into B __new__\n",
      "<class '__main__.B'>\n",
      "into A __new__\n",
      "<class '__main__.B'>\n",
      "into B __init__\n"
     ]
    }
   ],
   "source": [
    "class A(object):\n",
    "    def __init__(self, value):\n",
    "        print(\"into A __init__\")\n",
    "        self.value = value\n",
    "\n",
    "    def __new__(cls, *args, **kwargs):\n",
    "        print(\"into A __new__\")\n",
    "        print(cls)\n",
    "        return object.__new__(cls)\n",
    "\n",
    "\n",
    "class B(A):\n",
    "    def __init__(self, value):\n",
    "        print(\"into B __init__\")\n",
    "        self.value = value\n",
    "\n",
    "    def __new__(cls, *args, **kwargs):\n",
    "        print(\"into B __new__\")\n",
    "        print(cls)\n",
    "        return super().__new__(cls, *args, **kwargs)\n",
    "\n",
    "\n",
    "b = B(10)\n"
   ]
  },
  {
   "cell_type": "code",
   "execution_count": 3,
   "metadata": {
    "ExecuteTime": {
     "end_time": "2020-08-12T08:29:03.674343Z",
     "start_time": "2020-08-12T08:29:03.667351Z"
    }
   },
   "outputs": [
    {
     "name": "stdout",
     "output_type": "stream",
     "text": [
      "into B __new__\n",
      "<class '__main__.B'>\n",
      "into A __new__\n",
      "<class '__main__.A'>\n"
     ]
    }
   ],
   "source": [
    "class A(object):\n",
    "    def __init__(self, value):\n",
    "        print(\"into A __init__\")\n",
    "        self.value = value\n",
    "\n",
    "    def __new__(cls, *args, **kwargs):\n",
    "        print(\"into A __new__\")\n",
    "        print(cls)\n",
    "        return object.__new__(cls)\n",
    "\n",
    "\n",
    "class B(A):\n",
    "    def __init__(self, value):\n",
    "        print(\"into B __init__\")\n",
    "        self.value = value\n",
    "\n",
    "    def __new__(cls, *args, **kwargs):\n",
    "        print(\"into B __new__\")\n",
    "        print(cls)\n",
    "        return super().__new__(A, *args, **kwargs)  # 改动了cls变为A\n",
    "\n",
    "\n",
    "b = B(10)"
   ]
  },
  {
   "cell_type": "markdown",
   "metadata": {},
   "source": [
    "#### 1.3 若``__new__``没有正确返回当前类``cls``的实例，那``__init__``是不会被调用的，即使是父类的实例也不行，将没有``__init__``被调用"
   ]
  },
  {
   "cell_type": "markdown",
   "metadata": {},
   "source": [
    "利用``__new__``实现单例模式"
   ]
  },
  {
   "cell_type": "code",
   "execution_count": 4,
   "metadata": {
    "ExecuteTime": {
     "end_time": "2020-08-12T08:29:04.486381Z",
     "start_time": "2020-08-12T08:29:04.482389Z"
    }
   },
   "outputs": [
    {
     "name": "stdout",
     "output_type": "stream",
     "text": [
      "1938790820744\n",
      "1938790741512\n"
     ]
    }
   ],
   "source": [
    "class Earth:\n",
    "    pass\n",
    "\n",
    "\n",
    "a = Earth()\n",
    "print(id(a))  \n",
    "b = Earth()\n",
    "print(id(b))"
   ]
  },
  {
   "cell_type": "code",
   "execution_count": 5,
   "metadata": {
    "ExecuteTime": {
     "end_time": "2020-08-12T08:29:04.751166Z",
     "start_time": "2020-08-12T08:29:04.746983Z"
    }
   },
   "outputs": [
    {
     "name": "stdout",
     "output_type": "stream",
     "text": [
      "1938790889352\n",
      "1938790889352\n"
     ]
    }
   ],
   "source": [
    "class Earth:\n",
    "    __instance = None  # 定义一个类属性做判断\n",
    "\n",
    "    def __new__(cls):\n",
    "        if cls.__instance is None:\n",
    "            cls.__instance = object.__new__(cls)\n",
    "            return cls.__instance\n",
    "        else:\n",
    "            return cls.__instance\n",
    "\n",
    "\n",
    "a = Earth()\n",
    "print(id(a))  \n",
    "b = Earth()\n",
    "print(id(b)) "
   ]
  },
  {
   "cell_type": "markdown",
   "metadata": {},
   "source": [
    "#### 1.4 ``__new__``方法主要是当你继承一些不可变的 class 时（比如int, str, tuple）， 提供给你一个自定义这些类的实例化过程的途径"
   ]
  },
  {
   "cell_type": "code",
   "execution_count": 6,
   "metadata": {
    "ExecuteTime": {
     "end_time": "2020-08-12T08:29:05.488355Z",
     "start_time": "2020-08-12T08:29:05.484354Z"
    }
   },
   "outputs": [
    {
     "name": "stdout",
     "output_type": "stream",
     "text": [
      "I LOVE LSGOGROUP\n"
     ]
    }
   ],
   "source": [
    "class CapStr(str):\n",
    "    def __new__(cls, string):\n",
    "        string = string.upper()\n",
    "        return str.__new__(cls, string)\n",
    "\n",
    "\n",
    "a = CapStr(\"i love lsgogroup\")\n",
    "print(a)"
   ]
  },
  {
   "cell_type": "markdown",
   "metadata": {},
   "source": [
    "#### 1.5 ``__del__(self)`` 析构器，当一个对象将要被系统回收之时调用的方法"
   ]
  },
  {
   "cell_type": "markdown",
   "metadata": {},
   "source": [
    "Python 采用自动引用计数（ARC）方式来回收对象所占用的空间，当程序中有一个变量引用该 Python 对象时，Python 会自动保证该对象引用计数为 1；当程序中有两个变量引用该 Python 对象时，Python 会自动保证该对象引用计数为 2，依此类推，如果一个对象的引用计数变成了 0，则说明程序中不再有变量引用该对象，表明程序不再需要该对象，因此 Python 就会回收该对象"
   ]
  },
  {
   "cell_type": "markdown",
   "metadata": {},
   "source": [
    "大部分时候，Python 的 ARC 都能准确、高效地回收系统中的每个对象。但如果系统中出现循环引用的情况，比如对象 a 持有一个实例变量引用对象 b，而对象 b 又持有一个实例变量引用对象 a，此时两个对象的引用计数都是 1，而实际上程序已经不再有变量引用它们，系统应该回收它们，此时 Python 的垃圾回收器就可能没那么快，要等专门的循环垃圾回收器（Cyclic Garbage Collector）来检测并回收这种引用循环"
   ]
  },
  {
   "cell_type": "code",
   "execution_count": 7,
   "metadata": {
    "ExecuteTime": {
     "end_time": "2020-08-12T08:29:06.695900Z",
     "start_time": "2020-08-12T08:29:06.690909Z"
    }
   },
   "outputs": [
    {
     "name": "stdout",
     "output_type": "stream",
     "text": [
      "into C __init__\n"
     ]
    }
   ],
   "source": [
    "class C(object):\n",
    "    def __init__(self):\n",
    "        print('into C __init__')\n",
    "\n",
    "    def __del__(self):\n",
    "        print('into C __del__')\n",
    "\n",
    "\n",
    "c1 = C()"
   ]
  },
  {
   "cell_type": "code",
   "execution_count": 8,
   "metadata": {
    "ExecuteTime": {
     "end_time": "2020-08-12T08:29:07.061283Z",
     "start_time": "2020-08-12T08:29:07.058282Z"
    }
   },
   "outputs": [],
   "source": [
    "c2 = c1\n",
    "c3 = c2\n",
    "del c3\n",
    "del c2"
   ]
  },
  {
   "cell_type": "code",
   "execution_count": 9,
   "metadata": {
    "ExecuteTime": {
     "end_time": "2020-08-12T08:29:07.590358Z",
     "start_time": "2020-08-12T08:29:07.587358Z"
    }
   },
   "outputs": [
    {
     "name": "stdout",
     "output_type": "stream",
     "text": [
      "into C __del__\n"
     ]
    }
   ],
   "source": [
    "del c1"
   ]
  },
  {
   "cell_type": "markdown",
   "metadata": {},
   "source": [
    "#### 1.6 ``__str__(self):``"
   ]
  },
  {
   "cell_type": "markdown",
   "metadata": {},
   "source": [
    "+ 当你打印一个对象的时候，触发``__str__``\n",
    "+ 当你使用``%s``格式化的时候，触发``__str__``\n",
    "+ ``str``强转数据类型的时候，触发``__str__``"
   ]
  },
  {
   "cell_type": "markdown",
   "metadata": {},
   "source": [
    "#### 1.7 ``__repr__(self)：``"
   ]
  },
  {
   "cell_type": "markdown",
   "metadata": {},
   "source": [
    "+ ``repr``是``str``的备胎\n",
    "+ 有``__str__``的时候执行``__str__``,没有实现``__str__``的时候，执行``__repr__``\n",
    "+ ``repr(obj)``内置函数对应的结果是``__repr__``的返回值\n",
    "+ 当你使用``%r``格式化的时候 触发``__repr__``"
   ]
  },
  {
   "cell_type": "code",
   "execution_count": 10,
   "metadata": {
    "ExecuteTime": {
     "end_time": "2020-08-12T08:29:09.115572Z",
     "start_time": "2020-08-12T08:29:09.107571Z"
    }
   },
   "outputs": [],
   "source": [
    "class Cat:\n",
    "    \"\"\"定义一个猫类\"\"\"\n",
    "\n",
    "    def __init__(self, new_name, new_age):\n",
    "        \"\"\"在创建完对象之后 会自动调用, 它完成对象的初始化的功能\"\"\"\n",
    "        self.name = new_name\n",
    "        self.age = new_age\n",
    "\n",
    "    def __str__(self):\n",
    "        \"\"\"返回一个对象的描述信息\"\"\"\n",
    "        return \"名字是:%s , 年龄是:%d\" % (self.name, self.age)\n",
    "        \n",
    "    def __repr__(self):\n",
    "        \"\"\"返回一个对象的描述信息\"\"\"\n",
    "        return \"Cat:(%s,%d)\" % (self.name, self.age)\n",
    "\n",
    "    def eat(self):\n",
    "        print(\"%s在吃鱼....\" % self.name)\n",
    "\n",
    "    def drink(self):\n",
    "        print(\"%s在喝可乐...\" % self.name)\n",
    "\n",
    "    def introduce(self):\n",
    "        print(\"名字是:%s, 年龄是:%d\" % (self.name, self.age))"
   ]
  },
  {
   "cell_type": "code",
   "execution_count": 11,
   "metadata": {
    "ExecuteTime": {
     "end_time": "2020-08-12T08:29:09.439641Z",
     "start_time": "2020-08-12T08:29:09.435631Z"
    }
   },
   "outputs": [
    {
     "name": "stdout",
     "output_type": "stream",
     "text": [
      "名字是:汤姆 , 年龄是:30\n",
      "名字是:汤姆 , 年龄是:30\n",
      "Cat:(汤姆,30)\n",
      "汤姆在吃鱼....\n",
      "名字是:汤姆, 年龄是:30\n"
     ]
    }
   ],
   "source": [
    "tom = Cat(\"汤姆\", 30)\n",
    "print(tom)\n",
    "print(str(tom)) \n",
    "print(repr(tom))  \n",
    "tom.eat()  \n",
    "tom.introduce()"
   ]
  },
  {
   "cell_type": "markdown",
   "metadata": {},
   "source": [
    "#### 1.8 ``__str__(self)`` 的返回结果可读性强。也就是说，``__str__`` 的意义是得到便于人们阅读的信息，就像下面的 '2019-10-11' 一样"
   ]
  },
  {
   "cell_type": "markdown",
   "metadata": {},
   "source": [
    "#### 1.9 ``__repr__(self)`` 的返回结果应更准确。怎么说，``__repr__`` 存在的目的在于调试，便于开发者使用"
   ]
  },
  {
   "cell_type": "code",
   "execution_count": 12,
   "metadata": {
    "ExecuteTime": {
     "end_time": "2020-08-12T08:29:10.664791Z",
     "start_time": "2020-08-12T08:29:10.659789Z"
    }
   },
   "outputs": [
    {
     "name": "stdout",
     "output_type": "stream",
     "text": [
      "2020-08-12\n",
      "datetime.date(2020, 8, 12)\n",
      "2020-08-12\n",
      "datetime.date(2020, 8, 12)\n"
     ]
    }
   ],
   "source": [
    "import datetime\n",
    "\n",
    "today = datetime.date.today()\n",
    "print(str(today))  \n",
    "print(repr(today))  \n",
    "print('%s' %today)  \n",
    "print('%r' %today)"
   ]
  },
  {
   "cell_type": "markdown",
   "metadata": {},
   "source": [
    "## 2. 算术运算符"
   ]
  },
  {
   "cell_type": "markdown",
   "metadata": {},
   "source": [
    "类型工厂函数，指的是``不通过类而是通过函数来创建对``"
   ]
  },
  {
   "cell_type": "code",
   "execution_count": 14,
   "metadata": {
    "ExecuteTime": {
     "end_time": "2020-08-12T08:35:00.103777Z",
     "start_time": "2020-08-12T08:35:00.097788Z"
    }
   },
   "outputs": [
    {
     "name": "stdout",
     "output_type": "stream",
     "text": [
      "<class 'builtin_function_or_method'>\n",
      "<class 'builtin_function_or_method'>\n",
      "<class 'type'>\n",
      "<class 'type'>\n",
      "<class 'type'>\n",
      "<class 'type'>\n",
      "123\n"
     ]
    }
   ],
   "source": [
    "class C:\n",
    "    pass\n",
    "\n",
    "\n",
    "print(type(len))  \n",
    "print(type(dir))  \n",
    "print(type(int))  \n",
    "print(type(list))  \n",
    "print(type(tuple))  \n",
    "print(type(C))  \n",
    "print(int('123'))"
   ]
  },
  {
   "cell_type": "code",
   "execution_count": 15,
   "metadata": {
    "ExecuteTime": {
     "end_time": "2020-08-12T08:35:09.503386Z",
     "start_time": "2020-08-12T08:35:09.500385Z"
    }
   },
   "outputs": [
    {
     "name": "stdout",
     "output_type": "stream",
     "text": [
      "[1, 2, 3]\n"
     ]
    }
   ],
   "source": [
    "# 这个例子中list工厂函数把一个元祖对象加工成了一个列表对象。\n",
    "print(list((1, 2, 3)))"
   ]
  },
  {
   "cell_type": "markdown",
   "metadata": {},
   "source": [
    "+ ``__add__(self, other)``定义加法的行为：``+``\n",
    "+ ``__sub__(self, other)``定义减法的行为：``-``"
   ]
  },
  {
   "cell_type": "code",
   "execution_count": 16,
   "metadata": {
    "ExecuteTime": {
     "end_time": "2020-08-12T08:36:11.158194Z",
     "start_time": "2020-08-12T08:36:11.149192Z"
    }
   },
   "outputs": [
    {
     "name": "stdout",
     "output_type": "stream",
     "text": [
      "高为 10  重为 5\n",
      "高为 20  重为 10\n",
      "高为 10  重为 5\n",
      "高为 30  重为 15\n"
     ]
    }
   ],
   "source": [
    "class MyClass:\n",
    "\n",
    "    def __init__(self, height, weight):\n",
    "        self.height = height\n",
    "        self.weight = weight\n",
    "\n",
    "    # 两个对象的长相加，宽不变.返回一个新的类\n",
    "    def __add__(self, others):\n",
    "        return MyClass(self.height + others.height, self.weight + others.weight)\n",
    "\n",
    "    # 两个对象的宽相减，长不变.返回一个新的类\n",
    "    def __sub__(self, others):\n",
    "        return MyClass(self.height - others.height, self.weight - others.weight)\n",
    "\n",
    "    # 说一下自己的参数\n",
    "    def intro(self):\n",
    "        print(\"高为\", self.height, \" 重为\", self.weight)\n",
    "\n",
    "\n",
    "def main():\n",
    "    a = MyClass(height=10, weight=5)\n",
    "    a.intro()\n",
    "\n",
    "    b = MyClass(height=20, weight=10)\n",
    "    b.intro()\n",
    "\n",
    "    c = b - a\n",
    "    c.intro()\n",
    "\n",
    "    d = a + b\n",
    "    d.intro()\n",
    "\n",
    "\n",
    "if __name__ == '__main__':\n",
    "    main()"
   ]
  },
  {
   "cell_type": "markdown",
   "metadata": {},
   "source": [
    "+ ``__mul__(self, other)``定义乘法的行为：``*``\n",
    "+ ``__truediv__(self, other)``定义真除法的行为：``/``\n",
    "+ ``__floordiv__(self, other)``定义整数除法的行为：``//``\n",
    "+ ``__mod__(self, other)`` 定义取模算法的行为：``%``\n",
    "+ ``__divmod__(self, other)``定义当被 ``divmod()`` 调用时的行为\n",
    "+ ``divmod(a, b)``把除数和余数运算结果结合起来，返回一个包含商和余数的元组``(a // b, a % b)``"
   ]
  },
  {
   "cell_type": "code",
   "execution_count": 17,
   "metadata": {
    "ExecuteTime": {
     "end_time": "2020-08-12T08:39:04.772455Z",
     "start_time": "2020-08-12T08:39:04.769454Z"
    }
   },
   "outputs": [
    {
     "name": "stdout",
     "output_type": "stream",
     "text": [
      "(3, 1)\n",
      "(4, 0)\n"
     ]
    }
   ],
   "source": [
    "print(divmod(7, 2))  \n",
    "print(divmod(8, 2))"
   ]
  },
  {
   "cell_type": "markdown",
   "metadata": {},
   "source": [
    "+ ``__pow__(self, other[, module])``定义当被 ``power()`` 调用或 ``**`` 运算时的行为\n",
    "+ ``__lshift__(self, other)``定义按位左移位的行为：``<<``\n",
    "+ ``__rshift__(self, other)``定义按位右移位的行为：``>>``\n",
    "+ ``__and__(self, other)``定义按位与操作的行为：``&``\n",
    "+ ``__xor__(self, other)``定义按位异或操作的行为：``^``\n",
    "+ ``__or__(self, other)``定义按位或操作的行为：``|``"
   ]
  },
  {
   "cell_type": "markdown",
   "metadata": {},
   "source": [
    "## 3. 反算术运算符"
   ]
  },
  {
   "cell_type": "markdown",
   "metadata": {},
   "source": [
    "反运算魔方方法，与算术运算符保持一一对应，不同之处就是反运算的魔法方法多了一个“r”。当文件左操作不支持相应的操作时被调用"
   ]
  },
  {
   "cell_type": "markdown",
   "metadata": {},
   "source": [
    "+ ``__radd__(self, other)``定义加法的行为：``+``\n",
    "+ ``__rsub__(self, other)``定义减法的行为：``-``\n",
    "+ ``__rmul__(self, other)``定义乘法的行为：``*``\n",
    "+ ``__rtruediv__(self, other)``定义真除法的行为：``/``\n",
    "+ ``__rfloordiv__(self, other)``定义整数除法的行为：``//``\n",
    "+ ``__rmod__(self, other)`` 定义取模算法的行为：``%``\n",
    "+ ``__rdivmod__(self, other)``定义当被 ``divmod()`` 调用时的行为\n",
    "+ ``__rpow__(self, other[, module])``定义当被 ``power()`` 调用或 ``**`` 运算时的行为\n",
    "+ ``__rlshift__(self, other)``定义按位左移位的行为：``<<``\n",
    "+ ``__rrshift__(self, other)``定义按位右移位的行为：``>>``\n",
    "+ ``__rand__(self, other)``定义按位与操作的行为：``&``\n",
    "+ ``__rxor__(self, other)``定义按位异或操作的行为：``^``\n",
    "+ ``__ror__(self, other)``定义按位或操作的行为：``|``"
   ]
  },
  {
   "cell_type": "markdown",
   "metadata": {},
   "source": [
    "``a + b``\n",
    "<br>\n",
    "这里加数是``a``，被加数是``b``，因此是``a``主动，反运算就是如果``a``对象的``__add__()``方法没有实现或者不支持相应的操作，那么 Python 就会调用``b``的``__radd__()``方法"
   ]
  },
  {
   "cell_type": "code",
   "execution_count": 18,
   "metadata": {
    "ExecuteTime": {
     "end_time": "2020-08-12T08:47:00.969107Z",
     "start_time": "2020-08-12T08:47:00.963118Z"
    }
   },
   "outputs": [
    {
     "name": "stdout",
     "output_type": "stream",
     "text": [
      "8\n",
      "-2\n"
     ]
    }
   ],
   "source": [
    "class Nint(int):\n",
    "    def __radd__(self, other):\n",
    "        return int.__sub__(other, self) # 注意 self 在后面\n",
    "\n",
    "\n",
    "a = Nint(5)\n",
    "b = Nint(3)\n",
    "print(a + b)  \n",
    "print(1 + b) "
   ]
  },
  {
   "cell_type": "markdown",
   "metadata": {},
   "source": [
    "## 4. 增量赋值运算符"
   ]
  },
  {
   "cell_type": "markdown",
   "metadata": {},
   "source": [
    "+ ``__iadd__(self, other)``定义赋值加法的行为：``+=``\n",
    "+ ``__isub__(self, other)``定义赋值减法的行为：``-=``\n",
    "+ ``__imul__(self, other)``定义赋值乘法的行为：``*=``\n",
    "+ ``__itruediv__(self, other)``定义赋值真除法的行为：``/=``\n",
    "+ ``__ifloordiv__(self, other)``定义赋值整数除法的行为：``//=``\n",
    "+ ``__imod__(self, other)``定义赋值取模算法的行为：``%=``\n",
    "+ ``__ipow__(self, other[, modulo])``定义赋值幂运算的行为：``**=``\n",
    "+ ``__ilshift__(self, other)``定义赋值按位左移位的行为：``<<=``\n",
    "+ ``__irshift__(self, other)``定义赋值按位右移位的行为：``>>=``\n",
    "+ ``__iand__(self, other)``定义赋值按位与操作的行为：``&=``\n",
    "+ ``__ixor__(self, other)``定义赋值按位异或操作的行为：``^=``\n",
    "+ ``__ior__(self, other)``定义赋值按位或操作的行为：``|=``"
   ]
  },
  {
   "cell_type": "markdown",
   "metadata": {},
   "source": [
    "## 5. 一元运算符"
   ]
  },
  {
   "cell_type": "markdown",
   "metadata": {},
   "source": [
    "+ ``__neg__(self)``定义正号的行为：``+x``\n",
    "+ ``__pos__(self)``定义负号的行为：``-x``\n",
    "+ ``__abs__(self)``定义当被``abs()``调用时的行为\n",
    "+ ``__invert__(self)``定义按位求反的行为：``~x``"
   ]
  },
  {
   "cell_type": "markdown",
   "metadata": {},
   "source": [
    "## 6. 属性访问"
   ]
  },
  {
   "cell_type": "markdown",
   "metadata": {},
   "source": [
    "+ ``__getattr__(self, name)``: 定义当用户试图获取一个不存在的属性时的行为\n",
    "+ ``__getattribute__(self, name)``：定义当该类的属性被访问时的行为（先调用该方法，查看是否存在该属性，若不存在，接着去调用``__getattr__``）\n",
    "+ ``__setattr__(self, name, value)``：定义当一个属性被设置时的行为\n",
    "+ ``__delattr__(self, name)``：定义当一个属性被删除时的行为"
   ]
  },
  {
   "cell_type": "code",
   "execution_count": 19,
   "metadata": {
    "ExecuteTime": {
     "end_time": "2020-08-12T08:53:34.097915Z",
     "start_time": "2020-08-12T08:53:34.091915Z"
    }
   },
   "outputs": [
    {
     "name": "stdout",
     "output_type": "stream",
     "text": [
      "__getattribute__\n",
      "__getattr__\n"
     ]
    }
   ],
   "source": [
    "class C:\n",
    "    def __getattribute__(self, item):\n",
    "        print('__getattribute__')\n",
    "        return super().__getattribute__(item)\n",
    "\n",
    "    def __getattr__(self, item):\n",
    "        print('__getattr__')\n",
    "\n",
    "    def __setattr__(self, key, value):\n",
    "        print('__setattr__')\n",
    "        super().__setattr__(key, value)\n",
    "\n",
    "    def __delattr__(self, item):\n",
    "        print('__delattr__')\n",
    "        super().__delattr__(item)\n",
    "\n",
    "\n",
    "c = C()\n",
    "c.x"
   ]
  },
  {
   "cell_type": "code",
   "execution_count": 20,
   "metadata": {
    "ExecuteTime": {
     "end_time": "2020-08-12T08:53:56.671146Z",
     "start_time": "2020-08-12T08:53:56.667145Z"
    }
   },
   "outputs": [
    {
     "name": "stdout",
     "output_type": "stream",
     "text": [
      "__setattr__\n"
     ]
    }
   ],
   "source": [
    "c.x = 1"
   ]
  },
  {
   "cell_type": "code",
   "execution_count": 21,
   "metadata": {
    "ExecuteTime": {
     "end_time": "2020-08-12T08:54:03.728351Z",
     "start_time": "2020-08-12T08:54:03.726350Z"
    }
   },
   "outputs": [
    {
     "name": "stdout",
     "output_type": "stream",
     "text": [
      "__delattr__\n"
     ]
    }
   ],
   "source": [
    "del c.x"
   ]
  },
  {
   "cell_type": "markdown",
   "metadata": {},
   "source": [
    "## 7. 描述符"
   ]
  },
  {
   "cell_type": "markdown",
   "metadata": {},
   "source": [
    "描述符就是将某种特殊类型的类的实例指派给另一个类的属性\n",
    "<br>\n",
    "+ ``__get__(self, instance, owner)``用于访问属性，它返回属性的值\n",
    "+ ``__set__(self, instance, value)``将在属性分配操作中调用，不返回任何内容\n",
    "+ ``__del__(self, instance)``控制删除操作，不返回任何内容"
   ]
  },
  {
   "cell_type": "code",
   "execution_count": 22,
   "metadata": {
    "ExecuteTime": {
     "end_time": "2020-08-12T08:56:12.567753Z",
     "start_time": "2020-08-12T08:56:12.562753Z"
    }
   },
   "outputs": [
    {
     "name": "stdout",
     "output_type": "stream",
     "text": [
      "__get__ <__main__.MyDecriptor object at 0x000001C368F2C2C8> <__main__.Test object at 0x000001C368F2C308> <class '__main__.Test'>\n"
     ]
    }
   ],
   "source": [
    "class MyDecriptor:\n",
    "    def __get__(self, instance, owner):\n",
    "        print('__get__', self, instance, owner)\n",
    "\n",
    "    def __set__(self, instance, value):\n",
    "        print('__set__', self, instance, value)\n",
    "\n",
    "    def __delete__(self, instance):\n",
    "        print('__delete__', self, instance)\n",
    "\n",
    "\n",
    "class Test:\n",
    "    x = MyDecriptor()\n",
    "\n",
    "\n",
    "t = Test()\n",
    "t.x"
   ]
  },
  {
   "cell_type": "code",
   "execution_count": 23,
   "metadata": {
    "ExecuteTime": {
     "end_time": "2020-08-12T08:57:29.598095Z",
     "start_time": "2020-08-12T08:57:29.596004Z"
    }
   },
   "outputs": [
    {
     "name": "stdout",
     "output_type": "stream",
     "text": [
      "__set__ <__main__.MyDecriptor object at 0x000001C368F2C2C8> <__main__.Test object at 0x000001C368F2C308> x-man\n"
     ]
    }
   ],
   "source": [
    "t.x = 'x-man'"
   ]
  },
  {
   "cell_type": "code",
   "execution_count": 24,
   "metadata": {
    "ExecuteTime": {
     "end_time": "2020-08-12T08:57:37.288233Z",
     "start_time": "2020-08-12T08:57:37.284241Z"
    }
   },
   "outputs": [
    {
     "name": "stdout",
     "output_type": "stream",
     "text": [
      "__delete__ <__main__.MyDecriptor object at 0x000001C368F2C2C8> <__main__.Test object at 0x000001C368F2C308>\n"
     ]
    }
   ],
   "source": [
    "del t.x"
   ]
  },
  {
   "cell_type": "markdown",
   "metadata": {},
   "source": [
    "扩展参考：\n",
    "<br>\n",
    "[技术图文：什么是Python的描述符？](https://github.com/datawhalechina/team-learning-program/blob/master/PythonLanguage/14.%20%E9%AD%94%E6%B3%95%E6%96%B9%E6%B3%95.md)"
   ]
  },
  {
   "cell_type": "markdown",
   "metadata": {},
   "source": [
    "## 8. 定制序列"
   ]
  },
  {
   "cell_type": "markdown",
   "metadata": {},
   "source": [
    "协议（Protocols）与其它编程语言中的接口很相似，它规定你哪些方法必须要定义。然而，在 Python 中的协议就显得不那么正式。事实上，在 Python 中，协议更像是一种指南"
   ]
  },
  {
   "cell_type": "markdown",
   "metadata": {},
   "source": [
    "**容器类型的协议**\n",
    "<br>\n",
    "+ 如果说你希望定制的容器是不可变的话，你只需要定义``__len__()``和``__getitem__()``方法\n",
    "+ 如果你希望定制的容器是可变的话，除了``__len__()``和``__getitem__()``方法，你还需要定义``__setitem__()``和``__delitem__()``两个方法"
   ]
  },
  {
   "cell_type": "code",
   "execution_count": 29,
   "metadata": {
    "ExecuteTime": {
     "end_time": "2020-08-12T09:03:51.520377Z",
     "start_time": "2020-08-12T09:03:51.512375Z"
    }
   },
   "outputs": [
    {
     "name": "stdout",
     "output_type": "stream",
     "text": [
      "3\n",
      "6\n",
      "7\n"
     ]
    }
   ],
   "source": [
    "# 编写一个不可改变的自定义列表，要求记录列表中每个元素被访问的次数\n",
    "class CountList:\n",
    "    def __init__(self, *args):\n",
    "        self.values = [x for x in args]\n",
    "        self.count = {}.fromkeys(range(len(self.values)), 0)\n",
    "\n",
    "    def __len__(self):\n",
    "        return len(self.values)\n",
    "\n",
    "    def __getitem__(self, item):\n",
    "        self.count[item] += 1\n",
    "        return self.values[item]\n",
    "\n",
    "\n",
    "c1 = CountList(1, 3, 5, 7, 9)\n",
    "c2 = CountList(2, 4, 6, 8, 10)\n",
    "print(c1[1])  \n",
    "print(c2[2])  \n",
    "print(c1[1] + c2[1])"
   ]
  },
  {
   "cell_type": "code",
   "execution_count": 30,
   "metadata": {
    "ExecuteTime": {
     "end_time": "2020-08-12T09:03:51.880512Z",
     "start_time": "2020-08-12T09:03:51.877511Z"
    }
   },
   "outputs": [
    {
     "name": "stdout",
     "output_type": "stream",
     "text": [
      "{0: 0, 1: 2, 2: 0, 3: 0, 4: 0}\n"
     ]
    }
   ],
   "source": [
    "print(c1.count)"
   ]
  },
  {
   "cell_type": "code",
   "execution_count": 31,
   "metadata": {
    "ExecuteTime": {
     "end_time": "2020-08-12T09:03:52.286067Z",
     "start_time": "2020-08-12T09:03:52.284015Z"
    }
   },
   "outputs": [
    {
     "name": "stdout",
     "output_type": "stream",
     "text": [
      "{0: 0, 1: 1, 2: 1, 3: 0, 4: 0}\n"
     ]
    }
   ],
   "source": [
    "print(c2.count)"
   ]
  },
  {
   "cell_type": "markdown",
   "metadata": {},
   "source": [
    "+ ``__len__(self)``定义当被``len()``调用时的行为（返回容器中元素的个数）\n",
    "+ ``__getitem__(self, key)``定义获取容器中元素的行为，相当于``self[key]``\n",
    "+ ``__setitem__(self, key, value)``定义设置容器中指定元素的行为，相当于``self[key] = value``\n",
    "+ ``__delitem__(self, key)``定义删除容器中指定元素的行为，相当于``del self[key]``"
   ]
  },
  {
   "cell_type": "code",
   "execution_count": 32,
   "metadata": {
    "ExecuteTime": {
     "end_time": "2020-08-12T09:05:35.365433Z",
     "start_time": "2020-08-12T09:05:35.355442Z"
    }
   },
   "outputs": [
    {
     "name": "stdout",
     "output_type": "stream",
     "text": [
      "3\n",
      "6\n"
     ]
    }
   ],
   "source": [
    "# 编写一个可改变的自定义列表，要求记录列表中每个元素被访问的次数\n",
    "class CountList:\n",
    "    def __init__(self, *args):\n",
    "        self.values = [x for x in args]\n",
    "        self.count = {}.fromkeys(range(len(self.values)), 0)\n",
    "\n",
    "    def __len__(self):\n",
    "        return len(self.values)\n",
    "\n",
    "    def __getitem__(self, item):\n",
    "        self.count[item] += 1\n",
    "        return self.values[item]\n",
    "\n",
    "    def __setitem__(self, key, value):\n",
    "        self.values[key] = value\n",
    "\n",
    "    def __delitem__(self, key):\n",
    "        del self.values[key]\n",
    "        for i in range(0, len(self.values)):\n",
    "            if i >= key:\n",
    "                self.count[i] = self.count[i + 1]\n",
    "        self.count.pop(len(self.values))\n",
    "\n",
    "\n",
    "c1 = CountList(1, 3, 5, 7, 9)\n",
    "c2 = CountList(2, 4, 6, 8, 10)\n",
    "print(c1[1])  \n",
    "print(c2[2])"
   ]
  },
  {
   "cell_type": "code",
   "execution_count": 33,
   "metadata": {
    "ExecuteTime": {
     "end_time": "2020-08-12T09:05:45.076210Z",
     "start_time": "2020-08-12T09:05:45.072219Z"
    }
   },
   "outputs": [
    {
     "name": "stdout",
     "output_type": "stream",
     "text": [
      "15\n",
      "{0: 0, 1: 2, 2: 0, 3: 0, 4: 0}\n"
     ]
    }
   ],
   "source": [
    "c2[2] = 12\n",
    "print(c1[1] + c2[2])  # 15\n",
    "print(c1.count)"
   ]
  },
  {
   "cell_type": "code",
   "execution_count": 34,
   "metadata": {
    "ExecuteTime": {
     "end_time": "2020-08-12T09:05:51.716836Z",
     "start_time": "2020-08-12T09:05:51.712844Z"
    }
   },
   "outputs": [
    {
     "name": "stdout",
     "output_type": "stream",
     "text": [
      "{0: 0, 1: 0, 2: 2, 3: 0, 4: 0}\n"
     ]
    }
   ],
   "source": [
    "print(c2.count)"
   ]
  },
  {
   "cell_type": "code",
   "execution_count": 35,
   "metadata": {
    "ExecuteTime": {
     "end_time": "2020-08-12T09:05:59.567826Z",
     "start_time": "2020-08-12T09:05:59.563824Z"
    }
   },
   "outputs": [
    {
     "name": "stdout",
     "output_type": "stream",
     "text": [
      "{0: 0, 1: 0, 2: 0, 3: 0}\n"
     ]
    }
   ],
   "source": [
    "del c1[1]\n",
    "print(c1.count)"
   ]
  },
  {
   "cell_type": "markdown",
   "metadata": {},
   "source": [
    "## 9. 迭代器"
   ]
  },
  {
   "cell_type": "markdown",
   "metadata": {},
   "source": [
    "+ 迭代是 Python 最强大的功能之一，是访问集合元素的一种方式\n",
    "+ 迭代器是一个可以记住遍历的位置的对象\n",
    "+ 迭代器对象从集合的第一个元素开始访问，直到所有的元素被访问完结束\n",
    "+ 迭代器只能往前不会后退\n",
    "+ 字符串，列表或元组对象都可用于创建迭代器"
   ]
  },
  {
   "cell_type": "code",
   "execution_count": 36,
   "metadata": {
    "ExecuteTime": {
     "end_time": "2020-08-12T09:07:15.879866Z",
     "start_time": "2020-08-12T09:07:15.876875Z"
    }
   },
   "outputs": [
    {
     "name": "stdout",
     "output_type": "stream",
     "text": [
      "l\n",
      "s\n",
      "g\n",
      "o\n",
      "g\n",
      "r\n",
      "o\n",
      "u\n",
      "p\n"
     ]
    }
   ],
   "source": [
    "string = 'lsgogroup'\n",
    "for c in string:\n",
    "    print(c)"
   ]
  },
  {
   "cell_type": "code",
   "execution_count": 37,
   "metadata": {
    "ExecuteTime": {
     "end_time": "2020-08-12T09:07:26.970227Z",
     "start_time": "2020-08-12T09:07:26.967226Z"
    }
   },
   "outputs": [
    {
     "name": "stdout",
     "output_type": "stream",
     "text": [
      "l\n",
      "s\n",
      "g\n",
      "o\n",
      "g\n",
      "r\n",
      "o\n",
      "u\n",
      "p\n"
     ]
    }
   ],
   "source": [
    "for c in iter(string):\n",
    "    print(c)"
   ]
  },
  {
   "cell_type": "code",
   "execution_count": 38,
   "metadata": {
    "ExecuteTime": {
     "end_time": "2020-08-12T09:07:37.804917Z",
     "start_time": "2020-08-12T09:07:37.799925Z"
    }
   },
   "outputs": [
    {
     "name": "stdout",
     "output_type": "stream",
     "text": [
      "B -> 百度\n",
      "A -> 阿里\n",
      "T -> 腾讯\n"
     ]
    }
   ],
   "source": [
    "links = {'B': '百度', 'A': '阿里', 'T': '腾讯'}\n",
    "for each in links:\n",
    "    print('%s -> %s' % (each, links[each]))"
   ]
  },
  {
   "cell_type": "code",
   "execution_count": 39,
   "metadata": {
    "ExecuteTime": {
     "end_time": "2020-08-12T09:07:53.029771Z",
     "start_time": "2020-08-12T09:07:53.026770Z"
    }
   },
   "outputs": [
    {
     "name": "stdout",
     "output_type": "stream",
     "text": [
      "B -> 百度\n",
      "A -> 阿里\n",
      "T -> 腾讯\n"
     ]
    }
   ],
   "source": [
    "for each in iter(links):\n",
    "    print('%s -> %s' % (each, links[each]))"
   ]
  },
  {
   "cell_type": "markdown",
   "metadata": {},
   "source": [
    "+ 迭代器有两个基本的方法：``iter()`` 和 ``next()``\n",
    "+ ``iter(object)`` 函数用来生成迭代器\n",
    "+ ``next(iterator[, default])`` 返回迭代器的下一个项目\n",
    "+ ``iterator`` -- 可迭代对象\n",
    "+ ``default`` -- 可选，用于设置在没有下一个元素时返回该默认值，如果不设置，又没有下一个元素则会触发 ``StopIteration`` 异常"
   ]
  },
  {
   "cell_type": "code",
   "execution_count": 41,
   "metadata": {
    "ExecuteTime": {
     "end_time": "2020-08-12T09:10:25.451631Z",
     "start_time": "2020-08-12T09:10:25.448388Z"
    }
   },
   "outputs": [
    {
     "name": "stdout",
     "output_type": "stream",
     "text": [
      "B\n",
      "A\n",
      "T\n"
     ]
    }
   ],
   "source": [
    "links = {'B': '百度', 'A': '阿里', 'T': '腾讯'}\n",
    "it = iter(links)\n",
    "print(next(it))  \n",
    "print(next(it))  \n",
    "print(next(it))  "
   ]
  },
  {
   "cell_type": "code",
   "execution_count": 42,
   "metadata": {
    "ExecuteTime": {
     "end_time": "2020-08-12T09:10:29.487070Z",
     "start_time": "2020-08-12T09:10:29.481078Z"
    }
   },
   "outputs": [
    {
     "ename": "StopIteration",
     "evalue": "",
     "output_type": "error",
     "traceback": [
      "\u001b[1;31m---------------------------------------------------------------------------\u001b[0m",
      "\u001b[1;31mStopIteration\u001b[0m                             Traceback (most recent call last)",
      "\u001b[1;32m<ipython-input-42-4d0222393be1>\u001b[0m in \u001b[0;36m<module>\u001b[1;34m\u001b[0m\n\u001b[1;32m----> 1\u001b[1;33m \u001b[0mprint\u001b[0m\u001b[1;33m(\u001b[0m\u001b[0mnext\u001b[0m\u001b[1;33m(\u001b[0m\u001b[0mit\u001b[0m\u001b[1;33m)\u001b[0m\u001b[1;33m)\u001b[0m\u001b[1;33m\u001b[0m\u001b[1;33m\u001b[0m\u001b[0m\n\u001b[0m",
      "\u001b[1;31mStopIteration\u001b[0m: "
     ]
    }
   ],
   "source": [
    "print(next(it))"
   ]
  },
  {
   "cell_type": "code",
   "execution_count": 43,
   "metadata": {
    "ExecuteTime": {
     "end_time": "2020-08-12T09:11:04.057582Z",
     "start_time": "2020-08-12T09:11:04.052580Z"
    }
   },
   "outputs": [
    {
     "name": "stdout",
     "output_type": "stream",
     "text": [
      "B\n",
      "A\n",
      "T\n"
     ]
    }
   ],
   "source": [
    "it = iter(links)\n",
    "while True:\n",
    "    try:\n",
    "        each = next(it)\n",
    "    except StopIteration:\n",
    "        break\n",
    "    print(each)"
   ]
  },
  {
   "cell_type": "markdown",
   "metadata": {},
   "source": [
    "把一个类作为一个迭代器使用需要在类中实现两个魔法方法 ``__iter__()`` 与 ``__next__()``\n",
    "<br>\n",
    "+ ``__iter__(self)``定义当迭代容器中的元素的行为，返回一个特殊的迭代器对象， 这个迭代器对象实现了 ``__next__()`` 方法并通过 ``StopIteration`` 异常标识迭代的完成\n",
    "+ ``_next__()`` 返回下一个迭代器对象\n",
    "+ ``StopIteration`` 异常用于标识迭代的完成，防止出现无限循环的情况，在 ``__next__()`` 方法中我们可以设置在完成指定循环次数后触发`` StopIteration`` 异常来结束迭代"
   ]
  },
  {
   "cell_type": "code",
   "execution_count": 44,
   "metadata": {
    "ExecuteTime": {
     "end_time": "2020-08-12T09:12:36.780796Z",
     "start_time": "2020-08-12T09:12:36.774805Z"
    }
   },
   "outputs": [
    {
     "name": "stdout",
     "output_type": "stream",
     "text": [
      "1 1 2 3 5 8 13 21 34 55 89 "
     ]
    }
   ],
   "source": [
    "class Fibs:\n",
    "    def __init__(self, n=10):\n",
    "        self.a = 0\n",
    "        self.b = 1\n",
    "        self.n = n\n",
    "\n",
    "    def __iter__(self):\n",
    "        return self\n",
    "\n",
    "    def __next__(self):\n",
    "        self.a, self.b = self.b, self.a + self.b\n",
    "        if self.a > self.n:\n",
    "            raise StopIteration\n",
    "        return self.a\n",
    "\n",
    "\n",
    "fibs = Fibs(100)\n",
    "for each in fibs:\n",
    "    print(each, end=' ')"
   ]
  },
  {
   "cell_type": "markdown",
   "metadata": {},
   "source": [
    "## 10. 生成器"
   ]
  },
  {
   "cell_type": "markdown",
   "metadata": {},
   "source": [
    "+ 在 Python 中，使用了 ``yield`` 的函数被称为生成器（generator）\n",
    "+ 跟普通函数不同的是，生成器是一个返回迭代器的函数，只能用于迭代操作，更简单点理解生成器就是一个迭代器\n",
    "+ 在调用生成器运行的过程中，每次遇到 ``yield`` 时函数会暂停并保存当前所有的运行信息，返回 ``yield`` 的值, 并在下一次执行 ``next()`` 方法时从当前位置继续运行\n",
    "+ 调用一个生成器函数，返回的是一个迭代器对象"
   ]
  },
  {
   "cell_type": "code",
   "execution_count": 51,
   "metadata": {
    "ExecuteTime": {
     "end_time": "2020-08-12T09:15:22.149617Z",
     "start_time": "2020-08-12T09:15:22.145616Z"
    }
   },
   "outputs": [
    {
     "name": "stdout",
     "output_type": "stream",
     "text": [
      "生成器执行！\n",
      "1\n"
     ]
    }
   ],
   "source": [
    "def myGen():\n",
    "    print('生成器执行！')\n",
    "    yield 1\n",
    "    yield 2\n",
    "\n",
    "\n",
    "myG = myGen()\n",
    "print(next(myG)) "
   ]
  },
  {
   "cell_type": "code",
   "execution_count": 52,
   "metadata": {
    "ExecuteTime": {
     "end_time": "2020-08-12T09:15:22.586497Z",
     "start_time": "2020-08-12T09:15:22.583506Z"
    }
   },
   "outputs": [
    {
     "name": "stdout",
     "output_type": "stream",
     "text": [
      "2\n"
     ]
    }
   ],
   "source": [
    "print(next(myG))  "
   ]
  },
  {
   "cell_type": "code",
   "execution_count": 53,
   "metadata": {
    "ExecuteTime": {
     "end_time": "2020-08-12T09:15:23.464038Z",
     "start_time": "2020-08-12T09:15:23.457037Z"
    }
   },
   "outputs": [
    {
     "ename": "StopIteration",
     "evalue": "",
     "output_type": "error",
     "traceback": [
      "\u001b[1;31m---------------------------------------------------------------------------\u001b[0m",
      "\u001b[1;31mStopIteration\u001b[0m                             Traceback (most recent call last)",
      "\u001b[1;32m<ipython-input-53-039abce905b3>\u001b[0m in \u001b[0;36m<module>\u001b[1;34m\u001b[0m\n\u001b[1;32m----> 1\u001b[1;33m \u001b[0mprint\u001b[0m\u001b[1;33m(\u001b[0m\u001b[0mnext\u001b[0m\u001b[1;33m(\u001b[0m\u001b[0mmyG\u001b[0m\u001b[1;33m)\u001b[0m\u001b[1;33m)\u001b[0m\u001b[1;33m\u001b[0m\u001b[1;33m\u001b[0m\u001b[0m\n\u001b[0m",
      "\u001b[1;31mStopIteration\u001b[0m: "
     ]
    }
   ],
   "source": [
    "print(next(myG))"
   ]
  },
  {
   "cell_type": "code",
   "execution_count": 54,
   "metadata": {
    "ExecuteTime": {
     "end_time": "2020-08-12T09:15:34.870364Z",
     "start_time": "2020-08-12T09:15:34.868073Z"
    }
   },
   "outputs": [
    {
     "name": "stdout",
     "output_type": "stream",
     "text": [
      "生成器执行！\n",
      "1\n",
      "2\n"
     ]
    }
   ],
   "source": [
    "myG = myGen()\n",
    "for each in myG:\n",
    "    print(each)"
   ]
  },
  {
   "cell_type": "code",
   "execution_count": 55,
   "metadata": {
    "ExecuteTime": {
     "end_time": "2020-08-12T09:15:54.362993Z",
     "start_time": "2020-08-12T09:15:54.358937Z"
    }
   },
   "outputs": [
    {
     "name": "stdout",
     "output_type": "stream",
     "text": [
      "1 1 2 3 5 8 13 21 34 55 89 "
     ]
    }
   ],
   "source": [
    "# 用生成器实现斐波那契数列\n",
    "def libs(n):\n",
    "    a = 0\n",
    "    b = 1\n",
    "    while True:\n",
    "        a, b = b, a + b\n",
    "        if a > n:\n",
    "            return\n",
    "        yield a\n",
    "\n",
    "\n",
    "for each in libs(100):\n",
    "    print(each, end=' ')"
   ]
  },
  {
   "cell_type": "code",
   "execution_count": null,
   "metadata": {},
   "outputs": [],
   "source": []
  }
 ],
 "metadata": {
  "kernelspec": {
   "display_name": "Python 3",
   "language": "python",
   "name": "python3"
  },
  "language_info": {
   "codemirror_mode": {
    "name": "ipython",
    "version": 3
   },
   "file_extension": ".py",
   "mimetype": "text/x-python",
   "name": "python",
   "nbconvert_exporter": "python",
   "pygments_lexer": "ipython3",
   "version": "3.7.4"
  }
 },
 "nbformat": 4,
 "nbformat_minor": 2
}
