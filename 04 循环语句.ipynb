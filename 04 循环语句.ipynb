{
 "cells": [
  {
   "cell_type": "markdown",
   "metadata": {},
   "source": [
    "# 循环语句"
   ]
  },
  {
   "cell_type": "markdown",
   "metadata": {},
   "source": [
    "## 1. while 循环"
   ]
  },
  {
   "cell_type": "markdown",
   "metadata": {},
   "source": [
    "1. ``while`` 循环的代码块会一直循环执行，直到布尔表达式的值为布尔假;\n",
    "2. 如果布尔表达式不带有``<``, ``>``, ``==``, ``！=``, ``in``, ``not in`` 等运算符，仅仅给出数值之类的条件，也是可以的. 当while后写入一个非零整数时，视为真值，执行循环体; 写入0时，视为假值，不执行循环体;\n",
    "3. 也可以写入``str``, ``list`` 或任何序列，长度非零则视为真值，执行循环体; 否则视为假值，不执行循环体;"
   ]
  },
  {
   "cell_type": "code",
   "execution_count": 1,
   "metadata": {},
   "outputs": [
    {
     "name": "stdout",
     "output_type": "stream",
     "text": [
      "不妨猜一下小哥哥现在心里想的是那个数字：7\n",
      "小了，小了\n",
      "不妨猜一下小哥哥现在心里想的是那个数字：9\n",
      "大了，大了\n",
      "不妨猜一下小哥哥现在心里想的是那个数字：8\n",
      "你是小哥哥心里的蛔虫吗？\n",
      "哼，猜对也没有奖励！\n",
      "游戏结束，不玩儿啦！\n"
     ]
    }
   ],
   "source": [
    "count = 0\n",
    "while count < 3:\n",
    "    temp = input(\"不妨猜一下小哥哥现在心里想的是那个数字：\")\n",
    "    guess = int(temp)\n",
    "    if guess > 8:\n",
    "        print(\"大了，大了\")\n",
    "    else:\n",
    "        if guess == 8:\n",
    "            print(\"你是小哥哥心里的蛔虫吗？\")\n",
    "            print(\"哼，猜对也没有奖励！\")\n",
    "            count = 3\n",
    "        else:\n",
    "            print(\"小了，小了\")\n",
    "    count = count + 1\n",
    "print(\"游戏结束，不玩儿啦！\")"
   ]
  },
  {
   "cell_type": "markdown",
   "metadata": {},
   "source": [
    "## 2. while-else 循环"
   ]
  },
  {
   "cell_type": "markdown",
   "metadata": {},
   "source": [
    "当 ``while`` 循环正常执行完的情况下，执行 ``else`` 输出，如果 ``while`` 循环中执行了跳出循环的语句，比如 ``break``，将不执行 ``else``代码块的内容;"
   ]
  },
  {
   "cell_type": "code",
   "execution_count": 2,
   "metadata": {},
   "outputs": [
    {
     "name": "stdout",
     "output_type": "stream",
     "text": [
      "0 less than 5\n",
      "1 less than 5\n",
      "2 less than 5\n",
      "3 less than 5\n",
      "4 less than 5\n",
      "5 is not less than 5\n"
     ]
    }
   ],
   "source": [
    "count = 0\n",
    "while count < 5:\n",
    "    print('%d less than 5' % count)\n",
    "    count += 1\n",
    "else:\n",
    "    print('%d is not less than 5' % count)"
   ]
  },
  {
   "cell_type": "markdown",
   "metadata": {},
   "source": [
    "## 3. for 循环"
   ]
  },
  {
   "cell_type": "markdown",
   "metadata": {},
   "source": [
    "1. ``for`` 循环是迭代循环，在Python中相当于一个通用的序列迭代器;\n",
    "2. ``for`` 循环可以遍历任何有序序列，如 ``str``, ``list``, ``tuple``等;\n",
    "3. ``for`` 循环也可以遍历任何可迭代对象，如 ``dict``;"
   ]
  },
  {
   "cell_type": "code",
   "execution_count": 3,
   "metadata": {},
   "outputs": [
    {
     "name": "stdout",
     "output_type": "stream",
     "text": [
      "张三\n",
      "李四\n",
      "王五\n",
      "刘六\n",
      "钱七\n"
     ]
    }
   ],
   "source": [
    "member = ['张三', '李四', '王五', '刘六', '钱七']\n",
    "for each in member:\n",
    "    print(each)"
   ]
  },
  {
   "cell_type": "code",
   "execution_count": 6,
   "metadata": {},
   "outputs": [
    {
     "name": "stdout",
     "output_type": "stream",
     "text": [
      "a:1\n",
      "b:2\n",
      "c:3\n",
      "d:4\n"
     ]
    }
   ],
   "source": [
    "dic = {'a': 1, 'b': 2, 'c': 3, 'd': 4}\n",
    "\n",
    "for key, value in dic.items():\n",
    "    print(key, value, sep=':', end='\\n')"
   ]
  },
  {
   "cell_type": "markdown",
   "metadata": {},
   "source": [
    "## 4. for-else 循环"
   ]
  },
  {
   "cell_type": "markdown",
   "metadata": {},
   "source": [
    "当 ``for`` 循环正常执行完的情况下，执行 ``else`` 输出，如果 ``while`` 循环中执行了跳出循环的语句，比如 ``break``，将不执行 ``else``代码块的内容; 与 ``while-else`` 语句一样;"
   ]
  },
  {
   "cell_type": "code",
   "execution_count": 7,
   "metadata": {},
   "outputs": [
    {
     "name": "stdout",
     "output_type": "stream",
     "text": [
      "10 等于 2 * 5\n",
      "11 是一个质数\n",
      "12 等于 2 * 6\n",
      "13 是一个质数\n",
      "14 等于 2 * 7\n",
      "15 等于 3 * 5\n",
      "16 等于 2 * 8\n",
      "17 是一个质数\n",
      "18 等于 2 * 9\n",
      "19 是一个质数\n"
     ]
    }
   ],
   "source": [
    "for num in range(10, 20):  # 迭代 10 到 20 之间的数字\n",
    "    for i in range(2, num):  # 根据因子迭代\n",
    "        if num % i == 0:  # 确定第一个因子\n",
    "            j = num / i  # 计算第二个因子\n",
    "            print('%d 等于 %d * %d' % (num, i, j))\n",
    "            break  # 跳出当前循环\n",
    "    else:  # 循环的 else 部分\n",
    "        print(num, '是一个质数')"
   ]
  },
  {
   "cell_type": "markdown",
   "metadata": {},
   "source": [
    "## 5. range() 函数"
   ]
  },
  {
   "cell_type": "markdown",
   "metadata": {},
   "source": [
    "该函数有 3 个参数, 生成一个从start参数的值开始到stop参数的值结束的数字序列，该序列包含start的值但不包含stop的值;"
   ]
  },
  {
   "cell_type": "code",
   "execution_count": 8,
   "metadata": {},
   "outputs": [
    {
     "name": "stdout",
     "output_type": "stream",
     "text": [
      "1\n",
      "3\n",
      "5\n",
      "7\n",
      "9\n"
     ]
    }
   ],
   "source": [
    "for i in range(1, 10, 2):\n",
    "    print(i)"
   ]
  },
  {
   "cell_type": "markdown",
   "metadata": {},
   "source": [
    "## 6. enumerate() 函数"
   ]
  },
  {
   "cell_type": "markdown",
   "metadata": {},
   "source": [
    "### 6.1 $enumerate( sequence, [start=0] )$"
   ]
  },
  {
   "cell_type": "markdown",
   "metadata": {},
   "source": [
    "1. sequence -- 一个序列, 迭代器或其他支持迭代对象;\n",
    "2. start -- 下标起始位置;\n",
    "3. 返回 enumerate(枚举) 对象;"
   ]
  },
  {
   "cell_type": "code",
   "execution_count": 9,
   "metadata": {},
   "outputs": [
    {
     "name": "stdout",
     "output_type": "stream",
     "text": [
      "[(0, 'Spring'), (1, 'Summer'), (2, 'Fall'), (3, 'Winter')]\n"
     ]
    }
   ],
   "source": [
    "seasons = ['Spring', 'Summer', 'Fall', 'Winter']\n",
    "lst = list(enumerate(seasons))\n",
    "print(lst)"
   ]
  },
  {
   "cell_type": "code",
   "execution_count": 10,
   "metadata": {},
   "outputs": [
    {
     "name": "stdout",
     "output_type": "stream",
     "text": [
      "[(1, 'Spring'), (2, 'Summer'), (3, 'Fall'), (4, 'Winter')]\n"
     ]
    }
   ],
   "source": [
    "lst = list(enumerate(seasons, start=1))  # 下标从 1 开始\n",
    "print(lst)"
   ]
  },
  {
   "cell_type": "markdown",
   "metadata": {},
   "source": [
    "### 6.2 ``enumerate()`` 与 ``for`` 循环的结合使用"
   ]
  },
  {
   "cell_type": "code",
   "execution_count": 13,
   "metadata": {},
   "outputs": [
    {
     "name": "stdout",
     "output_type": "stream",
     "text": [
      "I love Python\n",
      "I love R\n",
      "I love Matlab\n",
      "I love C++\n",
      "Done!\n"
     ]
    }
   ],
   "source": [
    "languages = ['Python', 'R', 'Matlab', 'C++']\n",
    "for language in languages:\n",
    "    print('I love', language)\n",
    "print('Done!')"
   ]
  },
  {
   "cell_type": "code",
   "execution_count": 14,
   "metadata": {},
   "outputs": [
    {
     "name": "stdout",
     "output_type": "stream",
     "text": [
      "2 I love Python\n",
      "3 I love R\n",
      "4 I love Matlab\n",
      "5 I love C++\n",
      "Done!\n"
     ]
    }
   ],
   "source": [
    "for i, language in enumerate(languages, 2):\n",
    "    print(i, 'I love', language)\n",
    "print('Done!')"
   ]
  },
  {
   "cell_type": "markdown",
   "metadata": {},
   "source": [
    "## 7. break 语句"
   ]
  },
  {
   "cell_type": "markdown",
   "metadata": {},
   "source": [
    "``break`` 语句可以跳出当前所在层的循环;"
   ]
  },
  {
   "cell_type": "code",
   "execution_count": 15,
   "metadata": {},
   "outputs": [
    {
     "name": "stdout",
     "output_type": "stream",
     "text": [
      "不妨猜一下小哥哥现在心里想的是那个数字：6\n",
      "大了，大了\n",
      "不妨猜一下小哥哥现在心里想的是那个数字：5\n",
      "你这样懂小哥哥的心思啊？\n",
      "哼，猜对也没有奖励！\n",
      "游戏结束，不玩儿啦！\n"
     ]
    }
   ],
   "source": [
    "import random\n",
    "secret = random.randint(1, 10) #[1,10]之间的随机数\n",
    "\n",
    "while True:\n",
    "    temp = input(\"不妨猜一下小哥哥现在心里想的是那个数字：\")\n",
    "    guess = int(temp)\n",
    "    if guess > secret:\n",
    "        print(\"大了，大了\")\n",
    "    else:\n",
    "        if guess == secret:\n",
    "            print(\"你这样懂小哥哥的心思啊？\")\n",
    "            print(\"哼，猜对也没有奖励！\")\n",
    "            break\n",
    "        else:\n",
    "            print(\"小了，小了\")\n",
    "print(\"游戏结束，不玩儿啦！\")"
   ]
  },
  {
   "cell_type": "markdown",
   "metadata": {},
   "source": [
    "## 8. continue 语句"
   ]
  },
  {
   "cell_type": "markdown",
   "metadata": {},
   "source": [
    "``continue`` 终止本轮循环并开始下一轮循环;"
   ]
  },
  {
   "cell_type": "code",
   "execution_count": 16,
   "metadata": {},
   "outputs": [
    {
     "name": "stdout",
     "output_type": "stream",
     "text": [
      "2\n",
      "1\n",
      "4\n",
      "3\n",
      "6\n",
      "5\n",
      "8\n",
      "7\n",
      "10\n",
      "9\n"
     ]
    }
   ],
   "source": [
    "for i in range(10):\n",
    "    if i % 2 != 0:\n",
    "        print(i)\n",
    "        continue\n",
    "    i += 2\n",
    "    print(i)"
   ]
  },
  {
   "cell_type": "markdown",
   "metadata": {},
   "source": [
    "## 9. pass 语句"
   ]
  },
  {
   "cell_type": "markdown",
   "metadata": {},
   "source": [
    "1. ``pass`` 是空语句，不做任何操作，只起到占位的作用，其作用是为了保持程序结构的完整性;\n",
    "2. 尽管 ``pass`` 语句不做任何操作，但如果暂时不确定要在一个位置放上什么样的代码，可以先放置一个pass语句，让代码可以正常运行;"
   ]
  },
  {
   "cell_type": "code",
   "execution_count": 18,
   "metadata": {},
   "outputs": [],
   "source": [
    "def a_func():\n",
    "    pass"
   ]
  },
  {
   "cell_type": "markdown",
   "metadata": {},
   "source": [
    "## 10. 推导式"
   ]
  },
  {
   "cell_type": "markdown",
   "metadata": {},
   "source": [
    "### 10.1 列表推导式"
   ]
  },
  {
   "cell_type": "code",
   "execution_count": 19,
   "metadata": {},
   "outputs": [
    {
     "name": "stdout",
     "output_type": "stream",
     "text": [
      "[-8, -4, 0, 4, 8]\n"
     ]
    }
   ],
   "source": [
    "x = [-4, -2, 0, 2, 4]\n",
    "y = [a * 2 for a in x]\n",
    "print(y)"
   ]
  },
  {
   "cell_type": "code",
   "execution_count": 20,
   "metadata": {},
   "outputs": [
    {
     "name": "stdout",
     "output_type": "stream",
     "text": [
      "[1, 4, 9, 16, 25, 36, 49, 64, 81]\n"
     ]
    }
   ],
   "source": [
    "x = [i ** 2 for i in range(1, 10)]\n",
    "print(x)"
   ]
  },
  {
   "cell_type": "code",
   "execution_count": 21,
   "metadata": {},
   "outputs": [
    {
     "name": "stdout",
     "output_type": "stream",
     "text": [
      "[(0, 0), (1, 1), (2, 4), (3, 9), (4, 16), (5, 25)]\n"
     ]
    }
   ],
   "source": [
    "x = [(i, i ** 2) for i in range(6)]\n",
    "print(x)"
   ]
  },
  {
   "cell_type": "code",
   "execution_count": 22,
   "metadata": {},
   "outputs": [
    {
     "name": "stdout",
     "output_type": "stream",
     "text": [
      "[3, 9, 15, 21, 27, 33, 39, 45, 51, 57, 63, 69, 75, 81, 87, 93, 99]\n"
     ]
    }
   ],
   "source": [
    "x = [i for i in range(100) if (i % 2) != 0 and (i % 3) == 0]\n",
    "print(x)"
   ]
  },
  {
   "cell_type": "code",
   "execution_count": 23,
   "metadata": {},
   "outputs": [
    {
     "name": "stdout",
     "output_type": "stream",
     "text": [
      "[(0, 0), (0, 1), (0, 2), (1, 0), (1, 1), (1, 2), (2, 0), (2, 1), (2, 2)]\n"
     ]
    }
   ],
   "source": [
    "a = [(i, j) for i in range(0, 3) for j in range(0, 3)]\n",
    "print(a)"
   ]
  },
  {
   "cell_type": "code",
   "execution_count": 26,
   "metadata": {},
   "outputs": [
    {
     "name": "stdout",
     "output_type": "stream",
     "text": [
      "[[0, 0], [0, 1], [0, 2], [1, 0], [1, 1], [1, 2], [2, 0], [2, 1], [2, 2]]\n",
      "[[10, 0], [0, 1], [0, 2], [1, 0], [1, 1], [1, 2], [2, 0], [2, 1], [2, 2]]\n"
     ]
    }
   ],
   "source": [
    "x = [[i, j] for i in range(0, 3) for j in range(0, 3)]\n",
    "print(x)\n",
    "\n",
    "x[0][0] = 10\n",
    "print(x)"
   ]
  },
  {
   "cell_type": "code",
   "execution_count": 27,
   "metadata": {},
   "outputs": [
    {
     "name": "stdout",
     "output_type": "stream",
     "text": [
      "[(0, 2)]\n"
     ]
    }
   ],
   "source": [
    "a = [(i, j) for i in range(0, 3) if i < 1 for j in range(0, 3) if j > 1]\n",
    "print(a)"
   ]
  },
  {
   "cell_type": "markdown",
   "metadata": {},
   "source": [
    "### 10.2 元组推导式"
   ]
  },
  {
   "cell_type": "code",
   "execution_count": 28,
   "metadata": {},
   "outputs": [
    {
     "name": "stdout",
     "output_type": "stream",
     "text": [
      "<generator object <genexpr> at 0x0000017EF0B68648>\n",
      "(0, 1, 2, 3, 4, 5, 6, 7, 8, 9)\n"
     ]
    }
   ],
   "source": [
    "a = (x for x in range(10))\n",
    "print(a)\n",
    "print(tuple(a))"
   ]
  },
  {
   "cell_type": "markdown",
   "metadata": {},
   "source": [
    "### 10.3 字典推导式"
   ]
  },
  {
   "cell_type": "code",
   "execution_count": 29,
   "metadata": {},
   "outputs": [
    {
     "name": "stdout",
     "output_type": "stream",
     "text": [
      "{0: True, 3: False, 6: True, 9: False}\n"
     ]
    }
   ],
   "source": [
    "b = {i: i % 2 == 0 for i in range(10) if i % 3 == 0}\n",
    "print(b)"
   ]
  },
  {
   "cell_type": "markdown",
   "metadata": {},
   "source": [
    "### 10.4 集合推导式"
   ]
  },
  {
   "cell_type": "code",
   "execution_count": 30,
   "metadata": {},
   "outputs": [
    {
     "name": "stdout",
     "output_type": "stream",
     "text": [
      "{1, 2, 3, 4, 5, 6}\n"
     ]
    }
   ],
   "source": [
    "c = {i for i in [1, 2, 3, 4, 5, 5, 6, 4, 3, 2, 1]}\n",
    "print(c)"
   ]
  },
  {
   "cell_type": "markdown",
   "metadata": {},
   "source": [
    "### 10.5 其它"
   ]
  },
  {
   "cell_type": "code",
   "execution_count": 31,
   "metadata": {},
   "outputs": [
    {
     "name": "stdout",
     "output_type": "stream",
     "text": [
      "i for i in \"I Love Lsgogroup\"\n"
     ]
    }
   ],
   "source": [
    "d = 'i for i in \"I Love Lsgogroup\"'\n",
    "print(d)"
   ]
  },
  {
   "cell_type": "code",
   "execution_count": 33,
   "metadata": {},
   "outputs": [
    {
     "name": "stdout",
     "output_type": "stream",
     "text": [
      "<generator object <genexpr> at 0x0000017EF0B68848>\n",
      "0\n",
      "1\n"
     ]
    }
   ],
   "source": [
    "e = (i for i in range(10))\n",
    "print(e)\n",
    "print(next(e))  \n",
    "print(next(e))  "
   ]
  },
  {
   "cell_type": "code",
   "execution_count": 34,
   "metadata": {},
   "outputs": [
    {
     "name": "stdout",
     "output_type": "stream",
     "text": [
      "2 3 4 5 6 7 8 9 "
     ]
    }
   ],
   "source": [
    "for each in e:\n",
    "    print(each, end=' ')"
   ]
  },
  {
   "cell_type": "code",
   "execution_count": 35,
   "metadata": {},
   "outputs": [
    {
     "name": "stdout",
     "output_type": "stream",
     "text": [
      "5050\n",
      "5050\n"
     ]
    }
   ],
   "source": [
    "s = sum([i for i in range(101)])\n",
    "print(s)  \n",
    "s = sum((i for i in range(101)))\n",
    "print(s)  "
   ]
  },
  {
   "cell_type": "markdown",
   "metadata": {},
   "source": [
    "## 11. 综合例子"
   ]
  },
  {
   "cell_type": "code",
   "execution_count": 36,
   "metadata": {},
   "outputs": [
    {
     "name": "stdout",
     "output_type": "stream",
     "text": [
      "enter password:123456\n",
      "invalid input\n",
      "enter password:345\n"
     ]
    }
   ],
   "source": [
    "passwdList = ['123', '345', '890']\n",
    "valid = False\n",
    "count = 3\n",
    "while count > 0:\n",
    "    password = input('enter password:')\n",
    "    for item in passwdList:\n",
    "        if password == item:\n",
    "            valid = True\n",
    "            break\n",
    "            \n",
    "    if not valid:\n",
    "        print('invalid input')\n",
    "        count -= 1\n",
    "        continue\n",
    "    else:\n",
    "        break"
   ]
  },
  {
   "cell_type": "markdown",
   "metadata": {},
   "source": [
    "## 12. 练习题"
   ]
  },
  {
   "cell_type": "markdown",
   "metadata": {},
   "source": [
    "#### 1. 编写一个Python程序来查找那些既可以被7整除又可以被5整除的数字，介于1500和2700之间."
   ]
  },
  {
   "cell_type": "code",
   "execution_count": 42,
   "metadata": {},
   "outputs": [
    {
     "name": "stdout",
     "output_type": "stream",
     "text": [
      "1505 is divisible by 5 and 7!\n",
      "1540 is divisible by 5 and 7!\n",
      "1575 is divisible by 5 and 7!\n",
      "1610 is divisible by 5 and 7!\n",
      "1645 is divisible by 5 and 7!\n",
      "1680 is divisible by 5 and 7!\n",
      "1715 is divisible by 5 and 7!\n",
      "1750 is divisible by 5 and 7!\n",
      "1785 is divisible by 5 and 7!\n",
      "1820 is divisible by 5 and 7!\n",
      "1855 is divisible by 5 and 7!\n",
      "1890 is divisible by 5 and 7!\n",
      "1925 is divisible by 5 and 7!\n",
      "1960 is divisible by 5 and 7!\n",
      "1995 is divisible by 5 and 7!\n",
      "2030 is divisible by 5 and 7!\n",
      "2065 is divisible by 5 and 7!\n",
      "2100 is divisible by 5 and 7!\n",
      "2135 is divisible by 5 and 7!\n",
      "2170 is divisible by 5 and 7!\n",
      "2205 is divisible by 5 and 7!\n",
      "2240 is divisible by 5 and 7!\n",
      "2275 is divisible by 5 and 7!\n",
      "2310 is divisible by 5 and 7!\n",
      "2345 is divisible by 5 and 7!\n",
      "2380 is divisible by 5 and 7!\n",
      "2415 is divisible by 5 and 7!\n",
      "2450 is divisible by 5 and 7!\n",
      "2485 is divisible by 5 and 7!\n",
      "2520 is divisible by 5 and 7!\n",
      "2555 is divisible by 5 and 7!\n",
      "2590 is divisible by 5 and 7!\n",
      "2625 is divisible by 5 and 7!\n",
      "2660 is divisible by 5 and 7!\n",
      "2695 is divisible by 5 and 7!\n"
     ]
    }
   ],
   "source": [
    "for i in range(1500, 2701):\n",
    "    if i % 5 == 0 and i % 7 == 0:\n",
    "        print('%d is divisible by 5 and 7!' % i)\n",
    "    else:\n",
    "        pass"
   ]
  },
  {
   "cell_type": "markdown",
   "metadata": {},
   "source": [
    "#### 2. 龟兔赛跑游戏"
   ]
  },
  {
   "cell_type": "markdown",
   "metadata": {},
   "source": [
    "**【题目描述】**\n",
    "<br>\n",
    "话说这个世界上有各种各样的兔子和乌龟，但是研究发现，所有的兔子和乌龟都有一个共同的特点——喜欢赛跑。于是世界上各个角落都不断在发生着乌龟和兔子的比赛，小华对此很感兴趣，于是决定研究不同兔 子和乌龟的赛跑。他发现，兔子虽然跑比乌龟快，但它们有众所周知的毛病——骄傲且懒惰，于是在与乌龟的比赛中，一旦任一秒结束后兔子发现自己领先t米或以 上，它们就会停下来休息s秒。对于不同的兔子，t，s的数值是不同的，但是所有的乌龟却是一致——它们不到终点决不停止.\n",
    "<br>\n",
    "然而有些比赛相当漫长，全程观看会耗费大量时间，而小华发现只要在每场比赛开始后记录下兔子和乌龟的数据——兔子的速度v1（表示每秒兔子能跑v1 米），乌龟的速度v2，以及兔子对应的t，s值，以及赛道的长度l——就能预测出比赛的结果。但是小华很懒，不想通过手工计算推测出比赛的结果，于是他找 到了你——清华大学计算机系的高才生——请求帮助，请你写一个程序，对于输入的一场比赛的数据v1，v2，t，s，l，预测该场比赛的结果"
   ]
  },
  {
   "cell_type": "markdown",
   "metadata": {},
   "source": [
    "**【输入】**\n",
    "<br>\n",
    "输入只有一行，包含用空格隔开的五个正整数v1，v2，t，s，l，其中(v1,v2< =100;t< =300;s< =10;l< =10000且为v1,v2的公倍数);\n",
    "<br>\n",
    "**【输出】**\n",
    "<br>\n",
    "输出包含两行，第一行输出比赛结果——一个大写字母“T”或“R”或“D”，分别表示乌龟获胜，兔子获胜，或者两者同时到达终点;\n",
    "<br>\n",
    "第二行输出一个正整数，表示获胜者（或者双方同时）到达终点所耗费的时间（秒数）."
   ]
  },
  {
   "cell_type": "code",
   "execution_count": 46,
   "metadata": {},
   "outputs": [
    {
     "name": "stdout",
     "output_type": "stream",
     "text": [
      "D\n",
      "4\n"
     ]
    }
   ],
   "source": [
    "def tortoise_and_hare(v1, v2, t, s, l):\n",
    "    l1 = 0\n",
    "    l2 = 0\n",
    "    count = 0\n",
    "    while(l1 < l and l2 < l):\n",
    "        l1 += v1 \n",
    "        l2 += v2 \n",
    "        count += 1\n",
    "        if l1 >= l or l2 >= l:  # reach destination\n",
    "            break\n",
    "        elif l1 >= l2 + t:  # hare rest s seconds\n",
    "            l2  += v2 * s\n",
    "            count += s\n",
    "    # print result\n",
    "    if l1 >= l and l2 >=l:\n",
    "        print('D')\n",
    "    elif l1 >= l and l2 <l:\n",
    "        print('R')\n",
    "    else:\n",
    "        print('T')\n",
    "    print(count)\n",
    "\n",
    "tortoise_and_hare(10, 5, 5, 2, 20)"
   ]
  },
  {
   "cell_type": "code",
   "execution_count": null,
   "metadata": {},
   "outputs": [],
   "source": []
  }
 ],
 "metadata": {
  "kernelspec": {
   "display_name": "Python 3",
   "language": "python",
   "name": "python3"
  },
  "language_info": {
   "codemirror_mode": {
    "name": "ipython",
    "version": 3
   },
   "file_extension": ".py",
   "mimetype": "text/x-python",
   "name": "python",
   "nbconvert_exporter": "python",
   "pygments_lexer": "ipython3",
   "version": "3.7.4"
  }
 },
 "nbformat": 4,
 "nbformat_minor": 2
}
