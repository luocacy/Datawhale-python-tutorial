{
 "cells": [
  {
   "cell_type": "markdown",
   "metadata": {},
   "source": [
    "# 序列"
   ]
  },
  {
   "cell_type": "markdown",
   "metadata": {},
   "source": [
    "在 Python 中，序列类型包括字符串、列表、元组、集合和字典，这些序列支持一些通用的操作，但比较特殊的是，集合和字典不支持索引、切片、相加和相乘操作;"
   ]
  },
  {
   "cell_type": "markdown",
   "metadata": {},
   "source": [
    "## 1. 针对序列的内置函数"
   ]
  },
  {
   "cell_type": "markdown",
   "metadata": {},
   "source": [
    "1. ``list(sub)`` 把一个可迭代对象转换为列表;"
   ]
  },
  {
   "cell_type": "code",
   "execution_count": 1,
   "metadata": {
    "ExecuteTime": {
     "end_time": "2020-08-06T03:24:37.956998Z",
     "start_time": "2020-08-06T03:24:37.947990Z"
    }
   },
   "outputs": [
    {
     "name": "stdout",
     "output_type": "stream",
     "text": [
      "[]\n",
      "['I', ' ', 'L', 'o', 'v', 'e', ' ', 'L', 's', 'g', 'o', 'G', 'r', 'o', 'u', 'p']\n",
      "[1, 1, 2, 3, 5, 8]\n"
     ]
    }
   ],
   "source": [
    "a = list()\n",
    "print(a)  \n",
    "\n",
    "b = 'I Love LsgoGroup'\n",
    "b = list(b)\n",
    "print(b)  \n",
    "\n",
    "c = (1, 1, 2, 3, 5, 8)\n",
    "c = list(c)\n",
    "print(c)"
   ]
  },
  {
   "cell_type": "markdown",
   "metadata": {},
   "source": [
    "2. ``tuple(sub)`` 把一个可迭代对象转换为元组;"
   ]
  },
  {
   "cell_type": "code",
   "execution_count": 2,
   "metadata": {
    "ExecuteTime": {
     "end_time": "2020-08-06T03:25:25.084332Z",
     "start_time": "2020-08-06T03:25:25.079332Z"
    }
   },
   "outputs": [
    {
     "name": "stdout",
     "output_type": "stream",
     "text": [
      "()\n",
      "('I', ' ', 'L', 'o', 'v', 'e', ' ', 'L', 's', 'g', 'o', 'G', 'r', 'o', 'u', 'p')\n",
      "(1, 1, 2, 3, 5, 8)\n"
     ]
    }
   ],
   "source": [
    "a = tuple()\n",
    "print(a)  \n",
    "\n",
    "b = 'I Love LsgoGroup'\n",
    "b = tuple(b)\n",
    "print(b)  \n",
    "\n",
    "c = [1, 1, 2, 3, 5, 8]\n",
    "c = tuple(c)\n",
    "print(c)"
   ]
  },
  {
   "cell_type": "markdown",
   "metadata": {},
   "source": [
    "3. ``str(obj)`` 把obj对象转换为字符串;"
   ]
  },
  {
   "cell_type": "code",
   "execution_count": 3,
   "metadata": {
    "ExecuteTime": {
     "end_time": "2020-08-06T03:26:14.584947Z",
     "start_time": "2020-08-06T03:26:14.582947Z"
    }
   },
   "outputs": [
    {
     "name": "stdout",
     "output_type": "stream",
     "text": [
      "123\n"
     ]
    }
   ],
   "source": [
    "a = 123\n",
    "a = str(a)\n",
    "print(a)"
   ]
  },
  {
   "cell_type": "markdown",
   "metadata": {},
   "source": [
    "4. ``len(s)`` 返回对象（字符、列表、元组等）长度或元素个数;"
   ]
  },
  {
   "cell_type": "code",
   "execution_count": 4,
   "metadata": {
    "ExecuteTime": {
     "end_time": "2020-08-06T03:27:05.049188Z",
     "start_time": "2020-08-06T03:27:05.045009Z"
    }
   },
   "outputs": [
    {
     "name": "stdout",
     "output_type": "stream",
     "text": [
      "0\n",
      "16\n",
      "16\n"
     ]
    }
   ],
   "source": [
    "a = list()\n",
    "print(len(a))  \n",
    "\n",
    "b = ('I', ' ', 'L', 'o', 'v', 'e', ' ', 'L', 's', 'g', 'o', 'G', 'r', 'o', 'u', 'p')\n",
    "print(len(b))  \n",
    "\n",
    "c = 'I Love LsgoGroup'\n",
    "print(len(c))"
   ]
  },
  {
   "cell_type": "markdown",
   "metadata": {},
   "source": [
    "5. ``max(sub)``返回序列或者参数集合中的最大值;"
   ]
  },
  {
   "cell_type": "code",
   "execution_count": 5,
   "metadata": {
    "ExecuteTime": {
     "end_time": "2020-08-06T03:27:48.758598Z",
     "start_time": "2020-08-06T03:27:48.755598Z"
    }
   },
   "outputs": [
    {
     "name": "stdout",
     "output_type": "stream",
     "text": [
      "5\n",
      "99\n",
      "v\n"
     ]
    }
   ],
   "source": [
    "print(max(1, 2, 3, 4, 5))  \n",
    "print(max([-8, 99, 3, 7, 83]))  \n",
    "print(max('IloveLsgoGroup'))"
   ]
  },
  {
   "cell_type": "markdown",
   "metadata": {},
   "source": [
    "6. ``min(sub)``返回序列或参数集合中的最小值;"
   ]
  },
  {
   "cell_type": "code",
   "execution_count": 6,
   "metadata": {
    "ExecuteTime": {
     "end_time": "2020-08-06T03:28:31.093011Z",
     "start_time": "2020-08-06T03:28:31.090011Z"
    }
   },
   "outputs": [
    {
     "name": "stdout",
     "output_type": "stream",
     "text": [
      "1\n",
      "-8\n",
      "G\n"
     ]
    }
   ],
   "source": [
    "print(min(1, 2, 3, 4, 5))  \n",
    "print(min([-8, 99, 3, 7, 83])) \n",
    "print(min('IloveLsgoGroup'))"
   ]
  },
  {
   "cell_type": "markdown",
   "metadata": {},
   "source": [
    "7. ``sum(iterable[, start=0])`` 返回序列iterable与可选参数start的总和;"
   ]
  },
  {
   "cell_type": "code",
   "execution_count": 7,
   "metadata": {
    "ExecuteTime": {
     "end_time": "2020-08-06T03:32:26.462711Z",
     "start_time": "2020-08-06T03:32:26.458628Z"
    }
   },
   "outputs": [
    {
     "name": "stdout",
     "output_type": "stream",
     "text": [
      "25\n",
      "35\n",
      "25\n",
      "45\n"
     ]
    }
   ],
   "source": [
    "print(sum([1, 3, 5, 7, 9]))  \n",
    "print(sum([1, 3, 5, 7, 9], 10))  \n",
    "print(sum((1, 3, 5, 7, 9)))  \n",
    "print(sum((1, 3, 5, 7, 9), 20))"
   ]
  },
  {
   "cell_type": "markdown",
   "metadata": {},
   "source": [
    "8. sorted(iterable, key=None, reverse=False) 对所有可迭代的对象进行排序操作;"
   ]
  },
  {
   "cell_type": "code",
   "execution_count": 8,
   "metadata": {
    "ExecuteTime": {
     "end_time": "2020-08-06T03:34:39.152552Z",
     "start_time": "2020-08-06T03:34:39.137051Z"
    }
   },
   "outputs": [
    {
     "name": "stdout",
     "output_type": "stream",
     "text": [
      "[-8, 3, 7, 83, 99]\n",
      "[99, 83, 7, 3, -8]\n",
      "[{'age': 10, 'name': 'c'}, {'age': 20, 'name': 'a'}, {'age': 25, 'name': 'b'}]\n"
     ]
    }
   ],
   "source": [
    "x = [-8, 99, 3, 7, 83]\n",
    "print(sorted(x))  \n",
    "print(sorted(x, reverse=True))  \n",
    "\n",
    "t = ({\"age\": 20, \"name\": \"a\"}, {\"age\": 25, \"name\": \"b\"}, {\"age\": 10, \"name\": \"c\"})\n",
    "x = sorted(t, key=lambda a: a[\"age\"])\n",
    "print(x)"
   ]
  },
  {
   "cell_type": "markdown",
   "metadata": {},
   "source": [
    "9. ``reversed(seq)`` 函数返回一个反转的迭代器;"
   ]
  },
  {
   "cell_type": "code",
   "execution_count": 9,
   "metadata": {
    "ExecuteTime": {
     "end_time": "2020-08-06T03:36:06.827491Z",
     "start_time": "2020-08-06T03:36:06.820481Z"
    }
   },
   "outputs": [
    {
     "name": "stdout",
     "output_type": "stream",
     "text": [
      "<class 'reversed'>\n",
      "<reversed object at 0x000001EF86ED2B08>\n",
      "['p', 'u', 'o', 'r', 'g', 'o', 'g', 's', 'l']\n",
      "['p', 'u', 'o', 'r', 'g', 'o', 'g', 's', 'l']\n",
      "[8, 7, 6, 5]\n",
      "[83, 7, 3, 99, -8]\n"
     ]
    }
   ],
   "source": [
    "s = 'lsgogroup'\n",
    "x = reversed(s)\n",
    "print(type(x))  \n",
    "print(x)  \n",
    "print(list(x))\n",
    "\n",
    "t = ('l', 's', 'g', 'o', 'g', 'r', 'o', 'u', 'p')\n",
    "print(list(reversed(t)))\n",
    "\n",
    "r = range(5, 9)\n",
    "print(list(reversed(r)))\n",
    "\n",
    "x = [-8, 99, 3, 7, 83]\n",
    "print(list(reversed(x)))"
   ]
  },
  {
   "cell_type": "markdown",
   "metadata": {},
   "source": [
    "10. ``enumerate(sequence, [start=0])``;\n",
    "<br>\n",
    "用于将一个可遍历的数据对象(如列表、元组或字符串)组合为一个索引序列，同时列出数据和数据下标，一般用在 for 循环当中;"
   ]
  },
  {
   "cell_type": "code",
   "execution_count": 10,
   "metadata": {
    "ExecuteTime": {
     "end_time": "2020-08-06T03:38:39.475827Z",
     "start_time": "2020-08-06T03:38:39.471826Z"
    }
   },
   "outputs": [
    {
     "name": "stdout",
     "output_type": "stream",
     "text": [
      "[(0, 'Spring'), (1, 'Summer'), (2, 'Fall'), (3, 'Winter')]\n",
      "[(1, 'Spring'), (2, 'Summer'), (3, 'Fall'), (4, 'Winter')]\n",
      "0,Spring\n",
      "1,Summer\n",
      "2,Fall\n",
      "3,Winter\n"
     ]
    }
   ],
   "source": [
    "seasons = ['Spring', 'Summer', 'Fall', 'Winter']\n",
    "a = list(enumerate(seasons))\n",
    "print(a)  \n",
    "\n",
    "b = list(enumerate(seasons, 1))\n",
    "print(b)  \n",
    "\n",
    "for i, element in a:\n",
    "    print('{0},{1}'.format(i, element))"
   ]
  },
  {
   "cell_type": "markdown",
   "metadata": {},
   "source": [
    "11. ``zip(iter1 [,iter2 [...]])``;"
   ]
  },
  {
   "cell_type": "markdown",
   "metadata": {},
   "source": [
    "+ 用于将可迭代的对象作为参数，将对象中对应的元素打包成一个个元组，然后返回由这些元组组成的对象，这样做的好处是节约了不少的内存。\n",
    "+ 我们可以使用 list() 转换来输出列表。\n",
    "+ 如果各个迭代器的元素个数不一致，则返回列表长度与最短的对象相同，利用 * 号操作符，可以将元组解压为列表。"
   ]
  },
  {
   "cell_type": "code",
   "execution_count": 11,
   "metadata": {
    "ExecuteTime": {
     "end_time": "2020-08-06T03:42:57.234712Z",
     "start_time": "2020-08-06T03:42:57.229711Z"
    }
   },
   "outputs": [
    {
     "name": "stdout",
     "output_type": "stream",
     "text": [
      "<zip object at 0x000001EF86EC47C8>\n",
      "[(1, 4), (2, 5), (3, 6)]\n",
      "[(1, 4), (2, 5), (3, 6)]\n",
      "[1, 2, 3]\n",
      "[4, 5, 6]\n"
     ]
    }
   ],
   "source": [
    "a = [1, 2, 3]\n",
    "b = [4, 5, 6]\n",
    "c = [4, 5, 6, 7, 8]\n",
    "\n",
    "zipped = zip(a, b)\n",
    "print(zipped)  \n",
    "print(list(zipped))  \n",
    "zipped = zip(a, c)\n",
    "print(list(zipped))  \n",
    "\n",
    "a1, a2 = zip(*zip(a, b))\n",
    "print(list(a1))  \n",
    "print(list(a2))"
   ]
  },
  {
   "cell_type": "code",
   "execution_count": null,
   "metadata": {},
   "outputs": [],
   "source": []
  }
 ],
 "metadata": {
  "kernelspec": {
   "display_name": "Python 3",
   "language": "python",
   "name": "python3"
  },
  "language_info": {
   "codemirror_mode": {
    "name": "ipython",
    "version": 3
   },
   "file_extension": ".py",
   "mimetype": "text/x-python",
   "name": "python",
   "nbconvert_exporter": "python",
   "pygments_lexer": "ipython3",
   "version": "3.7.4"
  }
 },
 "nbformat": 4,
 "nbformat_minor": 2
}
