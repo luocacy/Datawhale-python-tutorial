{
 "cells": [
  {
   "cell_type": "markdown",
   "metadata": {},
   "source": [
    "# 类与对象"
   ]
  },
  {
   "cell_type": "markdown",
   "metadata": {},
   "source": [
    "## 1. 对象 = 属性 + 方法"
   ]
  },
  {
   "cell_type": "markdown",
   "metadata": {},
   "source": [
    "对象是类的实例。换句话说，类主要定义对象的结构，然后我们以类为模板创建对象。类不但包含方法定义，而且还包含所有实例共享的数据\n",
    "<br>\n",
    "+ **封装**：信息隐蔽技术"
   ]
  },
  {
   "cell_type": "markdown",
   "metadata": {},
   "source": [
    "我们可以使用关键字 ``class`` 定义 Python 类，关键字后面紧跟类的名称、分号和类的实现"
   ]
  },
  {
   "cell_type": "code",
   "execution_count": 1,
   "metadata": {
    "ExecuteTime": {
     "end_time": "2020-08-10T02:21:42.506319Z",
     "start_time": "2020-08-10T02:21:42.500318Z"
    }
   },
   "outputs": [],
   "source": [
    "class Turtle:  # Python中的类名约定以大写字母开头\n",
    "    \"\"\"关于类的一个简单例子\"\"\"\n",
    "    # 属性\n",
    "    color = 'green'\n",
    "    weight = 10\n",
    "    legs = 4\n",
    "    shell = True\n",
    "    mouth = '大嘴'\n",
    "\n",
    "    # 方法\n",
    "    def climb(self):\n",
    "        print('我正在很努力的向前爬...')\n",
    "\n",
    "    def run(self):\n",
    "        print('我正在飞快的向前跑...')\n",
    "\n",
    "    def bite(self):\n",
    "        print('咬死你咬死你!!')\n",
    "\n",
    "    def eat(self):\n",
    "        print('有得吃，真满足...')\n",
    "\n",
    "    def sleep(self):\n",
    "        print('困了，睡了，晚安，zzz')\n"
   ]
  },
  {
   "cell_type": "code",
   "execution_count": 2,
   "metadata": {
    "ExecuteTime": {
     "end_time": "2020-08-10T02:22:00.447438Z",
     "start_time": "2020-08-10T02:22:00.442437Z"
    }
   },
   "outputs": [
    {
     "name": "stdout",
     "output_type": "stream",
     "text": [
      "<__main__.Turtle object at 0x000002015FCD2D88>\n"
     ]
    }
   ],
   "source": [
    "tt = Turtle()\n",
    "print(tt)"
   ]
  },
  {
   "cell_type": "code",
   "execution_count": 3,
   "metadata": {
    "ExecuteTime": {
     "end_time": "2020-08-10T02:22:10.709654Z",
     "start_time": "2020-08-10T02:22:10.707384Z"
    }
   },
   "outputs": [
    {
     "name": "stdout",
     "output_type": "stream",
     "text": [
      "<class '__main__.Turtle'>\n"
     ]
    }
   ],
   "source": [
    "print(type(tt))"
   ]
  },
  {
   "cell_type": "code",
   "execution_count": 4,
   "metadata": {
    "ExecuteTime": {
     "end_time": "2020-08-10T02:22:32.433043Z",
     "start_time": "2020-08-10T02:22:32.430940Z"
    }
   },
   "outputs": [
    {
     "name": "stdout",
     "output_type": "stream",
     "text": [
      "<class '__main__.Turtle'>\n"
     ]
    }
   ],
   "source": [
    "print(tt.__class__)"
   ]
  },
  {
   "cell_type": "code",
   "execution_count": 5,
   "metadata": {
    "ExecuteTime": {
     "end_time": "2020-08-10T02:25:05.408181Z",
     "start_time": "2020-08-10T02:25:05.404181Z"
    }
   },
   "outputs": [
    {
     "name": "stdout",
     "output_type": "stream",
     "text": [
      "Turtle\n"
     ]
    }
   ],
   "source": [
    "print(tt.__class__.__name__)"
   ]
  },
  {
   "cell_type": "code",
   "execution_count": 6,
   "metadata": {
    "ExecuteTime": {
     "end_time": "2020-08-10T02:25:38.134595Z",
     "start_time": "2020-08-10T02:25:38.120988Z"
    }
   },
   "outputs": [
    {
     "name": "stdout",
     "output_type": "stream",
     "text": [
      "我正在很努力的向前爬...\n"
     ]
    }
   ],
   "source": [
    "tt.climb()"
   ]
  },
  {
   "cell_type": "code",
   "execution_count": 7,
   "metadata": {
    "ExecuteTime": {
     "end_time": "2020-08-10T02:25:45.428986Z",
     "start_time": "2020-08-10T02:25:45.424986Z"
    }
   },
   "outputs": [
    {
     "name": "stdout",
     "output_type": "stream",
     "text": [
      "我正在飞快的向前跑...\n"
     ]
    }
   ],
   "source": [
    "tt.run()"
   ]
  },
  {
   "cell_type": "code",
   "execution_count": 8,
   "metadata": {
    "ExecuteTime": {
     "end_time": "2020-08-10T02:25:56.127202Z",
     "start_time": "2020-08-10T02:25:56.124202Z"
    }
   },
   "outputs": [
    {
     "name": "stdout",
     "output_type": "stream",
     "text": [
      "咬死你咬死你!!\n"
     ]
    }
   ],
   "source": [
    "tt.bite()"
   ]
  },
  {
   "cell_type": "code",
   "execution_count": 9,
   "metadata": {
    "ExecuteTime": {
     "end_time": "2020-08-10T02:26:07.999167Z",
     "start_time": "2020-08-10T02:26:07.996936Z"
    }
   },
   "outputs": [
    {
     "name": "stdout",
     "output_type": "stream",
     "text": [
      "<class 'type'>\n"
     ]
    }
   ],
   "source": [
    "# Python类也是对象。它们是type的实例\n",
    "print(type(Turtle))"
   ]
  },
  {
   "cell_type": "markdown",
   "metadata": {},
   "source": [
    "+ **继承**：子类自动共享父类之间数据和方法的机制"
   ]
  },
  {
   "cell_type": "code",
   "execution_count": 10,
   "metadata": {
    "ExecuteTime": {
     "end_time": "2020-08-10T02:28:10.043653Z",
     "start_time": "2020-08-10T02:28:10.038662Z"
    }
   },
   "outputs": [
    {
     "name": "stdout",
     "output_type": "stream",
     "text": [
      "[1, 2, 5, 7, 8, 9]\n"
     ]
    }
   ],
   "source": [
    "class MyList(list):\n",
    "    pass\n",
    "\n",
    "\n",
    "lst = MyList([1, 5, 2, 7, 8])\n",
    "lst.append(9)\n",
    "lst.sort()\n",
    "print(lst)"
   ]
  },
  {
   "cell_type": "markdown",
   "metadata": {},
   "source": [
    "+ **多态**：不同对象对同一方法响应不同的行动"
   ]
  },
  {
   "cell_type": "code",
   "execution_count": 13,
   "metadata": {
    "ExecuteTime": {
     "end_time": "2020-08-10T02:30:09.114238Z",
     "start_time": "2020-08-10T02:30:09.109236Z"
    }
   },
   "outputs": [],
   "source": [
    "class Animal:\n",
    "    def run(self):\n",
    "        raise AttributeError('子类必须实现这个方法')\n",
    "\n",
    "\n",
    "class People(Animal):\n",
    "    def run(self):\n",
    "        print('人正在走')\n",
    "\n",
    "\n",
    "class Pig(Animal):\n",
    "    def run(self):\n",
    "        print('pig is walking')\n",
    "\n",
    "\n",
    "class Dog(Animal):\n",
    "    def run(self):\n",
    "        print('dog is running')\n",
    "        \n",
    "\n",
    "def func(animal):\n",
    "    animal.run()"
   ]
  },
  {
   "cell_type": "code",
   "execution_count": 14,
   "metadata": {
    "ExecuteTime": {
     "end_time": "2020-08-10T02:30:23.334111Z",
     "start_time": "2020-08-10T02:30:23.330095Z"
    }
   },
   "outputs": [
    {
     "name": "stdout",
     "output_type": "stream",
     "text": [
      "pig is walking\n"
     ]
    }
   ],
   "source": [
    "func(Pig())"
   ]
  },
  {
   "cell_type": "markdown",
   "metadata": {},
   "source": [
    "## 2. ``self`` 是什么？"
   ]
  },
  {
   "cell_type": "markdown",
   "metadata": {},
   "source": [
    "Python 的 ``self`` 相当于 C++ 的 ``this`` 指针"
   ]
  },
  {
   "cell_type": "code",
   "execution_count": 15,
   "metadata": {
    "ExecuteTime": {
     "end_time": "2020-08-10T02:32:49.178227Z",
     "start_time": "2020-08-10T02:32:49.174236Z"
    }
   },
   "outputs": [
    {
     "name": "stdout",
     "output_type": "stream",
     "text": [
      "<__main__.Test object at 0x000002015FCDCC88>\n",
      "<class '__main__.Test'>\n"
     ]
    }
   ],
   "source": [
    "class Test:\n",
    "    def prt(self):\n",
    "        print(self)\n",
    "        print(self.__class__)\n",
    "\n",
    "\n",
    "t = Test()\n",
    "t.prt()"
   ]
  },
  {
   "cell_type": "markdown",
   "metadata": {},
   "source": [
    "**类的方法**与**普通的函数**只有一个特别的区别 —— 它们必须有一个额外的第一个参数名称（对应于该实例，即该对象本身），按照惯例它的名称是 self。在调用方法时，我们无需明确提供与参数 self 相对应的参数"
   ]
  },
  {
   "cell_type": "code",
   "execution_count": 16,
   "metadata": {
    "ExecuteTime": {
     "end_time": "2020-08-10T02:34:51.709174Z",
     "start_time": "2020-08-10T02:34:51.703183Z"
    }
   },
   "outputs": [
    {
     "name": "stdout",
     "output_type": "stream",
     "text": [
      "我叫球A,该死的，谁踢我...\n",
      "我叫球B,该死的，谁踢我...\n"
     ]
    }
   ],
   "source": [
    "class Ball:\n",
    "    def setName(self, name):\n",
    "        self.name = name\n",
    "\n",
    "    def kick(self):\n",
    "        print(\"我叫%s,该死的，谁踢我...\" % self.name)\n",
    "\n",
    "\n",
    "a = Ball()\n",
    "a.setName(\"球A\")\n",
    "b = Ball()\n",
    "b.setName(\"球B\")\n",
    "c = Ball()\n",
    "c.setName(\"球C\")\n",
    "\n",
    "a.kick()\n",
    "b.kick()"
   ]
  },
  {
   "cell_type": "markdown",
   "metadata": {},
   "source": [
    "## 3. Python 的魔法方法"
   ]
  },
  {
   "cell_type": "markdown",
   "metadata": {},
   "source": [
    "类有一个名为``__init__(self[, param1, param2...])``的魔法方法，该方法在类实例化时会自动调用"
   ]
  },
  {
   "cell_type": "code",
   "execution_count": 17,
   "metadata": {
    "ExecuteTime": {
     "end_time": "2020-08-10T02:36:50.013006Z",
     "start_time": "2020-08-10T02:36:50.008015Z"
    }
   },
   "outputs": [
    {
     "name": "stdout",
     "output_type": "stream",
     "text": [
      "我叫球A,该死的，谁踢我...\n",
      "我叫球B,该死的，谁踢我...\n"
     ]
    }
   ],
   "source": [
    "class Ball:\n",
    "    def __init__(self, name):\n",
    "        self.name = name\n",
    "\n",
    "    def kick(self):\n",
    "        print(\"我叫%s,该死的，谁踢我...\" % self.name)\n",
    "\n",
    "\n",
    "a = Ball(\"球A\")\n",
    "b = Ball(\"球B\")\n",
    "c = Ball(\"球C\")\n",
    "\n",
    "a.kick()\n",
    "b.kick()"
   ]
  },
  {
   "cell_type": "markdown",
   "metadata": {},
   "source": [
    "## 4. 公有和私有"
   ]
  },
  {
   "cell_type": "markdown",
   "metadata": {},
   "source": [
    "在 Python 中定义私有变量只需要在变量名或函数名前加上“__”两个下划线，那么这个函数或变量就会为私有的了"
   ]
  },
  {
   "cell_type": "markdown",
   "metadata": {},
   "source": [
    "+ 类的**私有属性**实例"
   ]
  },
  {
   "cell_type": "code",
   "execution_count": 19,
   "metadata": {
    "ExecuteTime": {
     "end_time": "2020-08-10T02:41:17.619751Z",
     "start_time": "2020-08-10T02:41:17.605543Z"
    }
   },
   "outputs": [
    {
     "name": "stdout",
     "output_type": "stream",
     "text": [
      "1\n",
      "2\n",
      "2\n"
     ]
    }
   ],
   "source": [
    "class JustCounter:\n",
    "    __secretCount = 0  # 私有变量\n",
    "    publicCount = 0  # 公开变量\n",
    "\n",
    "    def count(self):\n",
    "        self.__secretCount += 1\n",
    "        self.publicCount += 1\n",
    "        print(self.__secretCount)\n",
    "\n",
    "\n",
    "counter = JustCounter()\n",
    "counter.count()  \n",
    "counter.count()  \n",
    "print(counter.publicCount)    "
   ]
  },
  {
   "cell_type": "code",
   "execution_count": 20,
   "metadata": {
    "ExecuteTime": {
     "end_time": "2020-08-10T02:41:24.667546Z",
     "start_time": "2020-08-10T02:41:24.663546Z"
    }
   },
   "outputs": [
    {
     "name": "stdout",
     "output_type": "stream",
     "text": [
      "2\n"
     ]
    }
   ],
   "source": [
    "print(counter._JustCounter__secretCount)  # 2 Python的私有为伪私有"
   ]
  },
  {
   "cell_type": "code",
   "execution_count": 21,
   "metadata": {
    "ExecuteTime": {
     "end_time": "2020-08-10T02:41:27.589968Z",
     "start_time": "2020-08-10T02:41:27.583933Z"
    }
   },
   "outputs": [
    {
     "ename": "AttributeError",
     "evalue": "'JustCounter' object has no attribute '__secretCount'",
     "output_type": "error",
     "traceback": [
      "\u001b[1;31m---------------------------------------------------------------------------\u001b[0m",
      "\u001b[1;31mAttributeError\u001b[0m                            Traceback (most recent call last)",
      "\u001b[1;32m<ipython-input-21-7aced26a4181>\u001b[0m in \u001b[0;36m<module>\u001b[1;34m\u001b[0m\n\u001b[1;32m----> 1\u001b[1;33m \u001b[0mprint\u001b[0m\u001b[1;33m(\u001b[0m\u001b[0mcounter\u001b[0m\u001b[1;33m.\u001b[0m\u001b[0m__secretCount\u001b[0m\u001b[1;33m)\u001b[0m\u001b[1;33m\u001b[0m\u001b[1;33m\u001b[0m\u001b[0m\n\u001b[0m",
      "\u001b[1;31mAttributeError\u001b[0m: 'JustCounter' object has no attribute '__secretCount'"
     ]
    }
   ],
   "source": [
    "print(counter.__secretCount)"
   ]
  },
  {
   "cell_type": "markdown",
   "metadata": {},
   "source": [
    "+ 类的**私有方法**实例"
   ]
  },
  {
   "cell_type": "code",
   "execution_count": 22,
   "metadata": {
    "ExecuteTime": {
     "end_time": "2020-08-10T02:42:29.950386Z",
     "start_time": "2020-08-10T02:42:29.944371Z"
    }
   },
   "outputs": [
    {
     "name": "stdout",
     "output_type": "stream",
     "text": [
      "name  :  老马的程序人生\n",
      "url :  https://blog.csdn.net/LSGO_MYP\n"
     ]
    }
   ],
   "source": [
    "class Site:\n",
    "    def __init__(self, name, url):\n",
    "        self.name = name  # public\n",
    "        self.__url = url  # private\n",
    "\n",
    "    def who(self):\n",
    "        print('name  : ', self.name)\n",
    "        print('url : ', self.__url)\n",
    "\n",
    "    def __foo(self):  # 私有方法\n",
    "        print('这是私有方法')\n",
    "\n",
    "    def foo(self):  # 公共方法\n",
    "        print('这是公共方法')\n",
    "        self.__foo()\n",
    "\n",
    "\n",
    "x = Site('老马的程序人生', 'https://blog.csdn.net/LSGO_MYP')\n",
    "x.who()"
   ]
  },
  {
   "cell_type": "code",
   "execution_count": 23,
   "metadata": {
    "ExecuteTime": {
     "end_time": "2020-08-10T02:43:15.945678Z",
     "start_time": "2020-08-10T02:43:15.942677Z"
    }
   },
   "outputs": [
    {
     "name": "stdout",
     "output_type": "stream",
     "text": [
      "这是公共方法\n",
      "这是私有方法\n"
     ]
    }
   ],
   "source": [
    "x.foo()"
   ]
  },
  {
   "cell_type": "code",
   "execution_count": 24,
   "metadata": {
    "ExecuteTime": {
     "end_time": "2020-08-10T02:43:27.375980Z",
     "start_time": "2020-08-10T02:43:27.368470Z"
    }
   },
   "outputs": [
    {
     "ename": "AttributeError",
     "evalue": "'Site' object has no attribute '__foo'",
     "output_type": "error",
     "traceback": [
      "\u001b[1;31m---------------------------------------------------------------------------\u001b[0m",
      "\u001b[1;31mAttributeError\u001b[0m                            Traceback (most recent call last)",
      "\u001b[1;32m<ipython-input-24-6b29c9f2e0b8>\u001b[0m in \u001b[0;36m<module>\u001b[1;34m\u001b[0m\n\u001b[1;32m----> 1\u001b[1;33m \u001b[0mx\u001b[0m\u001b[1;33m.\u001b[0m\u001b[0m__foo\u001b[0m\u001b[1;33m(\u001b[0m\u001b[1;33m)\u001b[0m\u001b[1;33m\u001b[0m\u001b[1;33m\u001b[0m\u001b[0m\n\u001b[0m",
      "\u001b[1;31mAttributeError\u001b[0m: 'Site' object has no attribute '__foo'"
     ]
    }
   ],
   "source": [
    "x.__foo()"
   ]
  },
  {
   "cell_type": "markdown",
   "metadata": {
    "ExecuteTime": {
     "end_time": "2020-08-10T02:43:51.546520Z",
     "start_time": "2020-08-10T02:43:51.539517Z"
    }
   },
   "source": [
    "## 5. 继承"
   ]
  },
  {
   "cell_type": "markdown",
   "metadata": {},
   "source": [
    "如果子类中定义与父类同名的方法或属性，则会自动覆盖父类对应的方法或属性"
   ]
  },
  {
   "cell_type": "code",
   "execution_count": 30,
   "metadata": {
    "ExecuteTime": {
     "end_time": "2020-08-10T02:52:54.477280Z",
     "start_time": "2020-08-10T02:52:54.472279Z"
    }
   },
   "outputs": [
    {
     "name": "stdout",
     "output_type": "stream",
     "text": [
      "小马 说: 我 10 岁。\n"
     ]
    }
   ],
   "source": [
    "# 类定义\n",
    "class people:\n",
    "    # 定义基本属性\n",
    "    name = ''\n",
    "    age = 0\n",
    "    # 定义私有属性,私有属性在类外部无法直接进行访问\n",
    "    __weight = 0\n",
    "\n",
    "    # 定义构造方法\n",
    "    def __init__(self, n, a, w):\n",
    "        self.name = n\n",
    "        self.age = a\n",
    "        self.__weight = w\n",
    "\n",
    "    def speak(self):\n",
    "        print(\"%s 说: 我 %d 岁。\" % (self.name, self.age))\n",
    "\n",
    "\n",
    "s = people('小马', 10, 60)\n",
    "s.speak()"
   ]
  },
  {
   "cell_type": "code",
   "execution_count": 36,
   "metadata": {
    "ExecuteTime": {
     "end_time": "2020-08-10T02:57:30.380021Z",
     "start_time": "2020-08-10T02:57:30.375020Z"
    }
   },
   "outputs": [
    {
     "name": "stdout",
     "output_type": "stream",
     "text": [
      "小马 说: 我 10 岁了，我在读 3 年级\n"
     ]
    }
   ],
   "source": [
    "# 单继承示例\n",
    "class student(people):\n",
    "    grade = ''\n",
    "\n",
    "    def __init__(self, n, a, w, g):\n",
    "        # 调用父类的构函\n",
    "        people.__init__(self, n, a, w)\n",
    "        self.grade = g\n",
    "\n",
    "    # 覆写父类的方法\n",
    "    def speak(self):\n",
    "        print(\"%s 说: 我 %d 岁了，我在读 %d 年级\" % (self.name, self.age, self.grade))\n",
    "              \n",
    "              \n",
    "s = student('小马', 10, 60, 3)\n",
    "s.speak()"
   ]
  },
  {
   "cell_type": "markdown",
   "metadata": {},
   "source": [
    "注意：如果上面的程序去掉：``people.__init__(self, n, a, w)``，则输出：`` 说: 我 0 岁了，我在读 3 年级``，因为子类的构造方法把父类的构造方法覆盖了"
   ]
  },
  {
   "cell_type": "code",
   "execution_count": 37,
   "metadata": {
    "ExecuteTime": {
     "end_time": "2020-08-10T02:58:26.670613Z",
     "start_time": "2020-08-10T02:58:26.662607Z"
    }
   },
   "outputs": [],
   "source": [
    "import random\n",
    "\n",
    "class Fish:\n",
    "    def __init__(self):\n",
    "        self.x = random.randint(0, 10)\n",
    "        self.y = random.randint(0, 10)\n",
    "\n",
    "    def move(self):\n",
    "        self.x -= 1\n",
    "        print(\"我的位置\", self.x, self.y)\n",
    "\n",
    "\n",
    "class GoldFish(Fish):  # 金鱼\n",
    "    pass\n",
    "\n",
    "\n",
    "class Carp(Fish):  # 鲤鱼\n",
    "    pass\n",
    "\n",
    "\n",
    "class Salmon(Fish):  # 三文鱼\n",
    "    pass\n",
    "\n",
    "\n",
    "class Shark(Fish):  # 鲨鱼\n",
    "    def __init__(self):\n",
    "        self.hungry = True\n",
    "\n",
    "    def eat(self):\n",
    "        if self.hungry:\n",
    "            print(\"吃货的梦想就是天天有得吃！\")\n",
    "            self.hungry = False\n",
    "        else:\n",
    "            print(\"太撑了，吃不下了！\")\n",
    "            self.hungry = Tru"
   ]
  },
  {
   "cell_type": "code",
   "execution_count": 38,
   "metadata": {
    "ExecuteTime": {
     "end_time": "2020-08-10T02:58:36.522751Z",
     "start_time": "2020-08-10T02:58:36.519749Z"
    }
   },
   "outputs": [
    {
     "name": "stdout",
     "output_type": "stream",
     "text": [
      "我的位置 7 4\n"
     ]
    }
   ],
   "source": [
    "g = GoldFish()\n",
    "g.move()"
   ]
  },
  {
   "cell_type": "code",
   "execution_count": 39,
   "metadata": {
    "ExecuteTime": {
     "end_time": "2020-08-10T02:58:49.012227Z",
     "start_time": "2020-08-10T02:58:49.010236Z"
    }
   },
   "outputs": [
    {
     "name": "stdout",
     "output_type": "stream",
     "text": [
      "吃货的梦想就是天天有得吃！\n"
     ]
    }
   ],
   "source": [
    "s = Shark()\n",
    "s.eat()"
   ]
  },
  {
   "cell_type": "code",
   "execution_count": 40,
   "metadata": {
    "ExecuteTime": {
     "end_time": "2020-08-10T02:58:58.980676Z",
     "start_time": "2020-08-10T02:58:58.971178Z"
    }
   },
   "outputs": [
    {
     "ename": "AttributeError",
     "evalue": "'Shark' object has no attribute 'x'",
     "output_type": "error",
     "traceback": [
      "\u001b[1;31m---------------------------------------------------------------------------\u001b[0m",
      "\u001b[1;31mAttributeError\u001b[0m                            Traceback (most recent call last)",
      "\u001b[1;32m<ipython-input-40-1bef03edb325>\u001b[0m in \u001b[0;36m<module>\u001b[1;34m\u001b[0m\n\u001b[1;32m----> 1\u001b[1;33m \u001b[0ms\u001b[0m\u001b[1;33m.\u001b[0m\u001b[0mmove\u001b[0m\u001b[1;33m(\u001b[0m\u001b[1;33m)\u001b[0m\u001b[1;33m\u001b[0m\u001b[1;33m\u001b[0m\u001b[0m\n\u001b[0m",
      "\u001b[1;32m<ipython-input-37-69de7bdda55e>\u001b[0m in \u001b[0;36mmove\u001b[1;34m(self)\u001b[0m\n\u001b[0;32m      7\u001b[0m \u001b[1;33m\u001b[0m\u001b[0m\n\u001b[0;32m      8\u001b[0m     \u001b[1;32mdef\u001b[0m \u001b[0mmove\u001b[0m\u001b[1;33m(\u001b[0m\u001b[0mself\u001b[0m\u001b[1;33m)\u001b[0m\u001b[1;33m:\u001b[0m\u001b[1;33m\u001b[0m\u001b[1;33m\u001b[0m\u001b[0m\n\u001b[1;32m----> 9\u001b[1;33m         \u001b[0mself\u001b[0m\u001b[1;33m.\u001b[0m\u001b[0mx\u001b[0m \u001b[1;33m-=\u001b[0m \u001b[1;36m1\u001b[0m\u001b[1;33m\u001b[0m\u001b[1;33m\u001b[0m\u001b[0m\n\u001b[0m\u001b[0;32m     10\u001b[0m         \u001b[0mprint\u001b[0m\u001b[1;33m(\u001b[0m\u001b[1;34m\"我的位置\"\u001b[0m\u001b[1;33m,\u001b[0m \u001b[0mself\u001b[0m\u001b[1;33m.\u001b[0m\u001b[0mx\u001b[0m\u001b[1;33m,\u001b[0m \u001b[0mself\u001b[0m\u001b[1;33m.\u001b[0m\u001b[0my\u001b[0m\u001b[1;33m)\u001b[0m\u001b[1;33m\u001b[0m\u001b[1;33m\u001b[0m\u001b[0m\n\u001b[0;32m     11\u001b[0m \u001b[1;33m\u001b[0m\u001b[0m\n",
      "\u001b[1;31mAttributeError\u001b[0m: 'Shark' object has no attribute 'x'"
     ]
    }
   ],
   "source": [
    "s.move()"
   ]
  },
  {
   "cell_type": "markdown",
   "metadata": {},
   "source": [
    "解决该问题可用以下两种方式：\n",
    "<br>\n",
    "1. 调用未绑定的父类方法``Fish.__init__(self)``"
   ]
  },
  {
   "cell_type": "code",
   "execution_count": 42,
   "metadata": {
    "ExecuteTime": {
     "end_time": "2020-08-10T03:02:22.157792Z",
     "start_time": "2020-08-10T03:02:22.152797Z"
    }
   },
   "outputs": [
    {
     "name": "stdout",
     "output_type": "stream",
     "text": [
      "我的位置 0 4\n"
     ]
    }
   ],
   "source": [
    "class Shark(Fish):  # 鲨鱼\n",
    "    def __init__(self):\n",
    "        Fish.__init__(self)\n",
    "        self.hungry = True\n",
    "\n",
    "    def eat(self):\n",
    "        if self.hungry:\n",
    "            print(\"吃货的梦想就是天天有得吃！\")\n",
    "            self.hungry = False\n",
    "        else:\n",
    "            print(\"太撑了，吃不下了！\")\n",
    "            self.hungry = True\n",
    "            \n",
    "   \n",
    "s = Shark()\n",
    "s.move()"
   ]
  },
  {
   "cell_type": "markdown",
   "metadata": {},
   "source": [
    "2. 使用super函数``super().__init__()``"
   ]
  },
  {
   "cell_type": "code",
   "execution_count": 43,
   "metadata": {
    "ExecuteTime": {
     "end_time": "2020-08-10T03:03:07.722931Z",
     "start_time": "2020-08-10T03:03:07.718930Z"
    }
   },
   "outputs": [
    {
     "name": "stdout",
     "output_type": "stream",
     "text": [
      "我的位置 0 3\n"
     ]
    }
   ],
   "source": [
    "class Shark(Fish):  # 鲨鱼\n",
    "    def __init__(self):\n",
    "        super().__init__()\n",
    "        self.hungry = True\n",
    "\n",
    "    def eat(self):\n",
    "        if self.hungry:\n",
    "            print(\"吃货的梦想就是天天有得吃！\")\n",
    "            self.hungry = False\n",
    "        else:\n",
    "            print(\"太撑了，吃不下了！\")\n",
    "            self.hungry = True\n",
    "            \n",
    "            \n",
    "s = Shark()\n",
    "s.move()"
   ]
  },
  {
   "cell_type": "markdown",
   "metadata": {},
   "source": [
    "Python 虽然支持多继承的形式，但我们一般不使用多继承，因为容易引起混乱"
   ]
  },
  {
   "cell_type": "markdown",
   "metadata": {},
   "source": [
    "多继承中, 若是父类中有相同的方法名，而在子类使用时未指定，Python 从左至右搜索，即方法在子类中未找到时，从左到右查找父类中是否包含方法"
   ]
  },
  {
   "cell_type": "code",
   "execution_count": 45,
   "metadata": {
    "ExecuteTime": {
     "end_time": "2020-08-10T03:04:49.456711Z",
     "start_time": "2020-08-10T03:04:49.445718Z"
    }
   },
   "outputs": [
    {
     "name": "stdout",
     "output_type": "stream",
     "text": [
      "我叫 Tim，我是一个演说家，我演讲的主题是 Python\n"
     ]
    }
   ],
   "source": [
    "# 类定义\n",
    "class People:\n",
    "    # 定义基本属性\n",
    "    name = ''\n",
    "    age = 0\n",
    "    # 定义私有属性,私有属性在类外部无法直接进行访问\n",
    "    __weight = 0\n",
    "\n",
    "    # 定义构造方法\n",
    "    def __init__(self, n, a, w):\n",
    "        self.name = n\n",
    "        self.age = a\n",
    "        self.__weight = w\n",
    "\n",
    "    def speak(self):\n",
    "        print(\"%s 说: 我 %d 岁。\" % (self.name, self.age))\n",
    "\n",
    "\n",
    "# 单继承示例\n",
    "class Student(People):\n",
    "    grade = ''\n",
    "\n",
    "    def __init__(self, n, a, w, g):\n",
    "        # 调用父类的构函\n",
    "        People.__init__(self, n, a, w)\n",
    "        self.grade = g\n",
    "\n",
    "    # 覆写父类的方法\n",
    "    def speak(self):\n",
    "        print(\"%s 说: 我 %d 岁了，我在读 %d 年级\" % (self.name, self.age, self.grade))\n",
    "\n",
    "\n",
    "# 另一个类，多重继承之前的准备\n",
    "class Speaker:\n",
    "    topic = ''\n",
    "    name = ''\n",
    "\n",
    "    def __init__(self, n, t):\n",
    "        self.name = n\n",
    "        self.topic = t\n",
    "\n",
    "    def speak(self):\n",
    "        print(\"我叫 %s，我是一个演说家，我演讲的主题是 %s\" % (self.name, self.topic))\n",
    "\n",
    "\n",
    "# 多重继承\n",
    "class Sample01(Speaker, Student):\n",
    "    a = ''\n",
    "\n",
    "    def __init__(self, n, a, w, g, t):\n",
    "        Student.__init__(self, n, a, w, g)\n",
    "        Speaker.__init__(self, n, t)\n",
    "\n",
    "# 方法名同，默认调用的是在括号中排前地父类的方法\n",
    "test = Sample01(\"Tim\", 25, 80, 4, \"Python\")\n",
    "test.speak()  "
   ]
  },
  {
   "cell_type": "code",
   "execution_count": 46,
   "metadata": {
    "ExecuteTime": {
     "end_time": "2020-08-10T03:04:58.370499Z",
     "start_time": "2020-08-10T03:04:58.366498Z"
    }
   },
   "outputs": [
    {
     "name": "stdout",
     "output_type": "stream",
     "text": [
      "Tim 说: 我 25 岁了，我在读 4 年级\n"
     ]
    }
   ],
   "source": [
    "class Sample02(Student, Speaker):\n",
    "    a = ''\n",
    "\n",
    "    def __init__(self, n, a, w, g, t):\n",
    "        Student.__init__(self, n, a, w, g)\n",
    "        Speaker.__init__(self, n, t)\n",
    "\n",
    "# 方法名同，默认调用的是在括号中排前地父类的方法\n",
    "test = Sample02(\"Tim\", 25, 80, 4, \"Python\")\n",
    "test.speak() "
   ]
  },
  {
   "cell_type": "markdown",
   "metadata": {},
   "source": [
    "## 6. 组合"
   ]
  },
  {
   "cell_type": "code",
   "execution_count": 47,
   "metadata": {
    "ExecuteTime": {
     "end_time": "2020-08-10T03:06:57.837305Z",
     "start_time": "2020-08-10T03:06:57.832304Z"
    }
   },
   "outputs": [
    {
     "name": "stdout",
     "output_type": "stream",
     "text": [
      "水池里面有乌龟2只，小鱼3条\n"
     ]
    }
   ],
   "source": [
    "class Turtle:\n",
    "    def __init__(self, x):\n",
    "        self.num = x\n",
    "\n",
    "\n",
    "class Fish:\n",
    "    def __init__(self, x):\n",
    "        self.num = x\n",
    "\n",
    "\n",
    "class Pool:\n",
    "    def __init__(self, x, y):\n",
    "        self.turtle = Turtle(x)\n",
    "        self.fish = Fish(y)\n",
    "\n",
    "    def print_num(self):\n",
    "        print(\"水池里面有乌龟%s只，小鱼%s条\" % (self.turtle.num, self.fish.num))\n",
    "\n",
    "\n",
    "p = Pool(2, 3)\n",
    "p.print_num()"
   ]
  },
  {
   "cell_type": "markdown",
   "metadata": {},
   "source": [
    "## 7. 类、类对象和实例对象"
   ]
  },
  {
   "cell_type": "markdown",
   "metadata": {},
   "source": [
    "**类对象**：创建一个类，其实也是一个对象也在内存开辟了一块空间，称为类对象，类对象**只有一个**"
   ]
  },
  {
   "cell_type": "markdown",
   "metadata": {},
   "source": [
    "**实例对象**：就是通过实例化类创建的对象，称为实例对象，实例对象**可以有多个**"
   ]
  },
  {
   "cell_type": "markdown",
   "metadata": {},
   "source": [
    "**类属性**：类里面方法外面定义的变量称为类属性。类属性所属于类对象并且多个实例对象之间共享同一个类属性，说白了就是类属性所有的通过该类实例化的对象都能共享"
   ]
  },
  {
   "cell_type": "markdown",
   "metadata": {},
   "source": [
    "**实例属性**：实例属性和具体的某个实例对象有关系，并且一个实例对象和另外一个实例对象是不共享属性的，说白了实例属性只能在自己的对象里面使用，其他的对象不能直接使用，因为 ``self`` 是谁调用，它的值就属于该对象"
   ]
  },
  {
   "cell_type": "markdown",
   "metadata": {},
   "source": [
    "**类属性和实例属性区别**:\n",
    "<br>\n",
    "+ 类属性：类外面，可以通过``实例对象.类属性``和``类名.类属性``进行调用。类里面，通过``self.类属性``和``类名.类属性``进行调用。\n",
    "+ 实例属性 ：类外面，可以通过``实例对象.实例属性``调用。类里面，通过``self.实例属性``调用。\n",
    "+ 实例属性就相当于``局部变量``。出了这个类或者这个类的实例对象，就没有作用了。\n",
    "+ 类属性就相当于类里面的``全局变量``，可以和这个类的所有实例对象共享"
   ]
  },
  {
   "cell_type": "code",
   "execution_count": 48,
   "metadata": {
    "ExecuteTime": {
     "end_time": "2020-08-10T03:16:08.526435Z",
     "start_time": "2020-08-10T03:16:08.520443Z"
    }
   },
   "outputs": [
    {
     "name": "stdout",
     "output_type": "stream",
     "text": [
      "类对象.类属性的值: 100\n",
      "self.类属性的值 100\n",
      "self.实例属性的值 100\n"
     ]
    }
   ],
   "source": [
    "# 创建类对象\n",
    "class Test(object):\n",
    "    class_attr = 100  # 类属性\n",
    "\n",
    "    def __init__(self):\n",
    "        self.sl_attr = 100  # 实例属性\n",
    "\n",
    "    def func(self):\n",
    "        print('类对象.类属性的值:', Test.class_attr)  # 调用类属性\n",
    "        print('self.类属性的值', self.class_attr)  # 相当于把类属性 变成实例属性\n",
    "        print('self.实例属性的值', self.sl_attr)  # 调用实例属性\n",
    "\n",
    "\n",
    "a = Test()\n",
    "a.func()"
   ]
  },
  {
   "cell_type": "code",
   "execution_count": 49,
   "metadata": {
    "ExecuteTime": {
     "end_time": "2020-08-10T03:16:43.733147Z",
     "start_time": "2020-08-10T03:16:43.730145Z"
    }
   },
   "outputs": [
    {
     "name": "stdout",
     "output_type": "stream",
     "text": [
      "类对象.类属性的值: 100\n",
      "self.类属性的值 100\n",
      "self.实例属性的值 100\n"
     ]
    }
   ],
   "source": [
    "b = Test()\n",
    "b.func()"
   ]
  },
  {
   "cell_type": "code",
   "execution_count": 50,
   "metadata": {
    "ExecuteTime": {
     "end_time": "2020-08-10T03:16:54.822281Z",
     "start_time": "2020-08-10T03:16:54.819280Z"
    }
   },
   "outputs": [
    {
     "name": "stdout",
     "output_type": "stream",
     "text": [
      "类对象.类属性的值: 100\n",
      "self.类属性的值 200\n",
      "self.实例属性的值 200\n"
     ]
    }
   ],
   "source": [
    "a.class_attr = 200\n",
    "a.sl_attr = 200\n",
    "a.func()"
   ]
  },
  {
   "cell_type": "code",
   "execution_count": 51,
   "metadata": {
    "ExecuteTime": {
     "end_time": "2020-08-10T03:17:08.480215Z",
     "start_time": "2020-08-10T03:17:08.477214Z"
    }
   },
   "outputs": [
    {
     "name": "stdout",
     "output_type": "stream",
     "text": [
      "类对象.类属性的值: 100\n",
      "self.类属性的值 100\n",
      "self.实例属性的值 100\n"
     ]
    }
   ],
   "source": [
    "b.func()"
   ]
  },
  {
   "cell_type": "code",
   "execution_count": 52,
   "metadata": {
    "ExecuteTime": {
     "end_time": "2020-08-10T03:17:19.362769Z",
     "start_time": "2020-08-10T03:17:19.358769Z"
    }
   },
   "outputs": [
    {
     "name": "stdout",
     "output_type": "stream",
     "text": [
      "类对象.类属性的值: 300\n",
      "self.类属性的值 200\n",
      "self.实例属性的值 200\n"
     ]
    }
   ],
   "source": [
    "Test.class_attr = 300\n",
    "a.func()"
   ]
  },
  {
   "cell_type": "code",
   "execution_count": 53,
   "metadata": {
    "ExecuteTime": {
     "end_time": "2020-08-10T03:17:27.217877Z",
     "start_time": "2020-08-10T03:17:27.215876Z"
    }
   },
   "outputs": [
    {
     "name": "stdout",
     "output_type": "stream",
     "text": [
      "类对象.类属性的值: 300\n",
      "self.类属性的值 300\n",
      "self.实例属性的值 100\n"
     ]
    }
   ],
   "source": [
    "b.func()"
   ]
  },
  {
   "cell_type": "markdown",
   "metadata": {},
   "source": [
    "注意：属性与方法名相同，属性会覆盖方法"
   ]
  },
  {
   "cell_type": "code",
   "execution_count": 54,
   "metadata": {
    "ExecuteTime": {
     "end_time": "2020-08-10T03:18:47.175118Z",
     "start_time": "2020-08-10T03:18:47.171117Z"
    }
   },
   "outputs": [
    {
     "name": "stdout",
     "output_type": "stream",
     "text": [
      "x_man\n"
     ]
    }
   ],
   "source": [
    "class A:\n",
    "    def x(self):\n",
    "        print('x_man')\n",
    "\n",
    "\n",
    "aa = A()\n",
    "aa.x()"
   ]
  },
  {
   "cell_type": "code",
   "execution_count": 55,
   "metadata": {
    "ExecuteTime": {
     "end_time": "2020-08-10T03:18:59.311824Z",
     "start_time": "2020-08-10T03:18:59.309824Z"
    }
   },
   "outputs": [
    {
     "name": "stdout",
     "output_type": "stream",
     "text": [
      "1\n"
     ]
    }
   ],
   "source": [
    "aa.x = 1\n",
    "print(aa.x)"
   ]
  },
  {
   "cell_type": "code",
   "execution_count": 56,
   "metadata": {
    "ExecuteTime": {
     "end_time": "2020-08-10T03:19:06.789361Z",
     "start_time": "2020-08-10T03:19:06.782852Z"
    }
   },
   "outputs": [
    {
     "ename": "TypeError",
     "evalue": "'int' object is not callable",
     "output_type": "error",
     "traceback": [
      "\u001b[1;31m---------------------------------------------------------------------------\u001b[0m",
      "\u001b[1;31mTypeError\u001b[0m                                 Traceback (most recent call last)",
      "\u001b[1;32m<ipython-input-56-a4f77078031c>\u001b[0m in \u001b[0;36m<module>\u001b[1;34m\u001b[0m\n\u001b[1;32m----> 1\u001b[1;33m \u001b[0maa\u001b[0m\u001b[1;33m.\u001b[0m\u001b[0mx\u001b[0m\u001b[1;33m(\u001b[0m\u001b[1;33m)\u001b[0m\u001b[1;33m\u001b[0m\u001b[1;33m\u001b[0m\u001b[0m\n\u001b[0m",
      "\u001b[1;31mTypeError\u001b[0m: 'int' object is not callable"
     ]
    }
   ],
   "source": [
    "aa.x()"
   ]
  },
  {
   "cell_type": "markdown",
   "metadata": {},
   "source": [
    "## 8. 什么是绑定 ？"
   ]
  },
  {
   "cell_type": "markdown",
   "metadata": {},
   "source": [
    "Python 严格要求方法需要有实例才能被调用，这种限制其实就是 Python 所谓的``绑定``概念"
   ]
  },
  {
   "cell_type": "markdown",
   "metadata": {},
   "source": [
    "Python 对象的数据属性通常存储在名为``.__ dict__``的字典中，我们可以直接访问``__dict__``，或利用 Python 的内置函数``vars()``获取``.__ dict__``"
   ]
  },
  {
   "cell_type": "code",
   "execution_count": 57,
   "metadata": {
    "ExecuteTime": {
     "end_time": "2020-08-10T03:21:49.994828Z",
     "start_time": "2020-08-10T03:21:49.989827Z"
    }
   },
   "outputs": [
    {
     "name": "stdout",
     "output_type": "stream",
     "text": [
      "{}\n"
     ]
    }
   ],
   "source": [
    "class CC:\n",
    "    def setXY(self, x, y):\n",
    "        self.x = x\n",
    "        self.y = y\n",
    "\n",
    "    def printXY(self):\n",
    "        print(self.x, self.y)\n",
    "\n",
    "\n",
    "dd = CC()\n",
    "print(dd.__dict__)"
   ]
  },
  {
   "cell_type": "code",
   "execution_count": 58,
   "metadata": {
    "ExecuteTime": {
     "end_time": "2020-08-10T03:22:08.898495Z",
     "start_time": "2020-08-10T03:22:08.896494Z"
    }
   },
   "outputs": [
    {
     "name": "stdout",
     "output_type": "stream",
     "text": [
      "{}\n"
     ]
    }
   ],
   "source": [
    "print(vars(dd))"
   ]
  },
  {
   "cell_type": "code",
   "execution_count": 59,
   "metadata": {
    "ExecuteTime": {
     "end_time": "2020-08-10T03:22:42.366591Z",
     "start_time": "2020-08-10T03:22:42.364590Z"
    }
   },
   "outputs": [
    {
     "name": "stdout",
     "output_type": "stream",
     "text": [
      "{'__module__': '__main__', 'setXY': <function CC.setXY at 0x000002015FDAEE58>, 'printXY': <function CC.printXY at 0x000002015FDA1048>, '__dict__': <attribute '__dict__' of 'CC' objects>, '__weakref__': <attribute '__weakref__' of 'CC' objects>, '__doc__': None}\n"
     ]
    }
   ],
   "source": [
    "print(CC.__dict__)"
   ]
  },
  {
   "cell_type": "code",
   "execution_count": 60,
   "metadata": {
    "ExecuteTime": {
     "end_time": "2020-08-10T03:22:59.080677Z",
     "start_time": "2020-08-10T03:22:59.078687Z"
    }
   },
   "outputs": [
    {
     "name": "stdout",
     "output_type": "stream",
     "text": [
      "{'x': 4, 'y': 5}\n"
     ]
    }
   ],
   "source": [
    "dd.setXY(4, 5)\n",
    "print(dd.__dict__)"
   ]
  },
  {
   "cell_type": "code",
   "execution_count": 61,
   "metadata": {
    "ExecuteTime": {
     "end_time": "2020-08-10T03:23:08.394864Z",
     "start_time": "2020-08-10T03:23:08.392863Z"
    }
   },
   "outputs": [
    {
     "name": "stdout",
     "output_type": "stream",
     "text": [
      "{'__module__': '__main__', 'setXY': <function CC.setXY at 0x000002015FDAEE58>, 'printXY': <function CC.printXY at 0x000002015FDA1048>, '__dict__': <attribute '__dict__' of 'CC' objects>, '__weakref__': <attribute '__weakref__' of 'CC' objects>, '__doc__': None}\n"
     ]
    }
   ],
   "source": [
    "print(vars(CC))"
   ]
  },
  {
   "cell_type": "code",
   "execution_count": 62,
   "metadata": {
    "ExecuteTime": {
     "end_time": "2020-08-10T03:23:17.948182Z",
     "start_time": "2020-08-10T03:23:17.945180Z"
    }
   },
   "outputs": [
    {
     "name": "stdout",
     "output_type": "stream",
     "text": [
      "{'__module__': '__main__', 'setXY': <function CC.setXY at 0x000002015FDAEE58>, 'printXY': <function CC.printXY at 0x000002015FDA1048>, '__dict__': <attribute '__dict__' of 'CC' objects>, '__weakref__': <attribute '__weakref__' of 'CC' objects>, '__doc__': None}\n"
     ]
    }
   ],
   "source": [
    "print(CC.__dict__)"
   ]
  },
  {
   "cell_type": "markdown",
   "metadata": {},
   "source": [
    "## 9. 一些相关的内置函数（BIF）"
   ]
  },
  {
   "cell_type": "markdown",
   "metadata": {},
   "source": [
    "1. ``issubclass(class, classinfo)`` 方法用于判断参数 class 是否是类型参数 classinfo 的子类。\n",
    "2. 一个类被认为是其自身的子类。\n",
    "3. ``classinfo``可以是类对象的元组，只要class是其中任何一个候选类的子类，则返回``True``"
   ]
  },
  {
   "cell_type": "code",
   "execution_count": 63,
   "metadata": {
    "ExecuteTime": {
     "end_time": "2020-08-10T03:25:58.421638Z",
     "start_time": "2020-08-10T03:25:58.416636Z"
    }
   },
   "outputs": [
    {
     "name": "stdout",
     "output_type": "stream",
     "text": [
      "True\n",
      "True\n",
      "False\n",
      "True\n"
     ]
    }
   ],
   "source": [
    "class A:\n",
    "    pass\n",
    "\n",
    "\n",
    "class B(A):\n",
    "    pass\n",
    "\n",
    "\n",
    "print(issubclass(B, A))  \n",
    "print(issubclass(B, B))  \n",
    "print(issubclass(A, B))  \n",
    "print(issubclass(B, object))"
   ]
  },
  {
   "cell_type": "markdown",
   "metadata": {},
   "source": [
    "1. ``isinstance(object, classinfo)`` 方法用于判断一个对象是否是一个已知的类型，类似``type()``\n",
    "2. ``type()``不会认为子类是一种父类类型，不考虑继承关系\n",
    "3. ``isinstance()``会认为子类是一种父类类型，考虑继承关系\n",
    "4. 如果第一个参数不是对象，则永远返回``False``\n",
    "5. 如果第二个参数不是类或者由类对象组成的元组，会抛出一个``TypeError``异常"
   ]
  },
  {
   "cell_type": "code",
   "execution_count": 64,
   "metadata": {
    "ExecuteTime": {
     "end_time": "2020-08-10T03:28:14.139347Z",
     "start_time": "2020-08-10T03:28:14.136347Z"
    }
   },
   "outputs": [
    {
     "name": "stdout",
     "output_type": "stream",
     "text": [
      "True\n",
      "False\n",
      "True\n"
     ]
    }
   ],
   "source": [
    "a = 2\n",
    "print(isinstance(a, int))  \n",
    "print(isinstance(a, str)) \n",
    "print(isinstance(a, (str, int, list)))"
   ]
  },
  {
   "cell_type": "code",
   "execution_count": 65,
   "metadata": {
    "ExecuteTime": {
     "end_time": "2020-08-10T03:28:39.747446Z",
     "start_time": "2020-08-10T03:28:39.743445Z"
    }
   },
   "outputs": [
    {
     "name": "stdout",
     "output_type": "stream",
     "text": [
      "True\n",
      "True\n",
      "True\n",
      "False\n"
     ]
    }
   ],
   "source": [
    "class A:\n",
    "    pass\n",
    "\n",
    "\n",
    "class B(A):\n",
    "    pass\n",
    "\n",
    "\n",
    "print(isinstance(A(), A))  \n",
    "print(type(A()) == A)  \n",
    "print(isinstance(B(), A))  \n",
    "print(type(B()) == A) "
   ]
  },
  {
   "cell_type": "markdown",
   "metadata": {},
   "source": [
    "+ ``hasattr(object, name)``用于判断对象是否包含对应的属性"
   ]
  },
  {
   "cell_type": "code",
   "execution_count": 66,
   "metadata": {
    "ExecuteTime": {
     "end_time": "2020-08-10T03:31:32.187891Z",
     "start_time": "2020-08-10T03:31:32.183900Z"
    }
   },
   "outputs": [
    {
     "name": "stdout",
     "output_type": "stream",
     "text": [
      "True\n",
      "True\n",
      "True\n",
      "False\n"
     ]
    }
   ],
   "source": [
    "class Coordinate:\n",
    "    x = 10\n",
    "    y = -5\n",
    "    z = 0\n",
    "\n",
    "\n",
    "point1 = Coordinate()\n",
    "print(hasattr(point1, 'x'))  \n",
    "print(hasattr(point1, 'y'))  \n",
    "print(hasattr(point1, 'z'))  \n",
    "print(hasattr(point1, 'no'))"
   ]
  },
  {
   "cell_type": "markdown",
   "metadata": {},
   "source": [
    "+ ``getattr(object, name[, default])``用于返回一个对象属性值"
   ]
  },
  {
   "cell_type": "code",
   "execution_count": 68,
   "metadata": {
    "ExecuteTime": {
     "end_time": "2020-08-10T03:32:37.012799Z",
     "start_time": "2020-08-10T03:32:37.008798Z"
    }
   },
   "outputs": [
    {
     "name": "stdout",
     "output_type": "stream",
     "text": [
      "1\n"
     ]
    }
   ],
   "source": [
    "class A(object):\n",
    "    bar = 1\n",
    "\n",
    "\n",
    "a = A()\n",
    "print(getattr(a, 'bar'))  "
   ]
  },
  {
   "cell_type": "code",
   "execution_count": 69,
   "metadata": {
    "ExecuteTime": {
     "end_time": "2020-08-10T03:32:45.708013Z",
     "start_time": "2020-08-10T03:32:45.706013Z"
    }
   },
   "outputs": [
    {
     "name": "stdout",
     "output_type": "stream",
     "text": [
      "3\n"
     ]
    }
   ],
   "source": [
    "print(getattr(a, 'bar2', 3))  "
   ]
  },
  {
   "cell_type": "code",
   "execution_count": 70,
   "metadata": {
    "ExecuteTime": {
     "end_time": "2020-08-10T03:32:48.128541Z",
     "start_time": "2020-08-10T03:32:48.122549Z"
    }
   },
   "outputs": [
    {
     "ename": "AttributeError",
     "evalue": "'A' object has no attribute 'bar2'",
     "output_type": "error",
     "traceback": [
      "\u001b[1;31m---------------------------------------------------------------------------\u001b[0m",
      "\u001b[1;31mAttributeError\u001b[0m                            Traceback (most recent call last)",
      "\u001b[1;32m<ipython-input-70-a21662e1cb82>\u001b[0m in \u001b[0;36m<module>\u001b[1;34m\u001b[0m\n\u001b[1;32m----> 1\u001b[1;33m \u001b[0mprint\u001b[0m\u001b[1;33m(\u001b[0m\u001b[0mgetattr\u001b[0m\u001b[1;33m(\u001b[0m\u001b[0ma\u001b[0m\u001b[1;33m,\u001b[0m \u001b[1;34m'bar2'\u001b[0m\u001b[1;33m)\u001b[0m\u001b[1;33m)\u001b[0m\u001b[1;33m\u001b[0m\u001b[1;33m\u001b[0m\u001b[0m\n\u001b[0m",
      "\u001b[1;31mAttributeError\u001b[0m: 'A' object has no attribute 'bar2'"
     ]
    }
   ],
   "source": [
    "print(getattr(a, 'bar2'))"
   ]
  },
  {
   "cell_type": "code",
   "execution_count": 71,
   "metadata": {
    "ExecuteTime": {
     "end_time": "2020-08-10T03:34:16.309744Z",
     "start_time": "2020-08-10T03:34:16.303743Z"
    }
   },
   "outputs": [
    {
     "name": "stdout",
     "output_type": "stream",
     "text": [
      "2 1\n"
     ]
    }
   ],
   "source": [
    "class A(object):\n",
    "    def set(self, a, b):\n",
    "        x = a\n",
    "        a = b\n",
    "        b = x\n",
    "        print(a, b)\n",
    "\n",
    "\n",
    "a = A()\n",
    "c = getattr(a, 'set')\n",
    "c(a='1', b='2')"
   ]
  },
  {
   "cell_type": "markdown",
   "metadata": {},
   "source": [
    "+ ``setattr(object, name, value)``对应函数 ``getattr()``，用于设置属性值，该属性不一定是存在的"
   ]
  },
  {
   "cell_type": "code",
   "execution_count": 72,
   "metadata": {
    "ExecuteTime": {
     "end_time": "2020-08-10T03:36:03.705690Z",
     "start_time": "2020-08-10T03:36:03.701515Z"
    }
   },
   "outputs": [
    {
     "name": "stdout",
     "output_type": "stream",
     "text": [
      "1\n",
      "5\n"
     ]
    }
   ],
   "source": [
    "class A(object):\n",
    "    bar = 1\n",
    "\n",
    "\n",
    "a = A()\n",
    "print(getattr(a, 'bar'))  \n",
    "setattr(a, 'bar', 5)\n",
    "print(a.bar)  "
   ]
  },
  {
   "cell_type": "code",
   "execution_count": 73,
   "metadata": {
    "ExecuteTime": {
     "end_time": "2020-08-10T03:36:05.873572Z",
     "start_time": "2020-08-10T03:36:05.869581Z"
    }
   },
   "outputs": [
    {
     "name": "stdout",
     "output_type": "stream",
     "text": [
      "28\n"
     ]
    }
   ],
   "source": [
    "setattr(a, \"age\", 28)\n",
    "print(a.age)"
   ]
  },
  {
   "cell_type": "markdown",
   "metadata": {},
   "source": [
    "+ ``delattr(object, name)``用于删除属性"
   ]
  },
  {
   "cell_type": "code",
   "execution_count": 74,
   "metadata": {
    "ExecuteTime": {
     "end_time": "2020-08-10T03:37:17.493235Z",
     "start_time": "2020-08-10T03:37:17.488234Z"
    }
   },
   "outputs": [
    {
     "name": "stdout",
     "output_type": "stream",
     "text": [
      "x =  10\n",
      "y =  -5\n",
      "z =  0\n"
     ]
    }
   ],
   "source": [
    "class Coordinate:\n",
    "    x = 10\n",
    "    y = -5\n",
    "    z = 0\n",
    "\n",
    "\n",
    "point1 = Coordinate()\n",
    "\n",
    "print('x = ', point1.x)  \n",
    "print('y = ', point1.y)  \n",
    "print('z = ', point1.z)"
   ]
  },
  {
   "cell_type": "code",
   "execution_count": 75,
   "metadata": {
    "ExecuteTime": {
     "end_time": "2020-08-10T03:37:46.040744Z",
     "start_time": "2020-08-10T03:37:46.036743Z"
    }
   },
   "outputs": [
    {
     "name": "stdout",
     "output_type": "stream",
     "text": [
      "--删除 z 属性后--\n",
      "x =  10\n",
      "y =  -5\n"
     ]
    }
   ],
   "source": [
    "delattr(Coordinate, 'z')\n",
    "\n",
    "print('--删除 z 属性后--')  # --删除 z 属性后--\n",
    "print('x = ', point1.x)  \n",
    "print('y = ', point1.y)"
   ]
  },
  {
   "cell_type": "code",
   "execution_count": 76,
   "metadata": {
    "ExecuteTime": {
     "end_time": "2020-08-10T03:37:56.933310Z",
     "start_time": "2020-08-10T03:37:56.925802Z"
    }
   },
   "outputs": [
    {
     "ename": "AttributeError",
     "evalue": "'Coordinate' object has no attribute 'z'",
     "output_type": "error",
     "traceback": [
      "\u001b[1;31m---------------------------------------------------------------------------\u001b[0m",
      "\u001b[1;31mAttributeError\u001b[0m                            Traceback (most recent call last)",
      "\u001b[1;32m<ipython-input-76-b561b4268932>\u001b[0m in \u001b[0;36m<module>\u001b[1;34m\u001b[0m\n\u001b[0;32m      1\u001b[0m \u001b[1;31m# 触发错误\u001b[0m\u001b[1;33m\u001b[0m\u001b[1;33m\u001b[0m\u001b[1;33m\u001b[0m\u001b[0m\n\u001b[1;32m----> 2\u001b[1;33m \u001b[0mprint\u001b[0m\u001b[1;33m(\u001b[0m\u001b[1;34m'z = '\u001b[0m\u001b[1;33m,\u001b[0m \u001b[0mpoint1\u001b[0m\u001b[1;33m.\u001b[0m\u001b[0mz\u001b[0m\u001b[1;33m)\u001b[0m\u001b[1;33m\u001b[0m\u001b[1;33m\u001b[0m\u001b[0m\n\u001b[0m",
      "\u001b[1;31mAttributeError\u001b[0m: 'Coordinate' object has no attribute 'z'"
     ]
    }
   ],
   "source": [
    "# 触发错误\n",
    "print('z = ', point1.z)"
   ]
  },
  {
   "cell_type": "markdown",
   "metadata": {},
   "source": [
    "``class property([fget[, fset[, fdel[, doc]]]])``用于在新式类中返回属性值\n",
    "<br>\n",
    "``fget`` -- 获取属性值的函数\n",
    "<br>\n",
    "``fset`` -- 设置属性值的函数\n",
    "<br>\n",
    "``fdel`` -- 删除属性值函数\n",
    "<br>\n",
    "``doc`` -- 属性描述信息"
   ]
  },
  {
   "cell_type": "code",
   "execution_count": 77,
   "metadata": {
    "ExecuteTime": {
     "end_time": "2020-08-10T03:40:26.740843Z",
     "start_time": "2020-08-10T03:40:26.735851Z"
    }
   },
   "outputs": [
    {
     "name": "stdout",
     "output_type": "stream",
     "text": [
      "2\n"
     ]
    }
   ],
   "source": [
    "class C(object):\n",
    "    def __init__(self):\n",
    "        self.__x = None\n",
    "\n",
    "    def getx(self):\n",
    "        return self.__x\n",
    "\n",
    "    def setx(self, value):\n",
    "        self.__x = value\n",
    "\n",
    "    def delx(self):\n",
    "        del self.__x\n",
    "\n",
    "    x = property(getx, setx, delx, \"I'm the 'x' property.\")\n",
    "\n",
    "\n",
    "cc = C()\n",
    "cc.x = 2\n",
    "print(cc.x)"
   ]
  },
  {
   "cell_type": "code",
   "execution_count": 78,
   "metadata": {
    "ExecuteTime": {
     "end_time": "2020-08-10T03:43:00.402737Z",
     "start_time": "2020-08-10T03:43:00.393736Z"
    }
   },
   "outputs": [
    {
     "ename": "AttributeError",
     "evalue": "'C' object has no attribute '_C__x'",
     "output_type": "error",
     "traceback": [
      "\u001b[1;31m---------------------------------------------------------------------------\u001b[0m",
      "\u001b[1;31mAttributeError\u001b[0m                            Traceback (most recent call last)",
      "\u001b[1;32m<ipython-input-78-72b230112352>\u001b[0m in \u001b[0;36m<module>\u001b[1;34m\u001b[0m\n\u001b[0;32m      1\u001b[0m \u001b[1;32mdel\u001b[0m \u001b[0mcc\u001b[0m\u001b[1;33m.\u001b[0m\u001b[0mx\u001b[0m\u001b[1;33m\u001b[0m\u001b[1;33m\u001b[0m\u001b[0m\n\u001b[1;32m----> 2\u001b[1;33m \u001b[0mprint\u001b[0m\u001b[1;33m(\u001b[0m\u001b[0mcc\u001b[0m\u001b[1;33m.\u001b[0m\u001b[0mx\u001b[0m\u001b[1;33m)\u001b[0m\u001b[1;33m\u001b[0m\u001b[1;33m\u001b[0m\u001b[0m\n\u001b[0m",
      "\u001b[1;32m<ipython-input-77-45860f88b39e>\u001b[0m in \u001b[0;36mgetx\u001b[1;34m(self)\u001b[0m\n\u001b[0;32m      4\u001b[0m \u001b[1;33m\u001b[0m\u001b[0m\n\u001b[0;32m      5\u001b[0m     \u001b[1;32mdef\u001b[0m \u001b[0mgetx\u001b[0m\u001b[1;33m(\u001b[0m\u001b[0mself\u001b[0m\u001b[1;33m)\u001b[0m\u001b[1;33m:\u001b[0m\u001b[1;33m\u001b[0m\u001b[1;33m\u001b[0m\u001b[0m\n\u001b[1;32m----> 6\u001b[1;33m         \u001b[1;32mreturn\u001b[0m \u001b[0mself\u001b[0m\u001b[1;33m.\u001b[0m\u001b[0m__x\u001b[0m\u001b[1;33m\u001b[0m\u001b[1;33m\u001b[0m\u001b[0m\n\u001b[0m\u001b[0;32m      7\u001b[0m \u001b[1;33m\u001b[0m\u001b[0m\n\u001b[0;32m      8\u001b[0m     \u001b[1;32mdef\u001b[0m \u001b[0msetx\u001b[0m\u001b[1;33m(\u001b[0m\u001b[0mself\u001b[0m\u001b[1;33m,\u001b[0m \u001b[0mvalue\u001b[0m\u001b[1;33m)\u001b[0m\u001b[1;33m:\u001b[0m\u001b[1;33m\u001b[0m\u001b[1;33m\u001b[0m\u001b[0m\n",
      "\u001b[1;31mAttributeError\u001b[0m: 'C' object has no attribute '_C__x'"
     ]
    }
   ],
   "source": [
    "del cc.x\n",
    "print(cc.x)"
   ]
  },
  {
   "cell_type": "code",
   "execution_count": null,
   "metadata": {},
   "outputs": [],
   "source": []
  }
 ],
 "metadata": {
  "kernelspec": {
   "display_name": "Python 3",
   "language": "python",
   "name": "python3"
  },
  "language_info": {
   "codemirror_mode": {
    "name": "ipython",
    "version": 3
   },
   "file_extension": ".py",
   "mimetype": "text/x-python",
   "name": "python",
   "nbconvert_exporter": "python",
   "pygments_lexer": "ipython3",
   "version": "3.7.4"
  }
 },
 "nbformat": 4,
 "nbformat_minor": 2
}
