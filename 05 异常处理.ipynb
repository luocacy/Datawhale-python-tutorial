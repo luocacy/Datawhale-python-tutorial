{
 "cells": [
  {
   "cell_type": "markdown",
   "metadata": {},
   "source": [
    "# 异常处理"
   ]
  },
  {
   "cell_type": "markdown",
   "metadata": {},
   "source": [
    "## 1. Python标准异常总结"
   ]
  },
  {
   "cell_type": "markdown",
   "metadata": {},
   "source": [
    "1. BaseException：所有异常的基类\n",
    "2. 常规异常的基类;\n",
    "3. 所有的内建标准异常的基类;\n",
    "4. 所有数值计算异常的基类;\n",
    "5. 浮点计算异常;\n",
    "6. 数值运算超出最大限制;\n",
    "7. 除数为零;\n",
    "8. 断言语句（assert）失败;\n",
    "9. 尝试访问未知的对象属性;\n",
    "10. 没有内建输入，到达EOF标记;\n",
    "11. 操作系统异常的基类;\n",
    "12. 输入/输出操作失败;\n",
    "13. 操作系统产生的异常（例如打开一个不存在的文件）;\n",
    "14. 系统调用失败;\n",
    "15. 导入模块失败的时候;\n",
    "16. 用户中断执行;\n",
    "17. 无效数据查询的基类;\n",
    "18. 索引超出序列的范围;\n",
    "19. 字典中查找一个不存在的关键字;\n",
    "20. 内存溢出（可通过删除对象释放内存）;\n",
    "21. 尝试访问一个不存在的变量;\n",
    "22. 访问未初始化的本地变量;\n",
    "23. 弱引用试图访问已经垃圾回收了的对象;\n",
    "24. 一般的运行时异常;\n",
    "25. 尚未实现的方法;\n",
    "26. 语法错误导致的异常;\n",
    "27. 缩进错误导致的异常;\n",
    "28. Tab和空格混用;\n",
    "29. 一般的解释器系统异常;\n",
    "30. 不同类型间的无效操作;\n",
    "31. 传入无效的参数;\n",
    "32. Unicode相关的异常;\n",
    "33. Unicode解码时的异常;\n",
    "34. Unicode编码错误导致的异常;\n",
    "35. Unicode转换错误导致的异常;"
   ]
  },
  {
   "cell_type": "markdown",
   "metadata": {},
   "source": [
    "## 2. Python 标准警告总结"
   ]
  },
  {
   "cell_type": "markdown",
   "metadata": {},
   "source": [
    "1. Warning：警告的基类;\n",
    "2. DeprecationWarning：关于被弃用的特征的警告;\n",
    "3. FutureWarning：关于构造将来语义会有改变的警告;\n",
    "4. UserWarning：用户代码生成的警告;\n",
    "5. PendingDeprecationWarning：关于特性将会被废弃的警告;\n",
    "6. RuntimeWarning：可疑的运行时行为(runtime behavior)的警告;\n",
    "7. SyntaxWarning：可疑语法的警告;\n",
    "8. ImportWarning：用于在导入模块过程中触发的警告;\n",
    "9. UnicodeWarning：与Unicode相关的警告;\n",
    "10. BytesWarning：与字节或字节码相关的警告;\n",
    "11. ResourceWarning：与资源使用相关的警告;"
   ]
  },
  {
   "cell_type": "markdown",
   "metadata": {},
   "source": [
    "## 3. try-except 语句"
   ]
  },
  {
   "cell_type": "markdown",
   "metadata": {},
   "source": [
    "1. 首先，执行 ``try`` 子句（在关键字 ``try`` 和关键字 ``except`` 之间的语句）, 如果没有异常发生，忽略 ``except`` 子句，``try`` 子句执行后结束;\n",
    "2. 如果在执行 ``try`` 子句的过程中发生了异常，那么 ``try`` 子句余下的部分将被忽略. 如果异常的类型和 ``except`` 之后的名称相符，那么对应的 ``except`` 子句将被执行. 最后执行 ``try`` 语句之后的代码;\n",
    "3. 如果一个异常没有与任何的 ``except`` 匹配，那么这个异常将会传递给上层的 ``try`` 中;"
   ]
  },
  {
   "cell_type": "code",
   "execution_count": 1,
   "metadata": {},
   "outputs": [
    {
     "name": "stdout",
     "output_type": "stream",
     "text": [
      "打开文件出错\n"
     ]
    }
   ],
   "source": [
    "try:\n",
    "    f = open('test.txt')\n",
    "    print(f.read())\n",
    "    f.close()\n",
    "except OSError:\n",
    "    print('打开文件出错')"
   ]
  },
  {
   "cell_type": "code",
   "execution_count": 2,
   "metadata": {},
   "outputs": [
    {
     "name": "stdout",
     "output_type": "stream",
     "text": [
      "打开文件出错\n",
      "原因是：[Errno 2] No such file or directory: 'test.txt'\n"
     ]
    }
   ],
   "source": [
    "try:\n",
    "    f = open('test.txt')\n",
    "    print(f.read())\n",
    "    f.close()\n",
    "except OSError as error:\n",
    "    print('打开文件出错\\n原因是：' + str(error))"
   ]
  },
  {
   "cell_type": "markdown",
   "metadata": {},
   "source": [
    "一个 ``try`` 语句可能包含多个 ``except`` 子句，分别来处理不同的特定的异常。最多只有一个分支会被执行;"
   ]
  },
  {
   "cell_type": "code",
   "execution_count": 3,
   "metadata": {},
   "outputs": [
    {
     "name": "stdout",
     "output_type": "stream",
     "text": [
      "数值出错\n",
      "原因是：invalid literal for int() with base 10: 'abc'\n"
     ]
    }
   ],
   "source": [
    "try:\n",
    "    int(\"abc\")\n",
    "    s = 1 + '1'\n",
    "    f = open('test.txt')\n",
    "    print(f.read())\n",
    "    f.close()\n",
    "except OSError as error:\n",
    "    print('打开文件出错\\n原因是：' + str(error))\n",
    "except TypeError as error:\n",
    "    print('类型出错\\n原因是：' + str(error))\n",
    "except ValueError as error:\n",
    "    print('数值出错\\n原因是：' + str(error))"
   ]
  },
  {
   "cell_type": "code",
   "execution_count": 4,
   "metadata": {},
   "outputs": [
    {
     "name": "stdout",
     "output_type": "stream",
     "text": [
      "查询错误\n"
     ]
    }
   ],
   "source": [
    "dict1 = {'a': 1, 'b': 2, 'v': 22}\n",
    "try:\n",
    "    x = dict1['y']\n",
    "except LookupError:\n",
    "    print('查询错误')\n",
    "except KeyError:\n",
    "    print('键错误')\n",
    "else:\n",
    "    print(x)"
   ]
  },
  {
   "cell_type": "markdown",
   "metadata": {},
   "source": [
    "``try-except-else`` 语句尝试查询不在 ``dict`` 中的键值对，从而引发了异常。这一异常准确地说应属于 ``KeyError``，但由于 ``KeyError`` 是``LookupError`` 的子类，且将 ``LookupError`` 置于 ``KeyError`` 之前，因此程序优先执行该 ``except`` 代码块。所以，使用多个 ``except`` 代码块时，必须坚持对其规范排序，要从最具针对性的异常到最通用的异常;"
   ]
  },
  {
   "cell_type": "code",
   "execution_count": 5,
   "metadata": {},
   "outputs": [
    {
     "name": "stdout",
     "output_type": "stream",
     "text": [
      "键错误\n"
     ]
    }
   ],
   "source": [
    "dict1 = {'a': 1, 'b': 2, 'v': 22}\n",
    "try:\n",
    "    x = dict1['y']\n",
    "except KeyError:\n",
    "    print('键错误')\n",
    "except LookupError:\n",
    "    print('查询错误')\n",
    "else:\n",
    "    print(x)"
   ]
  },
  {
   "cell_type": "markdown",
   "metadata": {},
   "source": [
    "一个 ``except`` 子句可以同时处理多个异常，这些异常将被放在一个括号里成为一个元组;"
   ]
  },
  {
   "cell_type": "code",
   "execution_count": 6,
   "metadata": {},
   "outputs": [
    {
     "name": "stdout",
     "output_type": "stream",
     "text": [
      "出错了！\n",
      "原因是：unsupported operand type(s) for +: 'int' and 'str'\n"
     ]
    }
   ],
   "source": [
    "try:\n",
    "    s = 1 + '1'\n",
    "    int(\"abc\")\n",
    "    f = open('test.txt')\n",
    "    print(f.read())\n",
    "    f.close()\n",
    "except (OSError, TypeError, ValueError) as error:\n",
    "    print('出错了！\\n原因是：' + str(error))"
   ]
  },
  {
   "cell_type": "markdown",
   "metadata": {},
   "source": [
    "## 4. try-except-finally 语句"
   ]
  },
  {
   "cell_type": "markdown",
   "metadata": {},
   "source": [
    "不管 ``try`` 子句里面有没有发生异常，``finally`` 子句都会执行; 如果一个异常在 ``try`` 子句里被抛出，而又没有任何的 ``except`` 把它截住，那么这个异常会在 ``finally`` 子句执行后被抛出;"
   ]
  },
  {
   "cell_type": "code",
   "execution_count": 7,
   "metadata": {},
   "outputs": [
    {
     "name": "stdout",
     "output_type": "stream",
     "text": [
      "result is 2.0\n",
      "executing finally clause\n",
      "division by zero!\n",
      "executing finally clause\n",
      "executing finally clause\n"
     ]
    },
    {
     "ename": "TypeError",
     "evalue": "unsupported operand type(s) for /: 'str' and 'str'",
     "output_type": "error",
     "traceback": [
      "\u001b[1;31m---------------------------------------------------------------------------\u001b[0m",
      "\u001b[1;31mTypeError\u001b[0m                                 Traceback (most recent call last)",
      "\u001b[1;32m<ipython-input-7-2971b9619a76>\u001b[0m in \u001b[0;36m<module>\u001b[1;34m\u001b[0m\n\u001b[0;32m     13\u001b[0m \u001b[0mdivide\u001b[0m\u001b[1;33m(\u001b[0m\u001b[1;36m2\u001b[0m\u001b[1;33m,\u001b[0m \u001b[1;36m0\u001b[0m\u001b[1;33m)\u001b[0m\u001b[1;33m\u001b[0m\u001b[1;33m\u001b[0m\u001b[0m\n\u001b[0;32m     14\u001b[0m \u001b[1;33m\u001b[0m\u001b[0m\n\u001b[1;32m---> 15\u001b[1;33m \u001b[0mdivide\u001b[0m\u001b[1;33m(\u001b[0m\u001b[1;34m\"2\"\u001b[0m\u001b[1;33m,\u001b[0m \u001b[1;34m\"1\"\u001b[0m\u001b[1;33m)\u001b[0m\u001b[1;33m\u001b[0m\u001b[1;33m\u001b[0m\u001b[0m\n\u001b[0m",
      "\u001b[1;32m<ipython-input-7-2971b9619a76>\u001b[0m in \u001b[0;36mdivide\u001b[1;34m(x, y)\u001b[0m\n\u001b[0;32m      1\u001b[0m \u001b[1;32mdef\u001b[0m \u001b[0mdivide\u001b[0m\u001b[1;33m(\u001b[0m\u001b[0mx\u001b[0m\u001b[1;33m,\u001b[0m \u001b[0my\u001b[0m\u001b[1;33m)\u001b[0m\u001b[1;33m:\u001b[0m\u001b[1;33m\u001b[0m\u001b[1;33m\u001b[0m\u001b[0m\n\u001b[0;32m      2\u001b[0m     \u001b[1;32mtry\u001b[0m\u001b[1;33m:\u001b[0m\u001b[1;33m\u001b[0m\u001b[1;33m\u001b[0m\u001b[0m\n\u001b[1;32m----> 3\u001b[1;33m         \u001b[0mresult\u001b[0m \u001b[1;33m=\u001b[0m \u001b[0mx\u001b[0m \u001b[1;33m/\u001b[0m \u001b[0my\u001b[0m\u001b[1;33m\u001b[0m\u001b[1;33m\u001b[0m\u001b[0m\n\u001b[0m\u001b[0;32m      4\u001b[0m         \u001b[0mprint\u001b[0m\u001b[1;33m(\u001b[0m\u001b[1;34m\"result is\"\u001b[0m\u001b[1;33m,\u001b[0m \u001b[0mresult\u001b[0m\u001b[1;33m)\u001b[0m\u001b[1;33m\u001b[0m\u001b[1;33m\u001b[0m\u001b[0m\n\u001b[0;32m      5\u001b[0m     \u001b[1;32mexcept\u001b[0m \u001b[0mZeroDivisionError\u001b[0m\u001b[1;33m:\u001b[0m\u001b[1;33m\u001b[0m\u001b[1;33m\u001b[0m\u001b[0m\n",
      "\u001b[1;31mTypeError\u001b[0m: unsupported operand type(s) for /: 'str' and 'str'"
     ]
    }
   ],
   "source": [
    "def divide(x, y):\n",
    "    try:\n",
    "        result = x / y\n",
    "        print(\"result is\", result)\n",
    "    except ZeroDivisionError:\n",
    "        print(\"division by zero!\")\n",
    "    finally:\n",
    "        print(\"executing finally clause\")\n",
    "\n",
    "\n",
    "divide(2, 1)\n",
    "\n",
    "divide(2, 0)\n",
    "\n",
    "divide(\"2\", \"1\")"
   ]
  },
  {
   "cell_type": "markdown",
   "metadata": {},
   "source": [
    "## 5. try-except-else 语句"
   ]
  },
  {
   "cell_type": "markdown",
   "metadata": {},
   "source": [
    "如果在 ``try`` 子句执行时没有发生异常，``Python`` 将执行 ``else`` 语句后的语句; 使用 ``except`` 而不带任何异常类型，这不是一个很好的方式，我们不能通过该程序识别出具体的异常信息，因为它捕获所有的异常;"
   ]
  },
  {
   "cell_type": "code",
   "execution_count": 8,
   "metadata": {},
   "outputs": [
    {
     "name": "stdout",
     "output_type": "stream",
     "text": [
      "内容写入文件成功\n"
     ]
    }
   ],
   "source": [
    "try:\n",
    "    fh = open(\"testfile\", \"w\")\n",
    "    fh.write(\"这是一个测试文件，用于测试异常!!\")\n",
    "except IOError:\n",
    "    print(\"Error: 没有找到文件或读取文件失败\")\n",
    "else:\n",
    "    print(\"内容写入文件成功\")\n",
    "    fh.close()"
   ]
  },
  {
   "cell_type": "markdown",
   "metadata": {},
   "source": [
    "**【注意】**\n",
    "<br>\n",
    "``else`` 语句的存在必须以 ``except`` 语句的存在为前提，在没有 ``except`` 语句的 ``try`` 语句中使用 ``else`` 语句，会引发语法错误;"
   ]
  },
  {
   "cell_type": "markdown",
   "metadata": {},
   "source": [
    "## 6. raise 语句"
   ]
  },
  {
   "cell_type": "code",
   "execution_count": 9,
   "metadata": {},
   "outputs": [
    {
     "name": "stdout",
     "output_type": "stream",
     "text": [
      "An exception flew by!\n"
     ]
    }
   ],
   "source": [
    "try:\n",
    "    raise NameError('HiThere')\n",
    "except NameError:\n",
    "    print('An exception flew by!')"
   ]
  },
  {
   "cell_type": "markdown",
   "metadata": {},
   "source": [
    "## 7. 练习题"
   ]
  },
  {
   "cell_type": "markdown",
   "metadata": {},
   "source": [
    "#### 1. 猜数字游戏"
   ]
  },
  {
   "cell_type": "markdown",
   "metadata": {},
   "source": [
    "**【题目描述】**\n",
    "<br>\n",
    "电脑产生一个零到100之间的随机数字，然后让用户来猜，如果用户猜的数字比这个数字大，提示太大，否则提示太小，当用户正好猜中电脑会提示，\"恭喜你猜到了这个数是......\". 在用户每次猜测之前程序会输出用户是第几次猜测，如果用户输入的根本不是一个数字，程序会告诉用户\"输入无效\". (尝试使用 ``try catch`` 异常处理结构对输入情况进行处理)"
   ]
  },
  {
   "cell_type": "code",
   "execution_count": 10,
   "metadata": {},
   "outputs": [],
   "source": [
    "import random"
   ]
  },
  {
   "cell_type": "code",
   "execution_count": 11,
   "metadata": {},
   "outputs": [
    {
     "name": "stdout",
     "output_type": "stream",
     "text": [
      "第1次猜测，请输入一个数字：65\n",
      "小了！\n",
      "第2次猜测，请输入一个数字：78\n",
      "大了！\n",
      "第3次猜测，请输入一个数字：70\n",
      "小了！\n",
      "第4次猜测，请输入一个数字：72\n",
      "小了！\n",
      "第5次猜测，请输入一个数字：75\n",
      "大了！\n",
      "第6次猜测，请输入一个数字：74\n",
      "大了！\n",
      "第7次猜测，请输入一个数字：73\n",
      "恭喜您猜到了，这个数是73\n"
     ]
    }
   ],
   "source": [
    "\n",
    "num = int(random.randint(0, 100))\n",
    "count = 0\n",
    "while True:\n",
    "    count += 1\n",
    "    x = input('第%d次猜测，请输入一个数字：' % count)\n",
    "    try:\n",
    "        if type(eval(x)) == int:\n",
    "            guessnum=int(x)\n",
    "            if guessnum < num:\n",
    "                print('小了！')\n",
    "            elif guessnum > num:\n",
    "                print(\"大了！\")\n",
    "            else :\n",
    "                print(\"恭喜您猜到了，这个数是%d\" % num)\n",
    "                break\n",
    "    except:\n",
    "        print(\"输入无效\")"
   ]
  },
  {
   "cell_type": "code",
   "execution_count": null,
   "metadata": {},
   "outputs": [],
   "source": []
  }
 ],
 "metadata": {
  "kernelspec": {
   "display_name": "Python 3",
   "language": "python",
   "name": "python3"
  },
  "language_info": {
   "codemirror_mode": {
    "name": "ipython",
    "version": 3
   },
   "file_extension": ".py",
   "mimetype": "text/x-python",
   "name": "python",
   "nbconvert_exporter": "python",
   "pygments_lexer": "ipython3",
   "version": "3.7.4"
  }
 },
 "nbformat": 4,
 "nbformat_minor": 2
}
