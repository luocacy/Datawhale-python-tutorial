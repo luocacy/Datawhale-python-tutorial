{
 "cells": [
  {
   "cell_type": "markdown",
   "metadata": {},
   "source": [
    "# 模块"
   ]
  },
  {
   "cell_type": "markdown",
   "metadata": {},
   "source": [
    "模块是一个包含所有你定义的函数和变量的文件，其后缀名是``.py``。模块可以被别的程序引入，以使用该模块中的函数等功能"
   ]
  },
  {
   "cell_type": "markdown",
   "metadata": {},
   "source": [
    "## 1. 什么是模块"
   ]
  },
  {
   "cell_type": "markdown",
   "metadata": {},
   "source": [
    "1. 容器 -> 数据的封装\n",
    "2. 函数 -> 语句的封装\n",
    "3. 类 -> 方法和属性的封装\n",
    "4. 模块 -> 程序文件"
   ]
  },
  {
   "cell_type": "markdown",
   "metadata": {},
   "source": [
    "## 2. 命名空间"
   ]
  },
  {
   "cell_type": "markdown",
   "metadata": {},
   "source": [
    "1. **内置命名空间（Built-in Namespaces）**：Python 运行起来，它们就存在了。内置函数的命名空间都属于内置命名空间，所以，我们可以在任何程序中直接运行它们，比如``id()``,不需要做什么操作，拿过来就直接使用了\n",
    "2. **全局命名空间（Module：Global Namespaces）**：每个模块创建它自己所拥有的全局命名空间，不同模块的全局命名空间彼此独立，不同模块中相同名称的命名空间，也会因为模块的不同而不相互干扰\n",
    "3. **本地命名空间（Function & Class：Local Namespaces）**：模块中有函数或者类，每个函数或者类所定义的命名空间就是本地命名空间。如果函数返回了结果或者抛出异常，则本地命名空间也结束了"
   ]
  },
  {
   "cell_type": "markdown",
   "metadata": {},
   "source": [
    "程序按照从里到外的顺序，即：Local Namespaces --> Global Namesspaces --> Built-in Namesspaces查询上述三种命名空间"
   ]
  },
  {
   "cell_type": "markdown",
   "metadata": {},
   "source": [
    "## 3. 导入模块"
   ]
  },
  {
   "cell_type": "markdown",
   "metadata": {},
   "source": [
    "1. import 模块名\n",
    "2. from 模块名 import 函数名\n",
    "3. import 模块名 as 新名字"
   ]
  },
  {
   "cell_type": "markdown",
   "metadata": {},
   "source": [
    "## 4. ``if __name__ == '__main__'``"
   ]
  },
  {
   "cell_type": "markdown",
   "metadata": {},
   "source": [
    "1. ``__name__``：是内置变量，可用于表示当前模块的名字\n",
    "2. 如果一个 .py 文件（模块）被直接运行时，其``__name__``值为``__main__``，即模块名为``__main__``\n",
    "3. ``if __name__ == '__main__'``的意思是：当 .py 文件被直接运行时，``if __name__ == '__main__'``之下的代码块将被运行；当 .py 文件以模块形式被导入时，``if __name__ == '__main__'``之下的代码块不被运行"
   ]
  },
  {
   "cell_type": "markdown",
   "metadata": {},
   "source": [
    "## 5. 搜索路径"
   ]
  },
  {
   "cell_type": "markdown",
   "metadata": {},
   "source": [
    "1. 当解释器遇到 import 语句，如果模块在当前的搜索路径就会被导入\n",
    "2. Python 的搜索路径: 搜索路径是由一系列目录名组成的，Python 解释器就依次从这些目录中去寻找所引入的模块"
   ]
  },
  {
   "cell_type": "markdown",
   "metadata": {},
   "source": [
    "## 6. 包（package）"
   ]
  },
  {
   "cell_type": "markdown",
   "metadata": {},
   "source": [
    "创建包分为三个步骤：\n",
    "<br>\n",
    "+ 创建一个文件夹，用于存放相关的模块，文件夹的名字即包的名字\n",
    "+ 在文件夹中创建一个 __init__.py 的模块文件，内容可以为空\n",
    "+ 将相关的模块放入文件夹中"
   ]
  },
  {
   "cell_type": "markdown",
   "metadata": {},
   "source": [
    "1. 导入一个包的时候，Python 会根据 ``sys.path`` 中的目录来寻找这个包中包含的子目录\n",
    "2. 目录只有包含一个叫做 ``__init__.py`` 的文件才会被认作是一个包，最简单的情况，放一个空的 ``__init__.py`` 就可以了\n",
    "3. 通常我们并不主张使用 ``*`` 这种方法来导入模块，因为这种方法经常会导致代码的可读性降低"
   ]
  },
  {
   "cell_type": "code",
   "execution_count": null,
   "metadata": {},
   "outputs": [],
   "source": []
  }
 ],
 "metadata": {
  "kernelspec": {
   "display_name": "Python 3",
   "language": "python",
   "name": "python3"
  },
  "language_info": {
   "codemirror_mode": {
    "name": "ipython",
    "version": 3
   },
   "file_extension": ".py",
   "mimetype": "text/x-python",
   "name": "python",
   "nbconvert_exporter": "python",
   "pygments_lexer": "ipython3",
   "version": "3.7.4"
  }
 },
 "nbformat": 4,
 "nbformat_minor": 2
}
