{
 "cells": [
  {
   "cell_type": "markdown",
   "metadata": {},
   "source": [
    "# 位运算"
   ]
  },
  {
   "cell_type": "markdown",
   "metadata": {},
   "source": [
    "## 1. 位运算的基本操作"
   ]
  },
  {
   "cell_type": "markdown",
   "metadata": {},
   "source": [
    "### 1.1 原码、反码和补码"
   ]
  },
  {
   "cell_type": "markdown",
   "metadata": {},
   "source": [
    "+ **原码:** 数字的二进制表；\n",
    "+ **反码:** 正数的反码=原码；负数的原码符号位不变，其余位取反得到其反码;\n",
    "+ **补码:** 正数的补码=原码；负数的反码+1得到补码;\n",
    "+ **符号位** 最高位为符号位, 0表示整数, 1表示负数;\n",
    "+ **计算机内部:** 以补码形式存储整数, 输出的也是补码形式;"
   ]
  },
  {
   "cell_type": "markdown",
   "metadata": {},
   "source": [
    "### 1.2 按位非(~)操作"
   ]
  },
  {
   "cell_type": "markdown",
   "metadata": {},
   "source": [
    "按位取反;"
   ]
  },
  {
   "cell_type": "markdown",
   "metadata": {},
   "source": [
    "### 1.3 按位与(&)操作"
   ]
  },
  {
   "cell_type": "markdown",
   "metadata": {},
   "source": [
    "对应位都为1时结果才为1;"
   ]
  },
  {
   "cell_type": "markdown",
   "metadata": {},
   "source": [
    "### 1.4 按位或(|)操作"
   ]
  },
  {
   "cell_type": "markdown",
   "metadata": {},
   "source": [
    "只要对应位中有一个为1结果就为1;"
   ]
  },
  {
   "cell_type": "markdown",
   "metadata": {},
   "source": [
    "### 1.5 按位异或(^)操作"
   ]
  },
  {
   "cell_type": "markdown",
   "metadata": {},
   "source": [
    "+ 对应位不同时才返回1;\n",
    "+ 满足**交换律**和**结合律**;"
   ]
  },
  {
   "cell_type": "code",
   "execution_count": 1,
   "metadata": {},
   "outputs": [
    {
     "name": "stdout",
     "output_type": "stream",
     "text": [
      "0b10001\n",
      "0b10101\n"
     ]
    }
   ],
   "source": [
    "a, b = 17, 21\n",
    "print(bin(17))\n",
    "print(bin(21))"
   ]
  },
  {
   "cell_type": "code",
   "execution_count": 2,
   "metadata": {},
   "outputs": [
    {
     "name": "stdout",
     "output_type": "stream",
     "text": [
      "0b100\n",
      "0b100\n"
     ]
    }
   ],
   "source": [
    "# 交换律\n",
    "print(bin(a^b))\n",
    "print(bin(b^a))"
   ]
  },
  {
   "cell_type": "code",
   "execution_count": 3,
   "metadata": {},
   "outputs": [
    {
     "name": "stdout",
     "output_type": "stream",
     "text": [
      "0b0\n",
      "0b10001\n",
      "0b10101\n",
      "0b10101\n",
      "0b10101\n"
     ]
    }
   ],
   "source": [
    "print(bin(a^a))  # a^a = 0\n",
    "print(bin(a^0))  # a^0 = a\n",
    "# 结合律\n",
    "print(bin(a^b^a))  # a^b^a = a^a^b = b\n",
    "print(bin(a^a^b))\n",
    "print(bin(b))"
   ]
  },
  {
   "cell_type": "markdown",
   "metadata": {},
   "source": [
    "### 1.6 按位左移(<<)操作"
   ]
  },
  {
   "cell_type": "markdown",
   "metadata": {},
   "source": [
    "`num << i` 将 `num` 的二进制表示向左移动`i` 位;"
   ]
  },
  {
   "cell_type": "markdown",
   "metadata": {},
   "source": [
    "### 1.7 按位右移(>>)操作"
   ]
  },
  {
   "cell_type": "markdown",
   "metadata": {},
   "source": [
    "`num >> i` 将 `num` 的二进制表示向右移动`i` 位;"
   ]
  },
  {
   "cell_type": "markdown",
   "metadata": {},
   "source": [
    "# 2. 利用位运算实现快速计算"
   ]
  },
  {
   "cell_type": "markdown",
   "metadata": {},
   "source": [
    "### 2.1 通过``<<``, ``>>``快速计算2的倍数 "
   ]
  },
  {
   "cell_type": "code",
   "execution_count": 4,
   "metadata": {},
   "outputs": [
    {
     "name": "stdout",
     "output_type": "stream",
     "text": [
      "6\n",
      "3\n",
      "32\n",
      "2\n",
      "8\n"
     ]
    }
   ],
   "source": [
    "print(3 << 1)  # 计算3*(2^1)\n",
    "print(6 >> 1)  # 计算6/(2^1)  # (负奇数的运算不可用)\n",
    "print(4 << 3)  # 计算4*(2^3)\n",
    "print(8 >> 2)  # 计算8/(2^2)\n",
    "\n",
    "print(1 << 3)  # 计算2^3"
   ]
  },
  {
   "cell_type": "markdown",
   "metadata": {},
   "source": [
    "### 2.2 通过``^``快速交换两个整数"
   ]
  },
  {
   "cell_type": "code",
   "execution_count": 5,
   "metadata": {},
   "outputs": [
    {
     "name": "stdout",
     "output_type": "stream",
     "text": [
      "4 3\n"
     ]
    }
   ],
   "source": [
    "a, b = 3, 4\n",
    "a ^= b  # 即a = a^b\n",
    "b ^= a  # 实现b=a\n",
    "a ^= b  # 实现a=b\n",
    "print(a, b)"
   ]
  },
  {
   "cell_type": "markdown",
   "metadata": {},
   "source": [
    "**【分析】** \n",
    "+ b = b^a = b^(a^b) = a^(b^b) = a;\n",
    "+ a = a^b = (a^b)^**b** = a^b^a = b;  (第1个b是原b值, 第2个**b**已经换为了a值)"
   ]
  },
  {
   "cell_type": "markdown",
   "metadata": {},
   "source": [
    "### 2.3 通过``a & (-a)``快速获取``a``的最后为1位置的整数"
   ]
  },
  {
   "cell_type": "code",
   "execution_count": 6,
   "metadata": {},
   "outputs": [
    {
     "name": "stdout",
     "output_type": "stream",
     "text": [
      "3 0b11\n",
      "1\n",
      "14 0b1110\n",
      "2\n"
     ]
    }
   ],
   "source": [
    "a = 3\n",
    "print(a, bin(a))\n",
    "print(a & (-a))\n",
    "b = 14\n",
    "print(b, bin(b))\n",
    "print(b & (-b))"
   ]
  },
  {
   "cell_type": "markdown",
   "metadata": {},
   "source": [
    "# 3. 利用位运算实现整数集合"
   ]
  },
  {
   "cell_type": "markdown",
   "metadata": {},
   "source": [
    "一个数的二进制表示可以看作是一个集合(0表示不再集合中, 1表示在集合中). 比如集合``{1, 3, 4}``, 可以表示成``1 1 0 1 0``(即数``26``的二进制表示, 其中1、3和4位为1). 而对应的位运算也就可以看作是对集合进行的操作."
   ]
  },
  {
   "cell_type": "markdown",
   "metadata": {},
   "source": [
    "### 3.1 元素与集合的操作"
   ]
  },
  {
   "cell_type": "code",
   "execution_count": 7,
   "metadata": {},
   "outputs": [
    {
     "name": "stdout",
     "output_type": "stream",
     "text": [
      "0b11010\n",
      "30 0b11110\n",
      "22 0b10110\n",
      "16 True\n",
      "0 False\n"
     ]
    }
   ],
   "source": [
    "a = 26  # 集合a:{1, 3, 4}\n",
    "print(bin(a))\n",
    "# 把2插入到集合a中\n",
    "b = a | (1 << 2)  # b = 30 (11110)  集合b:{1, 2，3, 4}\n",
    "print(b, bin(b))\n",
    "# 把3从集合b:中删除\n",
    "c = b & ~(1 << 3)  # c = 22 (10110)  集合c:{1, 2, 4}\n",
    "print(c, bin(c))\n",
    "# 判断4是否属于c集合  # 零不属于, 非零属于\n",
    "d = c & (1 << 4)  # d = 16  # 非零属于\n",
    "print(d, 'True' if d != 0 else 'False')\n",
    "# 判断3是否属于c集合\n",
    "e = c & (1 << 3)  # d = 0  # 零不属于\n",
    "print(e, 'True' if e != 0 else 'False')"
   ]
  },
  {
   "cell_type": "markdown",
   "metadata": {},
   "source": [
    "### 3.2 集合之间的操作"
   ]
  },
  {
   "cell_type": "code",
   "execution_count": 8,
   "metadata": {},
   "outputs": [
    {
     "name": "stdout",
     "output_type": "stream",
     "text": [
      "集合a: 0b11010\n",
      "集合b: 0b11111\n",
      "a的补集: -27 0b11111111111111111111111111100101\n",
      "a交b: 26 0b11010\n",
      "a并b: 31 0b11111\n",
      "b-a: 5 0b101\n"
     ]
    }
   ],
   "source": [
    "a = 26  # 集合a:{1, 3, 4}\n",
    "b = 31  # 集合b:{0, 1, 2, 3, 4}\n",
    "print('集合a:', bin(a))\n",
    "print('集合b:', bin(b))\n",
    "print('a的补集:', ~a, bin(~a & 0xffffffff))  # 26按位取反得-27, 输出-27的补码\n",
    "print('a交b:', a&b, bin(a&b))  # 交\n",
    "print('a并b:', a|b, bin(a|b))  # 并\n",
    "print('b-a:', b&(~a), bin(b&(~a)))  # 差(多的-少的)"
   ]
  },
  {
   "cell_type": "markdown",
   "metadata": {},
   "source": [
    "### 3.3 负数的补码表示"
   ]
  },
  {
   "cell_type": "markdown",
   "metadata": {},
   "source": [
    "+ Python中``bin``一个负数(十进制表示), 输出的是它的原码的二进制表示加上个负号;\n",
    "+ Python中的整型是补码形式存储的;\n",
    "+ Python中整型是不限制长度的, 不会超范围溢出;\n",
    "+ **负数的补码:** 将该负数和十六进制数``0xffffffff``进行按位与操作, 在交给``bin()``进行输出;"
   ]
  },
  {
   "cell_type": "code",
   "execution_count": 9,
   "metadata": {},
   "outputs": [
    {
     "name": "stdout",
     "output_type": "stream",
     "text": [
      "0b11\n",
      "-0b11\n",
      "0b11111111111111111111111111111101\n"
     ]
    }
   ],
   "source": [
    "print(bin(3))\n",
    "print(bin(-3))  # 输出的并非-3的补码\n",
    "print(bin(-3 & 0xffffffff))  # -3的补码101"
   ]
  },
  {
   "cell_type": "markdown",
   "metadata": {},
   "source": [
    "## 4. 练习题"
   ]
  },
  {
   "cell_type": "markdown",
   "metadata": {},
   "source": [
    "#### leetcode 习题 136. 只出现一次的数字"
   ]
  },
  {
   "cell_type": "markdown",
   "metadata": {},
   "source": [
    "给定一个**非空**整数数字, 除了某个元素只出现一次外, 其余每个元素均出现两次. 找出那个只出现了一次的元素.\n",
    "<br>\n",
    "尝试使用位运算解决此题."
   ]
  },
  {
   "cell_type": "code",
   "execution_count": 12,
   "metadata": {},
   "outputs": [
    {
     "name": "stdout",
     "output_type": "stream",
     "text": [
      "输入：4 1 2 1 2\n",
      "输入数组: [4, 1, 2, 1, 2]\n",
      "只出现一次的元素为: 4\n"
     ]
    }
   ],
   "source": [
    "arr = input('输入：')  # 输入一个一维数组，每个数之间使空格隔开 \n",
    "n = [int(n) for n in arr.split()]  # 将输入每个数以空格键隔开做成数组\n",
    "print('输入数组:', n)  # 打印数组\n",
    "num = 0\n",
    "\n",
    "for i in range(len(n)):\n",
    "    num = num^int(n[i])\n",
    "\n",
    "print('只出现一次的元素为:', num)"
   ]
  },
  {
   "cell_type": "markdown",
   "metadata": {},
   "source": [
    "**【思路】- 异或法**\n",
    "<br>\n",
    "根据异或运算的特点, 相同的数字经过异或运算后结果为 0. 除单独出现一次的数字外, 其它数字均出现两次, 这些数字经异或运算后结果为 0. 任何数字与 0 进行异或运算结果都是其本身. 所以对数组所有元素进行异或运算便可. (异或运算满足交换律和结合律)"
   ]
  },
  {
   "cell_type": "code",
   "execution_count": null,
   "metadata": {},
   "outputs": [],
   "source": []
  }
 ],
 "metadata": {
  "kernelspec": {
   "display_name": "Python 3",
   "language": "python",
   "name": "python3"
  },
  "language_info": {
   "codemirror_mode": {
    "name": "ipython",
    "version": 3
   },
   "file_extension": ".py",
   "mimetype": "text/x-python",
   "name": "python",
   "nbconvert_exporter": "python",
   "pygments_lexer": "ipython3",
   "version": "3.7.4"
  }
 },
 "nbformat": 4,
 "nbformat_minor": 2
}
