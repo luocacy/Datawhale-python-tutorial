{
 "cells": [
  {
   "cell_type": "markdown",
   "metadata": {},
   "source": [
    "# 字符串"
   ]
  },
  {
   "cell_type": "markdown",
   "metadata": {},
   "source": [
    "## 1. 字符串的定义"
   ]
  },
  {
   "cell_type": "markdown",
   "metadata": {},
   "source": [
    "+ Python 中字符串被定义为引号之间的字符集合;\n",
    "+ Python 支持使用成对的 单引号 或 双引号;"
   ]
  },
  {
   "cell_type": "code",
   "execution_count": 12,
   "metadata": {
    "ExecuteTime": {
     "end_time": "2020-08-05T03:18:58.113915Z",
     "start_time": "2020-08-05T03:18:58.108902Z"
    }
   },
   "outputs": [
    {
     "name": "stdout",
     "output_type": "stream",
     "text": [
      "i love Python! <class 'str'>\n",
      "I love Python! <class 'str'>\n",
      "13\n",
      "58\n"
     ]
    }
   ],
   "source": [
    "t1 = 'i love Python!'\n",
    "print(t1, type(t1))\n",
    "\n",
    "t2 = \"I love Python!\"\n",
    "print(t2, type(t2))\n",
    "\n",
    "print(5 + 8)  \n",
    "print('5' + '8')  "
   ]
  },
  {
   "cell_type": "markdown",
   "metadata": {},
   "source": [
    "####                                           Python 的常用转义字符"
   ]
  },
  {
   "cell_type": "markdown",
   "metadata": {},
   "source": [
    "| 转义字符        | 描述         | \n",
    "|:--------:  | :-----: | \n",
    "| ``\\\\`` | 反斜杠符号 |  \n",
    "| ``\\'`` | 单引号 | \n",
    "| ``\\\"`` | 双引号 | \n",
    "| ``\\n`` | 换行 |  \n",
    "| ``\\t`` | 横向制表符(TAB) | \n",
    "| ``\\r`` | 回车 | "
   ]
  },
  {
   "cell_type": "markdown",
   "metadata": {},
   "source": [
    "如果字符串中需要出现单引号或双引号，可以使用转义符号``\\``对字符串中的符号进行转义;"
   ]
  },
  {
   "cell_type": "code",
   "execution_count": 13,
   "metadata": {
    "ExecuteTime": {
     "end_time": "2020-08-05T03:18:58.944545Z",
     "start_time": "2020-08-05T03:18:58.940534Z"
    }
   },
   "outputs": [
    {
     "name": "stdout",
     "output_type": "stream",
     "text": [
      "let's go\n",
      "let's go\n",
      "C:\\now\n",
      "C:\\Program Files\\Intel\\Wifi\\Help\n"
     ]
    }
   ],
   "source": [
    "print('let\\'s go')  \n",
    "print(\"let's go\")  \n",
    "print('C:\\\\now')  \n",
    "print(\"C:\\\\Program Files\\\\Intel\\\\Wifi\\\\Help\")"
   ]
  },
  {
   "cell_type": "markdown",
   "metadata": {},
   "source": [
    "原始字符串只需要在字符串前边加一个英文字母 ``r`` 即可;"
   ]
  },
  {
   "cell_type": "code",
   "execution_count": 14,
   "metadata": {
    "ExecuteTime": {
     "end_time": "2020-08-05T03:18:59.302744Z",
     "start_time": "2020-08-05T03:18:59.299744Z"
    }
   },
   "outputs": [
    {
     "name": "stdout",
     "output_type": "stream",
     "text": [
      "C:\\Program Files\\Intel\\Wifi\\Help\n"
     ]
    }
   ],
   "source": [
    "print(r'C:\\Program Files\\Intel\\Wifi\\Help')  "
   ]
  },
  {
   "cell_type": "markdown",
   "metadata": {},
   "source": [
    "**三引号**允许一个字符串跨多行，字符串中可以包含换行符、制表符以及其他特殊字符;"
   ]
  },
  {
   "cell_type": "code",
   "execution_count": 15,
   "metadata": {
    "ExecuteTime": {
     "end_time": "2020-08-05T03:18:59.640082Z",
     "start_time": "2020-08-05T03:18:59.636082Z"
    }
   },
   "outputs": [
    {
     "name": "stdout",
     "output_type": "stream",
     "text": [
      "这是一个多行字符串的实例\n",
      "多行字符串可以使用制表符\n",
      "TAB ( \t )。\n",
      "也可以使用换行符 [ \n",
      " ]。\n",
      "\n",
      "这是一个多行字符串的实例\n",
      "多行字符串可以使用制表符\n",
      "TAB ( \t )。\n",
      "也可以使用换行符 [ \n",
      " ]。\n",
      "\n"
     ]
    }
   ],
   "source": [
    "para_str = \"\"\"这是一个多行字符串的实例\n",
    "多行字符串可以使用制表符\n",
    "TAB ( \\t )。\n",
    "也可以使用换行符 [ \\n ]。\n",
    "\"\"\"\n",
    "print(para_str)\n",
    "\n",
    "para_str = '''这是一个多行字符串的实例\n",
    "多行字符串可以使用制表符\n",
    "TAB ( \\t )。\n",
    "也可以使用换行符 [ \\n ]。\n",
    "'''\n",
    "print(para_str)"
   ]
  },
  {
   "cell_type": "markdown",
   "metadata": {},
   "source": [
    "## 2. 字符串的切片与拼接"
   ]
  },
  {
   "cell_type": "markdown",
   "metadata": {},
   "source": [
    "1. 类似于元组具有不可修改性\n",
    "2. 从 0 开始 (和 Java 一样)\n",
    "3. 切片通常写成 ``start:end`` 这种形式，包括「``start`` 索引」对应的元素，不包括「``end``索引」对应的元素;\n",
    "4. 索引值可正可负，正索引从 0 开始，从左往右；负索引从 -1 开始，从右往左。使用负数索引时，会从最后一个元素开始计数。最后一个元素的位置编号是 -1;"
   ]
  },
  {
   "cell_type": "code",
   "execution_count": 16,
   "metadata": {
    "ExecuteTime": {
     "end_time": "2020-08-05T03:19:00.136706Z",
     "start_time": "2020-08-05T03:19:00.132705Z"
    }
   },
   "outputs": [
    {
     "name": "stdout",
     "output_type": "stream",
     "text": [
      "I Love\n",
      "e\n",
      "I Love 插入的字符串  LsgoGroup\n",
      "Python\n",
      "th\n",
      "yth\n",
      "t\n",
      "n\n"
     ]
    }
   ],
   "source": [
    "str1 = 'I Love LsgoGroup'\n",
    "print(str1[:6])  \n",
    "print(str1[5])  \n",
    "print(str1[:6] + \" 插入的字符串 \" + str1[6:])  \n",
    "\n",
    "s = 'Python'\n",
    "print(s)  \n",
    "print(s[2:4])  \n",
    "print(s[-5:-2])  \n",
    "print(s[2])  \n",
    "print(s[-1]) "
   ]
  },
  {
   "cell_type": "markdown",
   "metadata": {},
   "source": [
    "## 3. 字符串的常用内置方法"
   ]
  },
  {
   "cell_type": "markdown",
   "metadata": {},
   "source": [
    "1. ``capitalize()`` 将字符串的第一个字符转换为大写;"
   ]
  },
  {
   "cell_type": "code",
   "execution_count": 17,
   "metadata": {
    "ExecuteTime": {
     "end_time": "2020-08-05T03:19:00.632965Z",
     "start_time": "2020-08-05T03:19:00.615028Z"
    }
   },
   "outputs": [
    {
     "name": "stdout",
     "output_type": "stream",
     "text": [
      "Xiaoxie\n"
     ]
    }
   ],
   "source": [
    "str2 = 'xiaoxie'\n",
    "print(str2.capitalize())"
   ]
  },
  {
   "cell_type": "markdown",
   "metadata": {},
   "source": [
    "2. ``lower()`` 转换字符串中所有大写字符为小写;\n",
    "3. ``upper()`` 转换字符串中的小写字母为大写;\n",
    "4. ``swapcase()`` 将字符串中大写转换为小写，小写转换为大写;"
   ]
  },
  {
   "cell_type": "code",
   "execution_count": 18,
   "metadata": {
    "ExecuteTime": {
     "end_time": "2020-08-05T03:19:00.968048Z",
     "start_time": "2020-08-05T03:19:00.964047Z"
    }
   },
   "outputs": [
    {
     "name": "stdout",
     "output_type": "stream",
     "text": [
      "daxiexiaoxie\n",
      "DAXIEXIAOXIE\n",
      "daxieXIAOXIE\n"
     ]
    }
   ],
   "source": [
    "str2 = \"DAXIExiaoxie\"\n",
    "print(str2.lower())  \n",
    "print(str2.upper())  \n",
    "print(str2.swapcase())"
   ]
  },
  {
   "cell_type": "markdown",
   "metadata": {},
   "source": [
    "5. ``count(str, beg= 0,end=len(string))`` 返回``str``在 string 里面出现的次数，如果``beg``或者``end``指定则返回指定范围内``str``出现的次数;"
   ]
  },
  {
   "cell_type": "code",
   "execution_count": 19,
   "metadata": {
    "ExecuteTime": {
     "end_time": "2020-08-05T03:19:01.312126Z",
     "start_time": "2020-08-05T03:19:01.308125Z"
    }
   },
   "outputs": [
    {
     "name": "stdout",
     "output_type": "stream",
     "text": [
      "2\n"
     ]
    }
   ],
   "source": [
    "str2 = \"DAXIExiaoxie\"\n",
    "print(str2.count('xi'))"
   ]
  },
  {
   "cell_type": "markdown",
   "metadata": {},
   "source": [
    "6. ``endswith(suffix, beg=0, end=len(string))`` 检查字符串是否以指定子字符串 ``suffix`` 结束，如果是，返回 True，否则返回 False。如果 ``beg`` 和 ``end`` 指定值，则在指定范围内检查;\n",
    "7. ``startswith(substr, beg=0,end=len(string))`` 检查字符串是否以指定子字符串 ``substr`` 开头，如果是，返回 True，否则返回 False。如果 ``beg`` 和 ``end`` 指定值，则在指定范围内检查;"
   ]
  },
  {
   "cell_type": "code",
   "execution_count": 20,
   "metadata": {
    "ExecuteTime": {
     "end_time": "2020-08-05T03:19:01.648201Z",
     "start_time": "2020-08-05T03:19:01.644201Z"
    }
   },
   "outputs": [
    {
     "name": "stdout",
     "output_type": "stream",
     "text": [
      "True\n",
      "False\n",
      "False\n",
      "True\n"
     ]
    }
   ],
   "source": [
    "str2 = \"DAXIExiaoxie\"\n",
    "print(str2.endswith('ie'))  \n",
    "print(str2.endswith('xi'))  \n",
    "print(str2.startswith('Da'))  \n",
    "print(str2.startswith('DA'))"
   ]
  },
  {
   "cell_type": "markdown",
   "metadata": {},
   "source": [
    "8. ``find(str, beg=0, end=len(string))`` 检测 ``str`` 是否包含在字符串中，如果指定范围 ``beg`` 和 ``end``，则检查是否包含在指定范围内，如果包含，返回开始的索引值，否则返回 -1;\n",
    "9. ``rfind(str, beg=0,end=len(string))`` 类似于 ``find()`` 函数，不过是从右边开始查找;"
   ]
  },
  {
   "cell_type": "code",
   "execution_count": 21,
   "metadata": {
    "ExecuteTime": {
     "end_time": "2020-08-05T03:19:01.991280Z",
     "start_time": "2020-08-05T03:19:01.988279Z"
    }
   },
   "outputs": [
    {
     "name": "stdout",
     "output_type": "stream",
     "text": [
      "5\n",
      "-1\n",
      "9\n"
     ]
    }
   ],
   "source": [
    "str2 = \"DAXIExiaoxie\"\n",
    "print(str2.find('xi'))  \n",
    "print(str2.find('ix'))  \n",
    "print(str2.rfind('xi'))"
   ]
  },
  {
   "cell_type": "markdown",
   "metadata": {},
   "source": [
    "10. ``isnumeric()`` 如果字符串中只包含数字字符，则返回 True，否则返回 False;"
   ]
  },
  {
   "cell_type": "code",
   "execution_count": 22,
   "metadata": {
    "ExecuteTime": {
     "end_time": "2020-08-05T03:19:02.343421Z",
     "start_time": "2020-08-05T03:19:02.340359Z"
    }
   },
   "outputs": [
    {
     "name": "stdout",
     "output_type": "stream",
     "text": [
      "True\n",
      "False\n"
     ]
    }
   ],
   "source": [
    "str3 = '12345'\n",
    "print(str3.isnumeric())  \n",
    "str3 += 'a'\n",
    "print(str3.isnumeric())"
   ]
  },
  {
   "cell_type": "markdown",
   "metadata": {},
   "source": [
    "11. ``ljust(width[, fillchar])``返回一个原字符串左对齐，并使用``fillchar``（默认空格）填充至长度``width``的新字符串;\n",
    "12. ``rjust(width[, fillchar])``返回一个原字符串右对齐，并使用``fillchar``（默认空格）填充至长度``width``的新字符串;"
   ]
  },
  {
   "cell_type": "code",
   "execution_count": 23,
   "metadata": {
    "ExecuteTime": {
     "end_time": "2020-08-05T03:19:02.688437Z",
     "start_time": "2020-08-05T03:19:02.684436Z"
    }
   },
   "outputs": [
    {
     "name": "stdout",
     "output_type": "stream",
     "text": [
      "11010000\n",
      "00001101\n"
     ]
    }
   ],
   "source": [
    "str4 = '1101'\n",
    "print(str4.ljust(8, '0'))  \n",
    "print(str4.rjust(8, '0'))"
   ]
  },
  {
   "cell_type": "markdown",
   "metadata": {},
   "source": [
    "13. ``lstrip([chars])`` 截掉字符串左边的空格或指定字符;\n",
    "14. ``rstrip([chars])`` 删除字符串末尾的空格或指定字符;\n",
    "15. ``strip([chars])`` 在字符串上执行``lstrip()``和``rstrip()``;"
   ]
  },
  {
   "cell_type": "code",
   "execution_count": 24,
   "metadata": {
    "ExecuteTime": {
     "end_time": "2020-08-05T03:19:03.025513Z",
     "start_time": "2020-08-05T03:19:03.021512Z"
    }
   },
   "outputs": [
    {
     "name": "stdout",
     "output_type": "stream",
     "text": [
      "I Love LsgoGroup \n",
      " Love LsgoGroup \n",
      " I Love LsgoGroup\n",
      "I Love LsgoGroup\n",
      "I Love LsgoGrou\n"
     ]
    }
   ],
   "source": [
    "str5 = ' I Love LsgoGroup '\n",
    "print(str5.lstrip())  \n",
    "print(str5.lstrip().strip('I'))  \n",
    "print(str5.rstrip())  \n",
    "print(str5.strip()) \n",
    "print(str5.strip().strip('p'))"
   ]
  },
  {
   "cell_type": "markdown",
   "metadata": {},
   "source": [
    "16. ``partition(sub)`` 找到子字符串sub，把字符串分为一个三元组``(pre_sub,sub,fol_sub)``，如果字符串中不包含``sub``则返回('原字符串','','');\n",
    "17. ``rpartition(sub)``类似于``partition()``方法，不过是从右边开始查找;"
   ]
  },
  {
   "cell_type": "code",
   "execution_count": 25,
   "metadata": {
    "ExecuteTime": {
     "end_time": "2020-08-05T03:19:03.384595Z",
     "start_time": "2020-08-05T03:19:03.380593Z"
    }
   },
   "outputs": [
    {
     "name": "stdout",
     "output_type": "stream",
     "text": [
      "('I L', 'o', 've LsgoGroup')\n",
      "('I Love LsgoGroup', '', '')\n",
      "('I Love LsgoGr', 'o', 'up')\n"
     ]
    }
   ],
   "source": [
    "str5 = ' I Love LsgoGroup '\n",
    "print(str5.strip().partition('o'))  \n",
    "print(str5.strip().partition('m'))  \n",
    "print(str5.strip().rpartition('o'))"
   ]
  },
  {
   "cell_type": "markdown",
   "metadata": {},
   "source": [
    "18. ``replace(old, new [, max])`` 把 将字符串中的``old``替换成``new``，如果``max``指定，则替换不超过``max``次;"
   ]
  },
  {
   "cell_type": "code",
   "execution_count": 26,
   "metadata": {
    "ExecuteTime": {
     "end_time": "2020-08-05T03:19:03.863703Z",
     "start_time": "2020-08-05T03:19:03.860702Z"
    }
   },
   "outputs": [
    {
     "name": "stdout",
     "output_type": "stream",
     "text": [
      "We Love LsgoGroup\n"
     ]
    }
   ],
   "source": [
    "str5 = ' I Love LsgoGroup '\n",
    "print(str5.strip().replace('I', 'We'))"
   ]
  },
  {
   "cell_type": "markdown",
   "metadata": {},
   "source": [
    "19. ``split(str=\"\", num)`` 不带参数默认是以空格为分隔符切片字符串，如果``num``参数有设置，则仅分隔``num``个子字符串，返回切片后的子字符串拼接的列表;"
   ]
  },
  {
   "cell_type": "code",
   "execution_count": 27,
   "metadata": {
    "ExecuteTime": {
     "end_time": "2020-08-05T03:19:04.255819Z",
     "start_time": "2020-08-05T03:19:04.252819Z"
    }
   },
   "outputs": [
    {
     "name": "stdout",
     "output_type": "stream",
     "text": [
      "['I', 'Love', 'LsgoGroup']\n",
      "['I L', 've Lsg', 'Gr', 'up']\n"
     ]
    }
   ],
   "source": [
    "str5 = ' I Love LsgoGroup '\n",
    "print(str5.strip().split())  \n",
    "print(str5.strip().split('o'))"
   ]
  },
  {
   "cell_type": "code",
   "execution_count": 28,
   "metadata": {
    "ExecuteTime": {
     "end_time": "2020-08-05T03:19:04.434860Z",
     "start_time": "2020-08-05T03:19:04.428858Z"
    }
   },
   "outputs": [
    {
     "name": "stdout",
     "output_type": "stream",
     "text": [
      "['www.baidu.com.cn']\n",
      "['www', 'baidu', 'com', 'cn']\n",
      "['www.baidu.com.cn']\n",
      "['www', 'baidu.com.cn']\n",
      "['www', 'baidu', 'com.cn']\n",
      "baidu\n",
      "www\n",
      "baidu\n",
      "com.cn\n"
     ]
    }
   ],
   "source": [
    "u = \"www.baidu.com.cn\"\n",
    "# 使用默认分隔符\n",
    "print(u.split())  \n",
    "\n",
    "# 以\".\"为分隔符\n",
    "print((u.split('.'))) \n",
    "\n",
    "# 分割0次\n",
    "print((u.split(\".\", 0)))  \n",
    "\n",
    "# 分割一次\n",
    "print((u.split(\".\", 1))) \n",
    "\n",
    "# 分割两次\n",
    "print(u.split(\".\", 2))  \n",
    "\n",
    "# 分割两次，并取序列为1的项\n",
    "print((u.split(\".\", 2)[1])) \n",
    "\n",
    "# 分割两次，并把分割后的三个部分保存到三个变量\n",
    "u1, u2, u3 = u.split(\".\", 2)\n",
    "print(u1)  \n",
    "print(u2)  \n",
    "print(u3)"
   ]
  },
  {
   "cell_type": "markdown",
   "metadata": {},
   "source": [
    "去掉换行符"
   ]
  },
  {
   "cell_type": "code",
   "execution_count": 29,
   "metadata": {
    "ExecuteTime": {
     "end_time": "2020-08-05T03:19:04.839951Z",
     "start_time": "2020-08-05T03:19:04.836950Z"
    }
   },
   "outputs": [
    {
     "name": "stdout",
     "output_type": "stream",
     "text": [
      "say\n",
      "hello\n",
      "baby\n",
      "['say', 'hello', 'baby']\n"
     ]
    }
   ],
   "source": [
    "c = '''say\n",
    "hello\n",
    "baby'''\n",
    "\n",
    "print(c)\n",
    "\n",
    "print(c.split('\\n'))"
   ]
  },
  {
   "cell_type": "code",
   "execution_count": 30,
   "metadata": {
    "ExecuteTime": {
     "end_time": "2020-08-05T03:19:05.243129Z",
     "start_time": "2020-08-05T03:19:05.240041Z"
    }
   },
   "outputs": [
    {
     "name": "stdout",
     "output_type": "stream",
     "text": [
      "www.baidu.com\n",
      "['www', 'baidu', 'com']\n"
     ]
    }
   ],
   "source": [
    "string = \"hello boy<[www.baidu.com]>byebye\"\n",
    "print(string.split('[')[1].split(']')[0])  \n",
    "print(string.split('[')[1].split(']')[0].split('.'))"
   ]
  },
  {
   "cell_type": "markdown",
   "metadata": {},
   "source": [
    "20. ``splitlines([keepends])`` 按照行('\\r', '\\r\\n', \\n')分隔，返回一个包含各行作为元素的列表，如果参数``keepends``为 False，不包含换行符，如果为 True，则保留换行符;"
   ]
  },
  {
   "cell_type": "code",
   "execution_count": 31,
   "metadata": {
    "ExecuteTime": {
     "end_time": "2020-08-05T03:19:05.800548Z",
     "start_time": "2020-08-05T03:19:05.785839Z"
    }
   },
   "outputs": [
    {
     "name": "stdout",
     "output_type": "stream",
     "text": [
      "['I ', ' Love ', ' LsgoGroup']\n",
      "['I \\n', ' Love \\n', ' LsgoGroup']\n"
     ]
    }
   ],
   "source": [
    "str6 = 'I \\n Love \\n LsgoGroup'\n",
    "print(str6.splitlines())  \n",
    "print(str6.splitlines(True)) "
   ]
  },
  {
   "cell_type": "markdown",
   "metadata": {},
   "source": [
    "21. ``maketrans(intab, outtab)`` 创建字符映射的转换表，第一个参数是字符串，表示需要转换的字符，第二个参数也是字符串表示转换的目标;\n",
    "22. ``translate(table, deletechars=\"\")`` 根据参数``table``给出的表，转换字符串的字符，要过滤掉的字符放到``deletechars``参数中;"
   ]
  },
  {
   "cell_type": "code",
   "execution_count": 32,
   "metadata": {
    "ExecuteTime": {
     "end_time": "2020-08-05T03:19:06.304631Z",
     "start_time": "2020-08-05T03:19:06.301492Z"
    }
   },
   "outputs": [
    {
     "name": "stdout",
     "output_type": "stream",
     "text": [
      "{97: 49, 101: 50, 105: 51, 111: 52, 117: 53}\n",
      "th3s 3s str3ng 2x1mpl2....w4w!!!\n"
     ]
    }
   ],
   "source": [
    "str7 = 'this is string example....wow!!!'\n",
    "intab = 'aeiou'\n",
    "outtab = '12345'\n",
    "trantab = str7.maketrans(intab, outtab)\n",
    "print(trantab)  \n",
    "print(str7.translate(trantab))"
   ]
  },
  {
   "cell_type": "markdown",
   "metadata": {},
   "source": [
    "## 4. 字符串格式化"
   ]
  },
  {
   "cell_type": "markdown",
   "metadata": {},
   "source": [
    "1. ``format`` 格式化函数;"
   ]
  },
  {
   "cell_type": "code",
   "execution_count": 33,
   "metadata": {
    "ExecuteTime": {
     "end_time": "2020-08-05T03:19:07.370949Z",
     "start_time": "2020-08-05T03:19:07.365935Z"
    }
   },
   "outputs": [
    {
     "name": "stdout",
     "output_type": "stream",
     "text": [
      "I Love Lsgogroup\n",
      "I Love Lsgogroup\n",
      "I Love Lsgogroup\n",
      "27.66GB\n"
     ]
    }
   ],
   "source": [
    "str8 = \"{0} Love {1}\".format('I', 'Lsgogroup')  # 位置参数\n",
    "print(str8)  \n",
    "\n",
    "str8 = \"{a} Love {b}\".format(a='I', b='Lsgogroup')  # 关键字参数\n",
    "print(str8)  \n",
    "\n",
    "str8 = \"{0} Love {b}\".format('I', b='Lsgogroup')  # 位置参数要在关键字参数之前\n",
    "print(str8)  \n",
    "\n",
    "str8 = '{0:.2f}{1}'.format(27.658, 'GB')  # 保留小数点后两位\n",
    "print(str8)"
   ]
  },
  {
   "cell_type": "markdown",
   "metadata": {},
   "source": [
    "2. Python 字符串格式化符号;"
   ]
  },
  {
   "cell_type": "code",
   "execution_count": 34,
   "metadata": {
    "ExecuteTime": {
     "end_time": "2020-08-05T03:19:08.020428Z",
     "start_time": "2020-08-05T03:19:08.005843Z"
    }
   },
   "outputs": [
    {
     "name": "stdout",
     "output_type": "stream",
     "text": [
      "a\n",
      "a b c\n",
      "4 + 5 = 9\n",
      "我叫 小明 今年 10 岁!\n",
      "12\n",
      "a\n",
      "A\n",
      "27.658000\n",
      "2.765800e+01\n",
      "2.765800E+01\n",
      "27.658\n",
      "I said: I am 22 years old..\n",
      "I said: 'I am 22 years old.'.\n"
     ]
    }
   ],
   "source": [
    "print('%c' % 97)  \n",
    "print('%c %c %c' % (97, 98, 99))  \n",
    "print('%d + %d = %d' % (4, 5, 9))  \n",
    "print(\"我叫 %s 今年 %d 岁!\" % ('小明', 10))  \n",
    "print('%o' % 10)  \n",
    "print('%x' % 10)  \n",
    "print('%X' % 10)  \n",
    "print('%f' % 27.658)  \n",
    "print('%e' % 27.658)  \n",
    "print('%E' % 27.658)  \n",
    "print('%g' % 27.658) \n",
    "text = \"I am %d years old.\" % 22\n",
    "print(\"I said: %s.\" % text)  \n",
    "print(\"I said: %r.\" % text)"
   ]
  },
  {
   "cell_type": "markdown",
   "metadata": {},
   "source": [
    "3. 格式化操作符辅助指令;"
   ]
  },
  {
   "cell_type": "code",
   "execution_count": 35,
   "metadata": {
    "ExecuteTime": {
     "end_time": "2020-08-05T03:19:08.682859Z",
     "start_time": "2020-08-05T03:19:08.677847Z"
    }
   },
   "outputs": [
    {
     "name": "stdout",
     "output_type": "stream",
     "text": [
      " 27.7\n",
      "2.77e+01\n",
      "        10\n",
      "10        \n",
      "+10\n",
      "0o12\n",
      "0x6c\n",
      "0000000005\n"
     ]
    }
   ],
   "source": [
    "print('%5.1f' % 27.658)  \n",
    "print('%.2e' % 27.658)  \n",
    "print('%10d' % 10)  \n",
    "print('%-10d' % 10) \n",
    "print('%+d' % 10)  \n",
    "print('%#o' % 10)  \n",
    "print('%#x' % 108)  \n",
    "print('%010d' % 5)"
   ]
  },
  {
   "cell_type": "code",
   "execution_count": null,
   "metadata": {},
   "outputs": [],
   "source": []
  },
  {
   "cell_type": "code",
   "execution_count": null,
   "metadata": {},
   "outputs": [],
   "source": []
  }
 ],
 "metadata": {
  "kernelspec": {
   "display_name": "Python 3",
   "language": "python",
   "name": "python3"
  },
  "language_info": {
   "codemirror_mode": {
    "name": "ipython",
    "version": 3
   },
   "file_extension": ".py",
   "mimetype": "text/x-python",
   "name": "python",
   "nbconvert_exporter": "python",
   "pygments_lexer": "ipython3",
   "version": "3.7.4"
  }
 },
 "nbformat": 4,
 "nbformat_minor": 2
}
