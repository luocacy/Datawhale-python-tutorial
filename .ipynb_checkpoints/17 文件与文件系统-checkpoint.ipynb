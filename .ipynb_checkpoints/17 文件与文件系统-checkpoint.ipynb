{
 "cells": [
  {
   "cell_type": "markdown",
   "metadata": {},
   "source": [
    "# 文件与文件系统"
   ]
  },
  {
   "cell_type": "markdown",
   "metadata": {},
   "source": [
    "## 1. 文件与文件系统"
   ]
  },
  {
   "cell_type": "markdown",
   "metadata": {},
   "source": [
    "### 1.1 打开文件"
   ]
  },
  {
   "cell_type": "markdown",
   "metadata": {},
   "source": [
    "+ ``open(file, mode='r', buffering=None, encoding=None, errors=None, newline=None, closefd=True)``"
   ]
  },
  {
   "cell_type": "code",
   "execution_count": 9,
   "metadata": {
    "ExecuteTime": {
     "end_time": "2020-08-14T01:58:14.339709Z",
     "start_time": "2020-08-14T01:58:14.336709Z"
    }
   },
   "outputs": [
    {
     "name": "stdout",
     "output_type": "stream",
     "text": [
      "<_io.TextIOWrapper name='test.txt' mode='r' encoding='cp936'>\n"
     ]
    }
   ],
   "source": [
    "f = open('test.txt')  # 文件名不能为中文\n",
    "print(f)"
   ]
  },
  {
   "cell_type": "code",
   "execution_count": 10,
   "metadata": {
    "ExecuteTime": {
     "end_time": "2020-08-14T01:58:24.708761Z",
     "start_time": "2020-08-14T01:58:24.697759Z"
    }
   },
   "outputs": [
    {
     "name": "stdout",
     "output_type": "stream",
     "text": [
      "将进酒·君不见\n",
      "\n",
      "\n",
      "\n",
      "【唐】李白\n",
      "\n",
      "\n",
      "\n",
      "君不见，黄河之水天上来，奔流到海不复回。\n",
      "\n",
      "\n",
      "\n",
      "君不见，高堂明镜悲白发，朝如青丝暮成雪。\n",
      "\n",
      "\n",
      "\n",
      "人生得意须尽欢，莫使金樽空对月。\n",
      "\n",
      "\n",
      "\n",
      "天生我材必有用，千金散尽还复来。\n",
      "\n",
      "\n",
      "\n",
      "烹羊宰牛且为乐，会须一饮三百杯。\n",
      "\n",
      "\n",
      "\n",
      "岑夫子，丹丘生，将进酒，杯莫停。\n",
      "\n",
      "\n",
      "\n",
      "与君歌一曲，请君为我倾耳听。\n",
      "\n",
      "\n",
      "\n",
      "钟鼓馔玉不足贵，但愿长醉不复醒。\n",
      "\n",
      "\n",
      "\n",
      "古来圣贤皆寂寞，惟有饮者留其名。\n",
      "\n",
      "\n",
      "\n",
      "陈王昔时宴平乐，斗酒十千恣欢谑。\n",
      "\n",
      "\n",
      "\n",
      "主人何为言少钱，径须沽取对君酌。\n",
      "\n",
      "\n",
      "\n",
      "五花马，千金裘，呼儿将出换美酒，与尔同销万古愁。\n"
     ]
    }
   ],
   "source": [
    "for each in f:\n",
    "    print(each)"
   ]
  },
  {
   "cell_type": "markdown",
   "metadata": {},
   "source": [
    "### 1.2 文件对象方面"
   ]
  },
  {
   "cell_type": "markdown",
   "metadata": {},
   "source": [
    "+ ``fileObject.close()`` 用于关闭一个已打开的文件。关闭后的文件不能再进行读写操作， 否则会触发ValueError错误。"
   ]
  },
  {
   "cell_type": "code",
   "execution_count": 12,
   "metadata": {
    "ExecuteTime": {
     "end_time": "2020-08-14T02:01:50.290549Z",
     "start_time": "2020-08-14T02:01:50.286548Z"
    }
   },
   "outputs": [
    {
     "name": "stdout",
     "output_type": "stream",
     "text": [
      "FileName: test.txt\n"
     ]
    }
   ],
   "source": [
    "f = open(\"test.txt\")\n",
    "print('FileName:', f.name)  \n",
    "f.close()"
   ]
  },
  {
   "cell_type": "markdown",
   "metadata": {},
   "source": [
    "+ ``fileObject.read([size])`` 用于从文件读取指定的字符数，如果未给定或为负则读取所有。"
   ]
  },
  {
   "cell_type": "code",
   "execution_count": 13,
   "metadata": {
    "ExecuteTime": {
     "end_time": "2020-08-14T02:02:31.041643Z",
     "start_time": "2020-08-14T02:02:31.022281Z"
    }
   },
   "outputs": [
    {
     "name": "stdout",
     "output_type": "stream",
     "text": [
      "读取的字符串: 将进酒·君不见\n",
      "\n",
      "【唐】李白\n",
      "\n",
      "君不见，\n"
     ]
    }
   ],
   "source": [
    "f = open('test.txt', 'r')\n",
    "line = f.read(20)\n",
    "print(\"读取的字符串: %s\" % line)\n",
    "\n",
    "f.close()"
   ]
  },
  {
   "cell_type": "markdown",
   "metadata": {},
   "source": [
    "+ ``fileObject.readline()``读取整行，包括 \"\\n\" 字符。"
   ]
  },
  {
   "cell_type": "code",
   "execution_count": 15,
   "metadata": {
    "ExecuteTime": {
     "end_time": "2020-08-14T02:03:33.145406Z",
     "start_time": "2020-08-14T02:03:33.141404Z"
    }
   },
   "outputs": [
    {
     "name": "stdout",
     "output_type": "stream",
     "text": [
      "['将进酒·君不见\\n', '\\n', '【唐】李白\\n', '\\n', '君不见，黄河之水天上来，奔流到海不复回。\\n', '\\n', '君不见，高堂明镜悲白发，朝如青丝暮成雪。\\n', '\\n', '人生得意须尽欢，莫使金樽空对月。\\n', '\\n', '天生我材必有用，千金散尽还复来。\\n', '\\n', '烹羊宰牛且为乐，会须一饮三百杯。\\n', '\\n', '岑夫子，丹丘生，将进酒，杯莫停。\\n', '\\n', '与君歌一曲，请君为我倾耳听。\\n', '\\n', '钟鼓馔玉不足贵，但愿长醉不复醒。\\n', '\\n', '古来圣贤皆寂寞，惟有饮者留其名。\\n', '\\n', '陈王昔时宴平乐，斗酒十千恣欢谑。\\n', '\\n', '主人何为言少钱，径须沽取对君酌。\\n', '\\n', '五花马，千金裘，呼儿将出换美酒，与尔同销万古愁。']\n"
     ]
    }
   ],
   "source": [
    "f = open('test.txt', 'r')\n",
    "lines = f.readlines()\n",
    "print(lines)"
   ]
  },
  {
   "cell_type": "code",
   "execution_count": 17,
   "metadata": {
    "ExecuteTime": {
     "end_time": "2020-08-14T02:04:01.772822Z",
     "start_time": "2020-08-14T02:04:01.768831Z"
    }
   },
   "outputs": [
    {
     "name": "stdout",
     "output_type": "stream",
     "text": [
      "将进酒·君不见\n",
      "\n",
      "\n",
      "\n",
      "【唐】李白\n",
      "\n",
      "\n",
      "\n",
      "君不见，黄河之水天上来，奔流到海不复回。\n",
      "\n",
      "\n",
      "\n",
      "君不见，高堂明镜悲白发，朝如青丝暮成雪。\n",
      "\n",
      "\n",
      "\n",
      "人生得意须尽欢，莫使金樽空对月。\n",
      "\n",
      "\n",
      "\n",
      "天生我材必有用，千金散尽还复来。\n",
      "\n",
      "\n",
      "\n",
      "烹羊宰牛且为乐，会须一饮三百杯。\n",
      "\n",
      "\n",
      "\n",
      "岑夫子，丹丘生，将进酒，杯莫停。\n",
      "\n",
      "\n",
      "\n",
      "与君歌一曲，请君为我倾耳听。\n",
      "\n",
      "\n",
      "\n",
      "钟鼓馔玉不足贵，但愿长醉不复醒。\n",
      "\n",
      "\n",
      "\n",
      "古来圣贤皆寂寞，惟有饮者留其名。\n",
      "\n",
      "\n",
      "\n",
      "陈王昔时宴平乐，斗酒十千恣欢谑。\n",
      "\n",
      "\n",
      "\n",
      "主人何为言少钱，径须沽取对君酌。\n",
      "\n",
      "\n",
      "\n",
      "五花马，千金裘，呼儿将出换美酒，与尔同销万古愁。\n"
     ]
    }
   ],
   "source": [
    "for each in lines:\n",
    "    each.strip()\n",
    "    print(each)\n",
    "    \n",
    "f.close()"
   ]
  },
  {
   "cell_type": "markdown",
   "metadata": {},
   "source": [
    "+ ``fileObject.tell()``返回文件的当前位置，即文件指针当前位置"
   ]
  },
  {
   "cell_type": "code",
   "execution_count": 19,
   "metadata": {
    "ExecuteTime": {
     "end_time": "2020-08-14T02:04:45.107070Z",
     "start_time": "2020-08-14T02:04:45.103079Z"
    }
   },
   "outputs": [
    {
     "name": "stdout",
     "output_type": "stream",
     "text": [
      "将进酒·君不见\n",
      "\n"
     ]
    }
   ],
   "source": [
    "f = open('test.txt', 'r')\n",
    "line = f.readline()\n",
    "print(line)"
   ]
  },
  {
   "cell_type": "code",
   "execution_count": 20,
   "metadata": {
    "ExecuteTime": {
     "end_time": "2020-08-14T02:04:57.940513Z",
     "start_time": "2020-08-14T02:04:57.936515Z"
    }
   },
   "outputs": [
    {
     "name": "stdout",
     "output_type": "stream",
     "text": [
      "16\n"
     ]
    }
   ],
   "source": [
    "pos = f.tell()\n",
    "print(pos)  \n",
    "f.close()"
   ]
  },
  {
   "cell_type": "markdown",
   "metadata": {},
   "source": [
    "+ ``fileObject.seek(offset[, whence])``用于移动文件读取指针到指定位置。<br>\n",
    "``offset：``开始的偏移量，也就是代表需要移动偏移的字节数，如果是负数表示从倒数第几位开始。 <br>\n",
    "``whence：``可选，默认值为 0。给 offset 定义一个参数，表示要从哪个位置开始偏移；0 代表从文件开头开始算起，1 代表从当前位置开始算起，2 代表从文件末尾算起。"
   ]
  },
  {
   "cell_type": "code",
   "execution_count": 26,
   "metadata": {
    "ExecuteTime": {
     "end_time": "2020-08-14T02:08:25.106496Z",
     "start_time": "2020-08-14T02:08:25.102486Z"
    }
   },
   "outputs": [
    {
     "name": "stdout",
     "output_type": "stream",
     "text": [
      "将进酒·君不见\n",
      "\n"
     ]
    }
   ],
   "source": [
    "f = open('test.txt', 'r')\n",
    "line = f.readline()\n",
    "print(line)"
   ]
  },
  {
   "cell_type": "code",
   "execution_count": 27,
   "metadata": {
    "ExecuteTime": {
     "end_time": "2020-08-14T02:08:25.698071Z",
     "start_time": "2020-08-14T02:08:25.694060Z"
    }
   },
   "outputs": [
    {
     "name": "stdout",
     "output_type": "stream",
     "text": [
      "\n",
      "\n"
     ]
    }
   ],
   "source": [
    "line = f.readline()\n",
    "print(line)"
   ]
  },
  {
   "cell_type": "code",
   "execution_count": 28,
   "metadata": {
    "ExecuteTime": {
     "end_time": "2020-08-14T02:08:26.282090Z",
     "start_time": "2020-08-14T02:08:26.278080Z"
    }
   },
   "outputs": [
    {
     "name": "stdout",
     "output_type": "stream",
     "text": [
      "将进酒·君不见\n",
      "\n"
     ]
    }
   ],
   "source": [
    "f.seek(0, 0)\n",
    "line = f.readline()\n",
    "print(line)"
   ]
  },
  {
   "cell_type": "code",
   "execution_count": 29,
   "metadata": {
    "ExecuteTime": {
     "end_time": "2020-08-14T02:08:26.865265Z",
     "start_time": "2020-08-14T02:08:26.862704Z"
    }
   },
   "outputs": [],
   "source": [
    "f.close()"
   ]
  },
  {
   "cell_type": "markdown",
   "metadata": {},
   "source": [
    "+ ``fileObject.write(str)``用于向文件中写入指定字符串，返回的是写入的字符长度"
   ]
  },
  {
   "cell_type": "code",
   "execution_count": 30,
   "metadata": {
    "ExecuteTime": {
     "end_time": "2020-08-14T02:09:21.220285Z",
     "start_time": "2020-08-14T02:09:21.214281Z"
    }
   },
   "outputs": [
    {
     "name": "stdout",
     "output_type": "stream",
     "text": [
      "16\n",
      "5\n",
      "b'5'\n",
      "13\n",
      "b'd'\n"
     ]
    }
   ],
   "source": [
    "f = open('workfile.txt', 'wb+')\n",
    "print(f.write(b'0123456789abcdef'))  \n",
    "print(f.seek(5))  \n",
    "print(f.read(1))  \n",
    "print(f.seek(-3, 2))  \n",
    "print(f.read(1))"
   ]
  },
  {
   "cell_type": "markdown",
   "metadata": {},
   "source": [
    "在文件关闭前或缓冲区刷新前，字符串内容存储在缓冲区中，这时你在文件中是看不到写入的内容的;  <br>\n",
    "如果文件打开模式带``b``，那写入文件内容时，``str``（参数）要用``encode``方法转为``bytes``形式，否则报错：``TypeError: a bytes-like object is required, not 'str'``。"
   ]
  },
  {
   "cell_type": "code",
   "execution_count": 31,
   "metadata": {
    "ExecuteTime": {
     "end_time": "2020-08-14T02:11:01.187861Z",
     "start_time": "2020-08-14T02:11:01.171870Z"
    }
   },
   "outputs": [
    {
     "name": "stdout",
     "output_type": "stream",
     "text": [
      "将进酒·君不见\n",
      "\n",
      "\n",
      "\n",
      "【唐】李白\n",
      "\n",
      "\n",
      "\n",
      "君不见，黄河之水天上来，奔流到海不复回。\n",
      "\n",
      "\n",
      "\n",
      "君不见，高堂明镜悲白发，朝如青丝暮成雪。\n",
      "\n",
      "\n",
      "\n",
      "人生得意须尽欢，莫使金樽空对月。\n",
      "\n",
      "\n",
      "\n",
      "天生我材必有用，千金散尽还复来。\n",
      "\n",
      "\n",
      "\n",
      "烹羊宰牛且为乐，会须一饮三百杯。\n",
      "\n",
      "\n",
      "\n",
      "岑夫子，丹丘生，将进酒，杯莫停。\n",
      "\n",
      "\n",
      "\n",
      "与君歌一曲，请君为我倾耳听。\n",
      "\n",
      "\n",
      "\n",
      "钟鼓馔玉不足贵，但愿长醉不复醒。\n",
      "\n",
      "\n",
      "\n",
      "古来圣贤皆寂寞，惟有饮者留其名。\n",
      "\n",
      "\n",
      "\n",
      "陈王昔时宴平乐，斗酒十千恣欢谑。\n",
      "\n",
      "\n",
      "\n",
      "主人何为言少钱，径须沽取对君酌。\n",
      "\n",
      "\n",
      "\n",
      "五花马，千金裘，呼儿将出换美酒，与尔同销万古愁。\n",
      "\n",
      "作者：李白\n"
     ]
    }
   ],
   "source": [
    "f = open('test.txt', 'r+')\n",
    "str = '\\n作者：李白'\n",
    "f.seek(0, 2)\n",
    "line = f.write(str)\n",
    "f.seek(0, 0)\n",
    "for each in f:\n",
    "    print(each)\n",
    "    \n",
    "f.close()"
   ]
  },
  {
   "cell_type": "markdown",
   "metadata": {},
   "source": [
    "+ ``fileObject.writelines(sequence)``向文件写入一个序列字符串列表，如果需要换行则要自己加入每行的换行符``\\n``。"
   ]
  },
  {
   "cell_type": "code",
   "execution_count": 32,
   "metadata": {
    "ExecuteTime": {
     "end_time": "2020-08-14T02:11:57.041019Z",
     "start_time": "2020-08-14T02:11:57.036018Z"
    }
   },
   "outputs": [
    {
     "name": "stdout",
     "output_type": "stream",
     "text": [
      "小马的程序人生\n",
      "\n",
      "老马的程序人生\n"
     ]
    }
   ],
   "source": [
    "f = open('test.txt', 'w+')\n",
    "seq = ['小马的程序人生\\n', '老马的程序人生']\n",
    "f.writelines(seq)\n",
    "f.seek(0, 0)\n",
    "for each in f:\n",
    "    print(each)\n",
    "    \n",
    "f.close()"
   ]
  },
  {
   "cell_type": "markdown",
   "metadata": {},
   "source": [
    "### 1.3 简洁的 with 语句"
   ]
  },
  {
   "cell_type": "markdown",
   "metadata": {},
   "source": [
    "一些对象定义了标准的清理行为，无论系统是否成功的使用了它，一旦不需要它了，那么这个标准的清理行为就会执行。关键词 with 语句就可以保证诸如文件之类的对象在使用完之后一定会正确的执行它的清理方法。"
   ]
  },
  {
   "cell_type": "code",
   "execution_count": 35,
   "metadata": {
    "ExecuteTime": {
     "end_time": "2020-08-14T02:14:29.659067Z",
     "start_time": "2020-08-14T02:14:29.649473Z"
    }
   },
   "outputs": [
    {
     "ename": "TypeError",
     "evalue": "'str' object is not callable",
     "output_type": "error",
     "traceback": [
      "\u001b[1;31m---------------------------------------------------------------------------\u001b[0m",
      "\u001b[1;31mUnsupportedOperation\u001b[0m                      Traceback (most recent call last)",
      "\u001b[1;32m<ipython-input-35-b500ea45981d>\u001b[0m in \u001b[0;36m<module>\u001b[1;34m\u001b[0m\n\u001b[0;32m      2\u001b[0m     \u001b[0mf\u001b[0m \u001b[1;33m=\u001b[0m \u001b[0mopen\u001b[0m\u001b[1;33m(\u001b[0m\u001b[1;34m'test.txt'\u001b[0m\u001b[1;33m,\u001b[0m \u001b[1;34m'w'\u001b[0m\u001b[1;33m)\u001b[0m\u001b[1;33m\u001b[0m\u001b[1;33m\u001b[0m\u001b[0m\n\u001b[1;32m----> 3\u001b[1;33m     \u001b[1;32mfor\u001b[0m \u001b[0mline\u001b[0m \u001b[1;32min\u001b[0m \u001b[0mf\u001b[0m\u001b[1;33m:\u001b[0m\u001b[1;33m\u001b[0m\u001b[1;33m\u001b[0m\u001b[0m\n\u001b[0m\u001b[0;32m      4\u001b[0m         \u001b[0mprint\u001b[0m\u001b[1;33m(\u001b[0m\u001b[0mline\u001b[0m\u001b[1;33m)\u001b[0m\u001b[1;33m\u001b[0m\u001b[1;33m\u001b[0m\u001b[0m\n",
      "\u001b[1;31mUnsupportedOperation\u001b[0m: not readable",
      "\nDuring handling of the above exception, another exception occurred:\n",
      "\u001b[1;31mTypeError\u001b[0m                                 Traceback (most recent call last)",
      "\u001b[1;32m<ipython-input-35-b500ea45981d>\u001b[0m in \u001b[0;36m<module>\u001b[1;34m\u001b[0m\n\u001b[0;32m      4\u001b[0m         \u001b[0mprint\u001b[0m\u001b[1;33m(\u001b[0m\u001b[0mline\u001b[0m\u001b[1;33m)\u001b[0m\u001b[1;33m\u001b[0m\u001b[1;33m\u001b[0m\u001b[0m\n\u001b[0;32m      5\u001b[0m \u001b[1;32mexcept\u001b[0m \u001b[0mOSError\u001b[0m \u001b[1;32mas\u001b[0m \u001b[0merror\u001b[0m\u001b[1;33m:\u001b[0m\u001b[1;33m\u001b[0m\u001b[1;33m\u001b[0m\u001b[0m\n\u001b[1;32m----> 6\u001b[1;33m     \u001b[0mprint\u001b[0m\u001b[1;33m(\u001b[0m\u001b[1;34m'Found error!%s'\u001b[0m \u001b[1;33m%\u001b[0m \u001b[0mstr\u001b[0m\u001b[1;33m(\u001b[0m\u001b[0merror\u001b[0m\u001b[1;33m)\u001b[0m\u001b[1;33m)\u001b[0m\u001b[1;33m\u001b[0m\u001b[1;33m\u001b[0m\u001b[0m\n\u001b[0m\u001b[0;32m      7\u001b[0m \u001b[1;32mfinally\u001b[0m\u001b[1;33m:\u001b[0m\u001b[1;33m\u001b[0m\u001b[1;33m\u001b[0m\u001b[0m\n\u001b[0;32m      8\u001b[0m     \u001b[0mf\u001b[0m\u001b[1;33m.\u001b[0m\u001b[0mclose\u001b[0m\u001b[1;33m(\u001b[0m\u001b[1;33m)\u001b[0m\u001b[1;33m\u001b[0m\u001b[1;33m\u001b[0m\u001b[0m\n",
      "\u001b[1;31mTypeError\u001b[0m: 'str' object is not callable"
     ]
    }
   ],
   "source": [
    "try:\n",
    "    f = open('test.txt', 'w')\n",
    "    for line in f:\n",
    "        print(line)\n",
    "except OSError as error:\n",
    "    print('出错啦!%s' % str(error))\n",
    "finally:\n",
    "    f.close()"
   ]
  },
  {
   "cell_type": "markdown",
   "metadata": {},
   "source": [
    "这段代码执行完毕后，就算在处理过程中出问题了，文件 f 总是会关闭。"
   ]
  },
  {
   "cell_type": "code",
   "execution_count": 36,
   "metadata": {
    "ExecuteTime": {
     "end_time": "2020-08-14T02:15:37.589613Z",
     "start_time": "2020-08-14T02:15:37.579551Z"
    }
   },
   "outputs": [
    {
     "ename": "TypeError",
     "evalue": "'str' object is not callable",
     "output_type": "error",
     "traceback": [
      "\u001b[1;31m---------------------------------------------------------------------------\u001b[0m",
      "\u001b[1;31mUnsupportedOperation\u001b[0m                      Traceback (most recent call last)",
      "\u001b[1;32m<ipython-input-36-bb10ef781dc1>\u001b[0m in \u001b[0;36m<module>\u001b[1;34m\u001b[0m\n\u001b[0;32m      2\u001b[0m     \u001b[1;32mwith\u001b[0m \u001b[0mopen\u001b[0m\u001b[1;33m(\u001b[0m\u001b[1;34m'myfile.txt'\u001b[0m\u001b[1;33m,\u001b[0m \u001b[1;34m'w'\u001b[0m\u001b[1;33m)\u001b[0m \u001b[1;32mas\u001b[0m \u001b[0mf\u001b[0m\u001b[1;33m:\u001b[0m\u001b[1;33m\u001b[0m\u001b[1;33m\u001b[0m\u001b[0m\n\u001b[1;32m----> 3\u001b[1;33m         \u001b[1;32mfor\u001b[0m \u001b[0mline\u001b[0m \u001b[1;32min\u001b[0m \u001b[0mf\u001b[0m\u001b[1;33m:\u001b[0m\u001b[1;33m\u001b[0m\u001b[1;33m\u001b[0m\u001b[0m\n\u001b[0m\u001b[0;32m      4\u001b[0m             \u001b[0mprint\u001b[0m\u001b[1;33m(\u001b[0m\u001b[0mline\u001b[0m\u001b[1;33m)\u001b[0m\u001b[1;33m\u001b[0m\u001b[1;33m\u001b[0m\u001b[0m\n",
      "\u001b[1;31mUnsupportedOperation\u001b[0m: not readable",
      "\nDuring handling of the above exception, another exception occurred:\n",
      "\u001b[1;31mTypeError\u001b[0m                                 Traceback (most recent call last)",
      "\u001b[1;32m<ipython-input-36-bb10ef781dc1>\u001b[0m in \u001b[0;36m<module>\u001b[1;34m\u001b[0m\n\u001b[0;32m      4\u001b[0m             \u001b[0mprint\u001b[0m\u001b[1;33m(\u001b[0m\u001b[0mline\u001b[0m\u001b[1;33m)\u001b[0m\u001b[1;33m\u001b[0m\u001b[1;33m\u001b[0m\u001b[0m\n\u001b[0;32m      5\u001b[0m \u001b[1;32mexcept\u001b[0m \u001b[0mOSError\u001b[0m \u001b[1;32mas\u001b[0m \u001b[0merror\u001b[0m\u001b[1;33m:\u001b[0m\u001b[1;33m\u001b[0m\u001b[1;33m\u001b[0m\u001b[0m\n\u001b[1;32m----> 6\u001b[1;33m     \u001b[0mprint\u001b[0m\u001b[1;33m(\u001b[0m\u001b[1;34m'出错啦!%s'\u001b[0m \u001b[1;33m%\u001b[0m \u001b[0mstr\u001b[0m\u001b[1;33m(\u001b[0m\u001b[0merror\u001b[0m\u001b[1;33m)\u001b[0m\u001b[1;33m)\u001b[0m\u001b[1;33m\u001b[0m\u001b[1;33m\u001b[0m\u001b[0m\n\u001b[0m",
      "\u001b[1;31mTypeError\u001b[0m: 'str' object is not callable"
     ]
    }
   ],
   "source": [
    "try:\n",
    "    with open('myfile.txt', 'w') as f:\n",
    "        for line in f:\n",
    "            print(line)\n",
    "except OSError as error:\n",
    "    print('出错啦!%s' % str(error))"
   ]
  },
  {
   "cell_type": "markdown",
   "metadata": {},
   "source": [
    "## 2. OS 模块中关于文件/目录常用的函数"
   ]
  },
  {
   "cell_type": "markdown",
   "metadata": {},
   "source": [
    "OS（Operation System）模块，我们不需要操作系统的差异，OS模块会帮你选择正确的模块并调用：\n",
    "+ ``os.getcwd()``用于返回当前工作目录。\n",
    "+ ``os.chdir(path)``用于改变当前工作目录到指定的路径。"
   ]
  },
  {
   "cell_type": "code",
   "execution_count": 38,
   "metadata": {
    "ExecuteTime": {
     "end_time": "2020-08-14T02:18:19.349232Z",
     "start_time": "2020-08-14T02:18:19.344230Z"
    }
   },
   "outputs": [
    {
     "name": "stdout",
     "output_type": "stream",
     "text": [
      "当前工作目录 : E:\\Jupyter\\0 Datawhale\\Python实践教程\\Datawhale-python-tutorial\n",
      "目录修改成功 : C:\\\n"
     ]
    }
   ],
   "source": [
    "import os\n",
    "\n",
    "path = 'C:\\\\'\n",
    "print(\"当前工作目录 : %s\" % os.getcwd())\n",
    "\n",
    "os.chdir(path)\n",
    "print(\"目录修改成功 : %s\" % os.getcwd())"
   ]
  },
  {
   "cell_type": "markdown",
   "metadata": {},
   "source": [
    "+ ``listdir (path='.')``返回``path``指定的文件夹包含的文件或文件夹的名字的列表"
   ]
  },
  {
   "cell_type": "code",
   "execution_count": 39,
   "metadata": {
    "ExecuteTime": {
     "end_time": "2020-08-14T02:19:21.487474Z",
     "start_time": "2020-08-14T02:19:21.483474Z"
    }
   },
   "outputs": [
    {
     "name": "stdout",
     "output_type": "stream",
     "text": [
      "$Recycle.Bin\n",
      "$Windows.~WS\n",
      "$WINRE_BACKUP_PARTITION.MARKER\n",
      "AMTAG.BIN\n",
      "B3DA6235C8D6\n",
      "ckcore.txt\n",
      "DGRebootRun.ini\n",
      "DiskGenius_WinPE\n",
      "Documents and Settings\n",
      "hiberfil.sys\n",
      "LeakHotfix\n",
      "MSOCache\n",
      "pagefile.sys\n",
      "PerfLogs\n",
      "Program Files\n",
      "Program Files (x86)\n",
      "ProgramData\n",
      "Recovery\n",
      "swapfile.sys\n",
      "System Volume Information\n",
      "temp\n",
      "Users\n",
      "Windows\n"
     ]
    }
   ],
   "source": [
    "import os\n",
    "\n",
    "dirs = os.listdir()\n",
    "for item in dirs:\n",
    "    print(item)"
   ]
  },
  {
   "cell_type": "markdown",
   "metadata": {},
   "source": [
    "+ ``os.mkdir(path)``创建单层目录，如果该目录已存在抛出异常。"
   ]
  },
  {
   "cell_type": "code",
   "execution_count": 40,
   "metadata": {
    "ExecuteTime": {
     "end_time": "2020-08-14T02:19:57.375507Z",
     "start_time": "2020-08-14T02:19:57.368506Z"
    }
   },
   "outputs": [
    {
     "ename": "FileNotFoundError",
     "evalue": "[WinError 3] 系统找不到指定的路径。: '.\\\\C\\\\A'",
     "output_type": "error",
     "traceback": [
      "\u001b[1;31m---------------------------------------------------------------------------\u001b[0m",
      "\u001b[1;31mFileNotFoundError\u001b[0m                         Traceback (most recent call last)",
      "\u001b[1;32m<ipython-input-40-bf736ab9f0fc>\u001b[0m in \u001b[0;36m<module>\u001b[1;34m\u001b[0m\n\u001b[0;32m      5\u001b[0m     \u001b[0mos\u001b[0m\u001b[1;33m.\u001b[0m\u001b[0mmkdir\u001b[0m\u001b[1;33m(\u001b[0m\u001b[1;34mr'.\\B\\A'\u001b[0m\u001b[1;33m)\u001b[0m\u001b[1;33m\u001b[0m\u001b[1;33m\u001b[0m\u001b[0m\n\u001b[0;32m      6\u001b[0m \u001b[1;33m\u001b[0m\u001b[0m\n\u001b[1;32m----> 7\u001b[1;33m \u001b[0mos\u001b[0m\u001b[1;33m.\u001b[0m\u001b[0mmkdir\u001b[0m\u001b[1;33m(\u001b[0m\u001b[1;34mr'.\\C\\A'\u001b[0m\u001b[1;33m)\u001b[0m\u001b[1;33m\u001b[0m\u001b[1;33m\u001b[0m\u001b[0m\n\u001b[0m",
      "\u001b[1;31mFileNotFoundError\u001b[0m: [WinError 3] 系统找不到指定的路径。: '.\\\\C\\\\A'"
     ]
    }
   ],
   "source": [
    "import os\n",
    "\n",
    "if os.path.isdir(r'.\\b') is False:\n",
    "    os.mkdir(r'.\\B')\n",
    "    os.mkdir(r'.\\B\\A')\n",
    "\n",
    "os.mkdir(r'.\\C\\A')"
   ]
  },
  {
   "cell_type": "markdown",
   "metadata": {},
   "source": [
    "+ ``os.makedirs(path)``用于递归创建多层目录，如果该目录已存在抛出异常"
   ]
  },
  {
   "cell_type": "code",
   "execution_count": 41,
   "metadata": {
    "ExecuteTime": {
     "end_time": "2020-08-14T02:20:30.225130Z",
     "start_time": "2020-08-14T02:20:30.221131Z"
    }
   },
   "outputs": [],
   "source": [
    "import os\n",
    "os.makedirs(r'.\\E\\A')"
   ]
  },
  {
   "cell_type": "markdown",
   "metadata": {},
   "source": [
    "+ ``os.remove(path)``用于删除指定路径的文件。如果指定的路径是一个目录，将抛出 OSError。"
   ]
  },
  {
   "cell_type": "code",
   "execution_count": 42,
   "metadata": {
    "ExecuteTime": {
     "end_time": "2020-08-14T02:21:01.577335Z",
     "start_time": "2020-08-14T02:21:01.570278Z"
    }
   },
   "outputs": [
    {
     "name": "stdout",
     "output_type": "stream",
     "text": [
      "目录为: []\n"
     ]
    },
    {
     "ename": "FileNotFoundError",
     "evalue": "[WinError 2] 系统找不到指定的文件。: '.\\\\E\\\\A\\\\test.txt'",
     "output_type": "error",
     "traceback": [
      "\u001b[1;31m---------------------------------------------------------------------------\u001b[0m",
      "\u001b[1;31mFileNotFoundError\u001b[0m                         Traceback (most recent call last)",
      "\u001b[1;32m<ipython-input-42-bba49a4eae19>\u001b[0m in \u001b[0;36m<module>\u001b[1;34m\u001b[0m\n\u001b[0;32m      2\u001b[0m \u001b[1;33m\u001b[0m\u001b[0m\n\u001b[0;32m      3\u001b[0m \u001b[0mprint\u001b[0m\u001b[1;33m(\u001b[0m\u001b[1;34m\"目录为: %s\"\u001b[0m \u001b[1;33m%\u001b[0m \u001b[0mos\u001b[0m\u001b[1;33m.\u001b[0m\u001b[0mlistdir\u001b[0m\u001b[1;33m(\u001b[0m\u001b[1;34mr'.\\E\\A'\u001b[0m\u001b[1;33m)\u001b[0m\u001b[1;33m)\u001b[0m\u001b[1;33m\u001b[0m\u001b[1;33m\u001b[0m\u001b[0m\n\u001b[1;32m----> 4\u001b[1;33m \u001b[0mos\u001b[0m\u001b[1;33m.\u001b[0m\u001b[0mremove\u001b[0m\u001b[1;33m(\u001b[0m\u001b[1;34mr'.\\E\\A\\test.txt'\u001b[0m\u001b[1;33m)\u001b[0m\u001b[1;33m\u001b[0m\u001b[1;33m\u001b[0m\u001b[0m\n\u001b[0m\u001b[0;32m      5\u001b[0m \u001b[0mprint\u001b[0m\u001b[1;33m(\u001b[0m\u001b[1;34m\"目录为: %s\"\u001b[0m \u001b[1;33m%\u001b[0m \u001b[0mos\u001b[0m\u001b[1;33m.\u001b[0m\u001b[0mlistdir\u001b[0m\u001b[1;33m(\u001b[0m\u001b[1;34mr'.\\E\\A'\u001b[0m\u001b[1;33m)\u001b[0m\u001b[1;33m)\u001b[0m\u001b[1;33m\u001b[0m\u001b[1;33m\u001b[0m\u001b[0m\n",
      "\u001b[1;31mFileNotFoundError\u001b[0m: [WinError 2] 系统找不到指定的文件。: '.\\\\E\\\\A\\\\test.txt'"
     ]
    }
   ],
   "source": [
    "import os\n",
    "\n",
    "print(\"目录为: %s\" % os.listdir(r'.\\E\\A'))\n",
    "os.remove(r'.\\E\\A\\test.txt')\n",
    "print(\"目录为: %s\" % os.listdir(r'.\\E\\A'))"
   ]
  },
  {
   "cell_type": "markdown",
   "metadata": {},
   "source": [
    "+ os.rmdir(path)用于删除单层目录。仅当这文件夹是空的才可以, 否则, 抛出 OSError。\n",
    "+ os.removedirs(path)递归删除目录，从子目录到父目录逐层尝试删除，遇到目录非空则抛出异常。\n",
    "+ os.rename(src, dst)方法用于命名文件或目录，从 src 到 dst，如果 dst 是一个存在的目录, 将抛出 OSError。\n",
    "+ os.system(command)运行系统的shell命令（将字符串转化成命令）\n",
    "+ os.curdir指代当前目录（.）\n",
    "+ os.pardir指代上一级目录（..）\n",
    "+ os.sep输出操作系统特定的路径分隔符（win下为\\\\，Linux下为/）\n",
    "+ os.linesep当前平台使用的行终止符（win下为\\r\\n，Linux下为\\n）\n",
    "+ os.name指代当前使用的操作系统（包括：'mac'，'nt'）\n",
    "+ os.path.basename(path)去掉目录路径，单独返回文件名\n",
    "+ os.path.dirname(path)去掉文件名，单独返回目录路径\n",
    "+ os.path.join(path1[, path2[, ...]])将 path1，path2 各部分组合成一个路径名\n",
    "+ os.path.split(path)分割文件名与路径，返回(f_path,f_name)元组。如果完全使用目录，它会将最后一个目录作为文件名分离，且不会判断文件或者目录是否存在。\n",
    "+ os.path.splitext(path)分离文件名与扩展名，返回(f_path,f_name)元组。\n",
    "+ os.path.getsize(file)返回指定文件大小，单位是字节。\n",
    "+ os.path.getatime(file)返回指定文件最近的访问时间\n",
    "+ os.path.getctime(file)返回指定文件的创建时间\n",
    "+ os.path.getmtime(file)返回指定文件的最新的修改时间\n",
    "浮点型秒数，可用time模块的gmtime()或localtime()函数换算\n",
    "+ os.path.exists(path)判断指定路径（目录或文件）是否存在\n",
    "+ os.path.isabs(path)判断指定路径是否为绝对路径\n",
    "+ os.path.isdir(path)判断指定路径是否存在且是一个目录\n",
    "+ os.path.isfile(path)判断指定路径是否存在且是一个文件\n",
    "+ os.path.islink(path)判断指定路径是否存在且是一个符号链接\n",
    "+ os.path.ismount(path)判断指定路径是否存在且是一个悬挂点\n",
    "+ os.path.samefile(path1,path2)判断path1和path2两个路径是否指向同一个文件"
   ]
  },
  {
   "cell_type": "markdown",
   "metadata": {},
   "source": [
    "## 3. 序列化与反序列化"
   ]
  },
  {
   "cell_type": "markdown",
   "metadata": {},
   "source": [
    "Python 的 pickle 模块实现了基本的数据序列和反序列化。\n",
    "<br>\n",
    "+ 通过 pickle 模块的序列化操作我们能够将程序中运行的对象信息保存到文件中去，永久存储。\n",
    "+ 通过 pickle 模块的反序列化操作，我们能够从文件中创建上一次程序保存的对象。"
   ]
  },
  {
   "cell_type": "markdown",
   "metadata": {},
   "source": [
    "pickle模块中最常用的函数为：``pickle.dump(obj, file, [,protocol])`` 将``obj``对象序列化存入已经打开的``file``中。\n",
    "+ ``obj``：想要序列化的``obj``对象。\n",
    "+ ``file``:文件名称。\n",
    "+ ``protocol``：序列化使用的协议。如果该项省略，则默认为0。如果为负值或HIGHEST_PROTOCOL，则使用最高的协议版本。\n",
    "<br>\n",
    "``pickle.load(file)`` 将``file``中的对象序列化读出。\n",
    "+ ``file``：文件名称。"
   ]
  },
  {
   "cell_type": "code",
   "execution_count": 43,
   "metadata": {
    "ExecuteTime": {
     "end_time": "2020-08-14T02:26:48.047755Z",
     "start_time": "2020-08-14T02:26:48.038765Z"
    }
   },
   "outputs": [
    {
     "ename": "PermissionError",
     "evalue": "[Errno 13] Permission denied: '.\\\\dataFile.pkl'",
     "output_type": "error",
     "traceback": [
      "\u001b[1;31m---------------------------------------------------------------------------\u001b[0m",
      "\u001b[1;31mPermissionError\u001b[0m                           Traceback (most recent call last)",
      "\u001b[1;32m<ipython-input-43-f671a45a6a0f>\u001b[0m in \u001b[0;36m<module>\u001b[1;34m\u001b[0m\n\u001b[0;32m     11\u001b[0m \u001b[1;33m\u001b[0m\u001b[0m\n\u001b[0;32m     12\u001b[0m \u001b[1;31m# 使用dump()将数据序列化到文件中\u001b[0m\u001b[1;33m\u001b[0m\u001b[1;33m\u001b[0m\u001b[1;33m\u001b[0m\u001b[0m\n\u001b[1;32m---> 13\u001b[1;33m \u001b[0mfw\u001b[0m \u001b[1;33m=\u001b[0m \u001b[0mopen\u001b[0m\u001b[1;33m(\u001b[0m\u001b[1;34mr'.\\dataFile.pkl'\u001b[0m\u001b[1;33m,\u001b[0m \u001b[1;34m'wb'\u001b[0m\u001b[1;33m)\u001b[0m\u001b[1;33m\u001b[0m\u001b[1;33m\u001b[0m\u001b[0m\n\u001b[0m\u001b[0;32m     14\u001b[0m \u001b[1;33m\u001b[0m\u001b[0m\n\u001b[0;32m     15\u001b[0m \u001b[1;31m# Pickle the list using the highest protocol available.\u001b[0m\u001b[1;33m\u001b[0m\u001b[1;33m\u001b[0m\u001b[1;33m\u001b[0m\u001b[0m\n",
      "\u001b[1;31mPermissionError\u001b[0m: [Errno 13] Permission denied: '.\\\\dataFile.pkl'"
     ]
    }
   ],
   "source": [
    "import pickle\n",
    "\n",
    "dataList = [[1, 1, 'yes'],\n",
    "            [1, 1, 'yes'],\n",
    "            [1, 0, 'no'],\n",
    "            [0, 1, 'no'],\n",
    "            [0, 1, 'no']]\n",
    "dataDic = {0: [1, 2, 3, 4],\n",
    "           1: ('a', 'b'),\n",
    "           2: {'c': 'yes', 'd': 'no'}}\n",
    "\n",
    "# 使用dump()将数据序列化到文件中\n",
    "fw = open(r'.\\dataFile.pkl', 'wb')\n",
    "\n",
    "# Pickle the list using the highest protocol available.\n",
    "pickle.dump(dataList, fw, -1)\n",
    "\n",
    "# Pickle dictionary using protocol 0.\n",
    "pickle.dump(dataDic, fw)\n",
    "fw.close()\n",
    "\n",
    "# 使用load()将数据从文件中序列化读出\n",
    "fr = open('dataFile.pkl', 'rb')\n",
    "data1 = pickle.load(fr)\n",
    "print(data1)\n",
    "data2 = pickle.load(fr)\n",
    "print(data2)\n",
    "fr.close()"
   ]
  },
  {
   "cell_type": "code",
   "execution_count": null,
   "metadata": {},
   "outputs": [],
   "source": []
  }
 ],
 "metadata": {
  "kernelspec": {
   "display_name": "Python 3",
   "language": "python",
   "name": "python3"
  },
  "language_info": {
   "codemirror_mode": {
    "name": "ipython",
    "version": 3
   },
   "file_extension": ".py",
   "mimetype": "text/x-python",
   "name": "python",
   "nbconvert_exporter": "python",
   "pygments_lexer": "ipython3",
   "version": "3.7.4"
  }
 },
 "nbformat": 4,
 "nbformat_minor": 2
}
