{
 "cells": [
  {
   "cell_type": "markdown",
   "metadata": {},
   "source": [
    "# datatime 模块"
   ]
  },
  {
   "cell_type": "markdown",
   "metadata": {},
   "source": [
    "## 1. datetime 类"
   ]
  },
  {
   "cell_type": "markdown",
   "metadata": {},
   "source": [
    "+ ``datetime.now(tz=None)`` 获取当前的日期时间，输出顺序为：年、月、日、时、分、秒、微秒\n",
    "+ ``datetime.timestamp()`` 获取以 1970年1月1日为起点记录的秒数\n",
    "+ ``datetime.fromtimestamp(tz=None)`` 使用 unixtimestamp 创建一个 datetime"
   ]
  },
  {
   "cell_type": "code",
   "execution_count": 4,
   "metadata": {
    "ExecuteTime": {
     "end_time": "2020-08-13T03:40:22.634641Z",
     "start_time": "2020-08-13T03:40:22.630641Z"
    }
   },
   "outputs": [
    {
     "name": "stdout",
     "output_type": "stream",
     "text": [
      "2020-06-25 11:23:59\n",
      "1593055439.0\n"
     ]
    }
   ],
   "source": [
    "# 创建一个 datetime 对象\n",
    "import datetime\n",
    "\n",
    "dt = datetime.datetime(year=2020, month=6, day=25, hour=11, minute=23, second=59)\n",
    "print(dt)  \n",
    "print(dt.timestamp())  "
   ]
  },
  {
   "cell_type": "code",
   "execution_count": 5,
   "metadata": {
    "ExecuteTime": {
     "end_time": "2020-08-13T03:40:22.945746Z",
     "start_time": "2020-08-13T03:40:22.942745Z"
    }
   },
   "outputs": [
    {
     "name": "stdout",
     "output_type": "stream",
     "text": [
      "2020-06-25 11:23:59\n",
      "<class 'datetime.datetime'>\n"
     ]
    }
   ],
   "source": [
    "dt = datetime.datetime.fromtimestamp(1593055439.0)\n",
    "print(dt)  \n",
    "print(type(dt)) "
   ]
  },
  {
   "cell_type": "code",
   "execution_count": 6,
   "metadata": {
    "ExecuteTime": {
     "end_time": "2020-08-13T03:40:23.409761Z",
     "start_time": "2020-08-13T03:40:23.406773Z"
    }
   },
   "outputs": [
    {
     "name": "stdout",
     "output_type": "stream",
     "text": [
      "2020-08-13 11:40:23.407773\n",
      "<class 'datetime.datetime'>\n"
     ]
    }
   ],
   "source": [
    "dt = datetime.datetime.now()\n",
    "print(dt)  \n",
    "print(type(dt)) "
   ]
  },
  {
   "cell_type": "markdown",
   "metadata": {},
   "source": [
    "+ ``datetime.strftime(fmt)`` 格式化 datetime 对象"
   ]
  },
  {
   "cell_type": "code",
   "execution_count": 7,
   "metadata": {
    "ExecuteTime": {
     "end_time": "2020-08-13T03:43:20.644757Z",
     "start_time": "2020-08-13T03:43:20.639749Z"
    }
   },
   "outputs": [
    {
     "name": "stdout",
     "output_type": "stream",
     "text": [
      "'2020/06/25 11:51:49\n"
     ]
    }
   ],
   "source": [
    "# 将 datetime 对象转换为任何格式的日期\n",
    "import datetime\n",
    "\n",
    "dt = datetime.datetime(year=2020, month=6, day=25, hour=11, minute=51, second=49)\n",
    "s = dt.strftime(\"'%Y/%m/%d %H:%M:%S\")\n",
    "print(s)"
   ]
  },
  {
   "cell_type": "code",
   "execution_count": 8,
   "metadata": {
    "ExecuteTime": {
     "end_time": "2020-08-13T03:43:41.615805Z",
     "start_time": "2020-08-13T03:43:41.611793Z"
    }
   },
   "outputs": [
    {
     "name": "stdout",
     "output_type": "stream",
     "text": [
      "25 June, 2020, Thursday\n"
     ]
    }
   ],
   "source": [
    "s = dt.strftime('%d %B, %Y, %A')\n",
    "print(s)"
   ]
  },
  {
   "cell_type": "code",
   "execution_count": 9,
   "metadata": {
    "ExecuteTime": {
     "end_time": "2020-08-13T03:44:33.175581Z",
     "start_time": "2020-08-13T03:44:33.170589Z"
    }
   },
   "outputs": [
    {
     "name": "stdout",
     "output_type": "stream",
     "text": [
      "Sep-28,2010\n"
     ]
    }
   ],
   "source": [
    "# 将给定日期转换为 \"mmm-dd, YYYY\" 的格式\n",
    "import datetime\n",
    "\n",
    "d1 = datetime.date(2010, 9, 28)\n",
    "print(d1.strftime('%b-%d,%Y'))"
   ]
  },
  {
   "cell_type": "markdown",
   "metadata": {},
   "source": [
    "+ ``datetime.date()`` Return the date part.\n",
    "+ ``datetime.time()`` Return the time part, with tzinfo None.\n",
    "+ ``datetime.year`` 年\n",
    "+ ``datetime.month`` 月\n",
    "+ ``datetime.day`` 日\n",
    "+ ``datetime.hour`` 小时\n",
    "+ ``datetime.minute`` 分钟\n",
    "+ ``datetime.second`` 秒\n",
    "+ ``datetime.isoweekday`` 星期几"
   ]
  },
  {
   "cell_type": "code",
   "execution_count": 10,
   "metadata": {
    "ExecuteTime": {
     "end_time": "2020-08-13T03:46:25.459809Z",
     "start_time": "2020-08-13T03:46:25.454808Z"
    }
   },
   "outputs": [
    {
     "name": "stdout",
     "output_type": "stream",
     "text": [
      "2020-06-25\n",
      "<class 'datetime.date'>\n"
     ]
    }
   ],
   "source": [
    "import datetime\n",
    "\n",
    "dt = datetime.datetime(year=2020, month=6, day=25, hour=11, minute=51, second=49)\n",
    "print(dt.date())  \n",
    "print(type(dt.date()))"
   ]
  },
  {
   "cell_type": "code",
   "execution_count": 11,
   "metadata": {
    "ExecuteTime": {
     "end_time": "2020-08-13T03:46:52.693019Z",
     "start_time": "2020-08-13T03:46:52.678336Z"
    }
   },
   "outputs": [
    {
     "name": "stdout",
     "output_type": "stream",
     "text": [
      "11:51:49\n",
      "<class 'datetime.time'>\n"
     ]
    }
   ],
   "source": [
    "print(dt.time())  \n",
    "print(type(dt.time()))"
   ]
  },
  {
   "cell_type": "code",
   "execution_count": 12,
   "metadata": {
    "ExecuteTime": {
     "end_time": "2020-08-13T03:47:16.351224Z",
     "start_time": "2020-08-13T03:47:16.346234Z"
    }
   },
   "outputs": [
    {
     "name": "stdout",
     "output_type": "stream",
     "text": [
      "2020\n",
      "6\n",
      "25\n",
      "11\n",
      "51\n",
      "49\n"
     ]
    }
   ],
   "source": [
    "print(dt.year)  \n",
    "print(dt.month)  \n",
    "print(dt.day)  \n",
    "print(dt.hour)  \n",
    "print(dt.minute)  \n",
    "print(dt.second)"
   ]
  },
  {
   "cell_type": "code",
   "execution_count": 13,
   "metadata": {
    "ExecuteTime": {
     "end_time": "2020-08-13T03:47:28.697062Z",
     "start_time": "2020-08-13T03:47:28.693061Z"
    }
   },
   "outputs": [
    {
     "name": "stdout",
     "output_type": "stream",
     "text": [
      "4\n"
     ]
    }
   ],
   "source": [
    "print(dt.isoweekday())"
   ]
  },
  {
   "cell_type": "markdown",
   "metadata": {},
   "source": [
    "在处理含有字符串日期的数据集或表格时，我们需要一种自动解析字符串的方法，无论它是什么格式的，都可以将其转化为 datetime 对象。这时，就要使用到 dateutil 中的 parser 模块:\n",
    "<br>\n",
    "+ parser.parse(timestr, parserinfo=None, **kwargs)"
   ]
  },
  {
   "cell_type": "code",
   "execution_count": 14,
   "metadata": {
    "ExecuteTime": {
     "end_time": "2020-08-13T03:49:06.518934Z",
     "start_time": "2020-08-13T03:49:06.509574Z"
    }
   },
   "outputs": [
    {
     "name": "stdout",
     "output_type": "stream",
     "text": [
      "2020-06-25 00:00:00\n",
      "<class 'datetime.datetime'>\n"
     ]
    }
   ],
   "source": [
    "# 在 python 中将字符串解析为 datetime对象\n",
    "from dateutil import parser\n",
    "\n",
    "s = '2020-06-25'\n",
    "dt = parser.parse(s)\n",
    "print(dt)  \n",
    "print(type(dt))"
   ]
  },
  {
   "cell_type": "code",
   "execution_count": 15,
   "metadata": {
    "ExecuteTime": {
     "end_time": "2020-08-13T03:49:22.699578Z",
     "start_time": "2020-08-13T03:49:22.669852Z"
    }
   },
   "outputs": [
    {
     "name": "stdout",
     "output_type": "stream",
     "text": [
      "2010-03-31 22:51:00\n",
      "<class 'datetime.datetime'>\n"
     ]
    }
   ],
   "source": [
    "s = 'March 31, 2010, 10:51pm'\n",
    "dt = parser.parse(s)\n",
    "print(dt)  \n",
    "print(type(dt))"
   ]
  },
  {
   "cell_type": "code",
   "execution_count": 16,
   "metadata": {
    "ExecuteTime": {
     "end_time": "2020-08-13T03:49:50.364911Z",
     "start_time": "2020-08-13T03:49:50.359920Z"
    }
   },
   "outputs": [
    {
     "name": "stdout",
     "output_type": "stream",
     "text": [
      "2010-01-01 00:00:00\n",
      "2000-01-31 00:00:00\n",
      "1996-10-10 22:40:00\n"
     ]
    }
   ],
   "source": [
    "# 将字符串日期解析为 datetime 对象\n",
    "from dateutil import parser\n",
    "\n",
    "s1 = \"2010 Jan 1\"\n",
    "s2 = '31-1-2000'\n",
    "s3 = 'October10, 1996, 10:40pm'\n",
    "\n",
    "dt1 = parser.parse(s1)\n",
    "dt2 = parser.parse(s2)\n",
    "dt3 = parser.parse(s3)\n",
    "\n",
    "print(dt1)  \n",
    "print(dt2)  \n",
    "print(dt3)"
   ]
  },
  {
   "cell_type": "code",
   "execution_count": 17,
   "metadata": {
    "ExecuteTime": {
     "end_time": "2020-08-13T03:50:08.294092Z",
     "start_time": "2020-08-13T03:50:05.384827Z"
    }
   },
   "outputs": [
    {
     "name": "stdout",
     "output_type": "stream",
     "text": [
      "[datetime.timedelta(days=8) datetime.timedelta(days=5)\n",
      " datetime.timedelta(days=5) datetime.timedelta(days=3)]\n"
     ]
    }
   ],
   "source": [
    "import numpy as np\n",
    "from dateutil import parser\n",
    "\n",
    "dateString = ['Oct, 2, 1869', 'Oct, 10, 1869', 'Oct, 15, 1869', 'Oct, 20, 1869', 'Oct, 23, 1869']\n",
    "dates = [parser.parse(i) for i in dateString]\n",
    "td = np.diff(dates)\n",
    "print(td)"
   ]
  },
  {
   "cell_type": "code",
   "execution_count": 18,
   "metadata": {
    "ExecuteTime": {
     "end_time": "2020-08-13T03:50:24.032945Z",
     "start_time": "2020-08-13T03:50:24.018826Z"
    }
   },
   "outputs": [
    {
     "name": "stdout",
     "output_type": "stream",
     "text": [
      "[8, 5, 5, 3]\n"
     ]
    }
   ],
   "source": [
    "d = [i.days for i in td]\n",
    "print(d)"
   ]
  },
  {
   "cell_type": "markdown",
   "metadata": {},
   "source": [
    "## 2. date 类"
   ]
  },
  {
   "cell_type": "markdown",
   "metadata": {},
   "source": [
    "+ ``date.today()`` 获取当前日期信息"
   ]
  },
  {
   "cell_type": "code",
   "execution_count": 19,
   "metadata": {
    "ExecuteTime": {
     "end_time": "2020-08-13T03:51:38.196375Z",
     "start_time": "2020-08-13T03:51:38.191383Z"
    }
   },
   "outputs": [
    {
     "name": "stdout",
     "output_type": "stream",
     "text": [
      "2020-06-25\n",
      "<class 'datetime.date'>\n"
     ]
    }
   ],
   "source": [
    "import datetime\n",
    "\n",
    "d = datetime.date(2020, 6, 25)\n",
    "print(d)  \n",
    "print(type(d))"
   ]
  },
  {
   "cell_type": "code",
   "execution_count": 20,
   "metadata": {
    "ExecuteTime": {
     "end_time": "2020-08-13T03:51:49.508157Z",
     "start_time": "2020-08-13T03:51:49.505165Z"
    }
   },
   "outputs": [
    {
     "name": "stdout",
     "output_type": "stream",
     "text": [
      "2020-08-13\n",
      "<class 'datetime.date'>\n"
     ]
    }
   ],
   "source": [
    "d = datetime.date.today()\n",
    "print(d)  \n",
    "print(type(d))"
   ]
  },
  {
   "cell_type": "code",
   "execution_count": 21,
   "metadata": {
    "ExecuteTime": {
     "end_time": "2020-08-13T03:52:25.793983Z",
     "start_time": "2020-08-13T03:52:25.789998Z"
    }
   },
   "outputs": [
    {
     "name": "stdout",
     "output_type": "stream",
     "text": [
      "273\n",
      "6\n",
      "40\n"
     ]
    }
   ],
   "source": [
    "# 统计两个日期之间有多少个星期六\n",
    "import datetime\n",
    "\n",
    "d1 = datetime.date(1869, 1, 2)\n",
    "d2 = datetime.date(1869, 10, 2)\n",
    "dt = (d2 - d1).days\n",
    "print(dt)\n",
    "print(d1.isoweekday())  \n",
    "print(dt // 7 + 1)"
   ]
  },
  {
   "cell_type": "markdown",
   "metadata": {},
   "source": [
    "## 3. time 类"
   ]
  },
  {
   "cell_type": "code",
   "execution_count": 22,
   "metadata": {
    "ExecuteTime": {
     "end_time": "2020-08-13T03:54:04.047981Z",
     "start_time": "2020-08-13T03:54:04.043989Z"
    }
   },
   "outputs": [
    {
     "name": "stdout",
     "output_type": "stream",
     "text": [
      "12:09:23.012980\n",
      "<class 'datetime.time'>\n"
     ]
    }
   ],
   "source": [
    "# 使用 datetime.time() 类\n",
    "import datetime\n",
    "\n",
    "t = datetime.time(12, 9, 23, 12980)\n",
    "print(t)  \n",
    "print(type(t))"
   ]
  },
  {
   "cell_type": "markdown",
   "metadata": {},
   "source": [
    "注意：\n",
    "+ 1秒 = 1000 毫秒（milliseconds）\n",
    "+ 1毫秒 = 1000 微妙（microseconds）"
   ]
  },
  {
   "cell_type": "code",
   "execution_count": 23,
   "metadata": {
    "ExecuteTime": {
     "end_time": "2020-08-13T03:55:24.003391Z",
     "start_time": "2020-08-13T03:55:23.999390Z"
    }
   },
   "outputs": [
    {
     "name": "stdout",
     "output_type": "stream",
     "text": [
      "2019-10-02 00:00:00\n"
     ]
    }
   ],
   "source": [
    "# 将给定日期转换为当天开始的时间\n",
    "import datetime\n",
    "\n",
    "date = datetime.date(2019, 10, 2)\n",
    "dt = datetime.datetime(date.year, date.month, date.day)\n",
    "print(dt)"
   ]
  },
  {
   "cell_type": "code",
   "execution_count": 24,
   "metadata": {
    "ExecuteTime": {
     "end_time": "2020-08-13T03:55:54.453312Z",
     "start_time": "2020-08-13T03:55:54.450321Z"
    }
   },
   "outputs": [
    {
     "name": "stdout",
     "output_type": "stream",
     "text": [
      "2019-10-02 00:00:00\n"
     ]
    }
   ],
   "source": [
    "dt = datetime.datetime.combine(date, datetime.time.min)\n",
    "print(dt)"
   ]
  },
  {
   "cell_type": "markdown",
   "metadata": {},
   "source": [
    "## 4. timedelta 类"
   ]
  },
  {
   "cell_type": "markdown",
   "metadata": {},
   "source": [
    "+ ``timedelta`` 表示具体时间实例中的一段时间。你可以把它们简单想象成两个日期或时间之间的间隔\n",
    "+ 它常常被用来从 ``datetime`` 对象中添加或移除一段特定的时间"
   ]
  },
  {
   "cell_type": "code",
   "execution_count": 25,
   "metadata": {
    "ExecuteTime": {
     "end_time": "2020-08-13T03:59:05.252839Z",
     "start_time": "2020-08-13T03:59:05.247847Z"
    }
   },
   "outputs": [
    {
     "name": "stdout",
     "output_type": "stream",
     "text": [
      "30 days, 0:00:00\n",
      "<class 'datetime.timedelta'>\n",
      "2020-08-13\n",
      "2020-09-12\n"
     ]
    }
   ],
   "source": [
    "import datetime\n",
    "\n",
    "td = datetime.timedelta(days=30)\n",
    "print(td)  \n",
    "print(type(td))  \n",
    "print(datetime.date.today())  \n",
    "print(datetime.date.today() + td)"
   ]
  },
  {
   "cell_type": "code",
   "execution_count": 26,
   "metadata": {
    "ExecuteTime": {
     "end_time": "2020-08-13T03:59:19.252512Z",
     "start_time": "2020-08-13T03:59:19.248489Z"
    }
   },
   "outputs": [
    {
     "name": "stdout",
     "output_type": "stream",
     "text": [
      "365 days, 0:00:00\n",
      "<class 'datetime.timedelta'>\n"
     ]
    }
   ],
   "source": [
    "dt1 = datetime.datetime(2020, 1, 31, 10, 10, 0)\n",
    "dt2 = datetime.datetime(2019, 1, 31, 10, 10, 0)\n",
    "td = dt1 - dt2\n",
    "print(td)  \n",
    "print(type(td))"
   ]
  },
  {
   "cell_type": "code",
   "execution_count": 27,
   "metadata": {
    "ExecuteTime": {
     "end_time": "2020-08-13T03:59:36.919655Z",
     "start_time": "2020-08-13T03:59:36.914654Z"
    }
   },
   "outputs": [
    {
     "name": "stdout",
     "output_type": "stream",
     "text": [
      "23 days, 0:00:00\n",
      "<class 'datetime.timedelta'>\n"
     ]
    }
   ],
   "source": [
    "td1 = datetime.timedelta(days=30)  \n",
    "td2 = datetime.timedelta(weeks=1)  \n",
    "td = td1 - td2\n",
    "print(td)  \n",
    "print(type(td))"
   ]
  },
  {
   "cell_type": "markdown",
   "metadata": {},
   "source": [
    "+ 如果将两个 datetime 对象相减，就会得到表示该时间间隔的 timedelta 对象\n",
    "+ 将两个时间间隔相减，可以得到另一个 timedelta 对象"
   ]
  },
  {
   "cell_type": "code",
   "execution_count": null,
   "metadata": {},
   "outputs": [],
   "source": []
  }
 ],
 "metadata": {
  "kernelspec": {
   "display_name": "Python 3",
   "language": "python",
   "name": "python3"
  },
  "language_info": {
   "codemirror_mode": {
    "name": "ipython",
    "version": 3
   },
   "file_extension": ".py",
   "mimetype": "text/x-python",
   "name": "python",
   "nbconvert_exporter": "python",
   "pygments_lexer": "ipython3",
   "version": "3.7.4"
  }
 },
 "nbformat": 4,
 "nbformat_minor": 2
}
