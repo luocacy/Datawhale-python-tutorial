{
 "cells": [
  {
   "cell_type": "markdown",
   "metadata": {},
   "source": [
    "# 集合"
   ]
  },
  {
   "cell_type": "markdown",
   "metadata": {},
   "source": [
    "+ Python 中``set``与``dict``类似，也是一组``key``的集合，但不存储``value``。由于``key``不能重复，所以，在``set``中，没有重复的``key``;\n",
    "+ 注意，``key``为不可变类型，即可哈希的值;"
   ]
  },
  {
   "cell_type": "code",
   "execution_count": 1,
   "metadata": {
    "ExecuteTime": {
     "end_time": "2020-08-05T07:32:38.846633Z",
     "start_time": "2020-08-05T07:32:38.840634Z"
    }
   },
   "outputs": [
    {
     "name": "stdout",
     "output_type": "stream",
     "text": [
      "<class 'dict'>\n",
      "<class 'set'>\n"
     ]
    }
   ],
   "source": [
    "num = {}\n",
    "print(type(num))  \n",
    "num = {1, 2, 3, 4}\n",
    "print(type(num))"
   ]
  },
  {
   "cell_type": "markdown",
   "metadata": {},
   "source": [
    "## 1. 集合的创建"
   ]
  },
  {
   "cell_type": "markdown",
   "metadata": {},
   "source": [
    "+ 先创建对象再加入元素;\n",
    "+ 在创建空集合的时候只能使用``s = set()``，因为``s = {}``创建的是空字典;"
   ]
  },
  {
   "cell_type": "code",
   "execution_count": 2,
   "metadata": {
    "ExecuteTime": {
     "end_time": "2020-08-05T07:34:34.130340Z",
     "start_time": "2020-08-05T07:34:34.119036Z"
    }
   },
   "outputs": [
    {
     "name": "stdout",
     "output_type": "stream",
     "text": [
      "{'banana', 'apple'}\n"
     ]
    }
   ],
   "source": [
    "basket = set()\n",
    "basket.add('apple')\n",
    "basket.add('banana')\n",
    "print(basket)"
   ]
  },
  {
   "cell_type": "markdown",
   "metadata": {},
   "source": [
    "+ 直接把一堆元素用花括号括起来{``元素1, 元素2, ..., 元素n``};\n",
    "+ 重复元素在``set``中会被自动被过滤;"
   ]
  },
  {
   "cell_type": "code",
   "execution_count": 3,
   "metadata": {
    "ExecuteTime": {
     "end_time": "2020-08-05T07:35:31.523800Z",
     "start_time": "2020-08-05T07:35:31.519800Z"
    }
   },
   "outputs": [
    {
     "name": "stdout",
     "output_type": "stream",
     "text": [
      "{'banana', 'apple', 'orange', 'pear'}\n"
     ]
    }
   ],
   "source": [
    "basket = {'apple', 'orange', 'apple', 'pear', 'orange', 'banana'}\n",
    "print(basket)"
   ]
  },
  {
   "cell_type": "markdown",
   "metadata": {},
   "source": [
    "+ 使用``set(value)``工厂函数，把列表或元组转换成集合;"
   ]
  },
  {
   "cell_type": "code",
   "execution_count": 4,
   "metadata": {
    "ExecuteTime": {
     "end_time": "2020-08-05T07:36:22.242437Z",
     "start_time": "2020-08-05T07:36:22.239337Z"
    }
   },
   "outputs": [
    {
     "name": "stdout",
     "output_type": "stream",
     "text": [
      "{'c', 'd', 'b', 'r', 'a'}\n",
      "{'Google', 'Lsgogroup', 'Taobao'}\n",
      "{'Google', 'Lsgogroup', 'Taobao'}\n"
     ]
    }
   ],
   "source": [
    "a = set('abracadabra')\n",
    "print(a)  \n",
    "\n",
    "b = set((\"Google\", \"Lsgogroup\", \"Taobao\", \"Taobao\"))\n",
    "print(b)  \n",
    "\n",
    "c = set([\"Google\", \"Lsgogroup\", \"Taobao\", \"Google\"])\n",
    "print(c) "
   ]
  },
  {
   "cell_type": "markdown",
   "metadata": {},
   "source": [
    "去掉列表中重复的元素"
   ]
  },
  {
   "cell_type": "code",
   "execution_count": 5,
   "metadata": {
    "ExecuteTime": {
     "end_time": "2020-08-05T07:37:29.836331Z",
     "start_time": "2020-08-05T07:37:29.832331Z"
    }
   },
   "outputs": [
    {
     "name": "stdout",
     "output_type": "stream",
     "text": [
      "[0, 1, 2, 3, 4, 5]\n",
      "[0, 1, 2, 3, 4, 5]\n"
     ]
    }
   ],
   "source": [
    "lst = [0, 1, 2, 3, 4, 5, 5, 3, 1]\n",
    "\n",
    "temp = []\n",
    "for item in lst:\n",
    "    if item not in temp:\n",
    "        temp.append(item)\n",
    "\n",
    "print(temp)  \n",
    "\n",
    "a = set(lst)\n",
    "print(list(a))"
   ]
  },
  {
   "cell_type": "markdown",
   "metadata": {},
   "source": [
    "从结果发现集合的两个特点：无序 (unordered) 和唯一 (unique);"
   ]
  },
  {
   "cell_type": "markdown",
   "metadata": {},
   "source": [
    "由于 ``set`` 存储的是无序集合，所以我们不可以为集合创建索引或执行切片(slice)操作，也没有键(keys)可用来获取集合中元素的值，但是可以判断一个元素是否在集合中;"
   ]
  },
  {
   "cell_type": "markdown",
   "metadata": {},
   "source": [
    "## 2. 访问集合中的值"
   ]
  },
  {
   "cell_type": "markdown",
   "metadata": {},
   "source": [
    "+ 可以使用``len()``內建函数得到集合的大小;"
   ]
  },
  {
   "cell_type": "code",
   "execution_count": 6,
   "metadata": {
    "ExecuteTime": {
     "end_time": "2020-08-05T07:39:09.961811Z",
     "start_time": "2020-08-05T07:39:09.958811Z"
    }
   },
   "outputs": [
    {
     "name": "stdout",
     "output_type": "stream",
     "text": [
      "3\n"
     ]
    }
   ],
   "source": [
    "s = set(['Google', 'Baidu', 'Taobao'])\n",
    "print(len(s))"
   ]
  },
  {
   "cell_type": "markdown",
   "metadata": {},
   "source": [
    "+ 可以使用``for``把集合中的数据一个个读取出来;"
   ]
  },
  {
   "cell_type": "code",
   "execution_count": 7,
   "metadata": {
    "ExecuteTime": {
     "end_time": "2020-08-05T07:39:38.198878Z",
     "start_time": "2020-08-05T07:39:38.194877Z"
    }
   },
   "outputs": [
    {
     "name": "stdout",
     "output_type": "stream",
     "text": [
      "Google\n",
      "Baidu\n",
      "Taobao\n"
     ]
    }
   ],
   "source": [
    "s = set(['Google', 'Baidu', 'Taobao'])\n",
    "for item in s:\n",
    "    print(item)"
   ]
  },
  {
   "cell_type": "markdown",
   "metadata": {},
   "source": [
    "+ 可以通过``in``或``not in``判断一个元素是否在集合中已经存在;"
   ]
  },
  {
   "cell_type": "code",
   "execution_count": 8,
   "metadata": {
    "ExecuteTime": {
     "end_time": "2020-08-05T07:40:54.146123Z",
     "start_time": "2020-08-05T07:40:54.141122Z"
    }
   },
   "outputs": [
    {
     "name": "stdout",
     "output_type": "stream",
     "text": [
      "True\n",
      "True\n"
     ]
    }
   ],
   "source": [
    "s = set(['Google', 'Baidu', 'Taobao'])\n",
    "print('Taobao' in s)  \n",
    "print('Facebook' not in s)"
   ]
  },
  {
   "cell_type": "markdown",
   "metadata": {},
   "source": [
    "## 3. 集合的内置方法"
   ]
  },
  {
   "cell_type": "markdown",
   "metadata": {},
   "source": [
    "1. ``set.add(elmnt)``用于给集合添加元素，如果添加的元素在集合中已存在，则不执行任何操作;"
   ]
  },
  {
   "cell_type": "code",
   "execution_count": 9,
   "metadata": {
    "ExecuteTime": {
     "end_time": "2020-08-05T07:43:12.524468Z",
     "start_time": "2020-08-05T07:43:12.521464Z"
    }
   },
   "outputs": [
    {
     "name": "stdout",
     "output_type": "stream",
     "text": [
      "{'banana', 'apple', 'orange', 'cherry'}\n",
      "{'banana', 'apple', 'orange', 'cherry'}\n"
     ]
    }
   ],
   "source": [
    "fruits = {\"apple\", \"banana\", \"cherry\"}\n",
    "fruits.add(\"orange\")\n",
    "print(fruits)  \n",
    "\n",
    "fruits.add(\"apple\")\n",
    "print(fruits)"
   ]
  },
  {
   "cell_type": "markdown",
   "metadata": {},
   "source": [
    "2. ``set.update(set)``用于修改当前集合，可以添加新的元素或集合到当前集合中，如果添加的元素在集合中已存在，则该元素只会出现一次，重复的会忽略;"
   ]
  },
  {
   "cell_type": "code",
   "execution_count": 10,
   "metadata": {
    "ExecuteTime": {
     "end_time": "2020-08-05T07:44:00.300864Z",
     "start_time": "2020-08-05T07:44:00.295863Z"
    }
   },
   "outputs": [
    {
     "name": "stdout",
     "output_type": "stream",
     "text": [
      "{'apple', 'google', 'banana', 'baidu', 'cherry'}\n",
      "{'apple', 'baidu', 'dreamtech', 'google', 'lsgo'}\n"
     ]
    }
   ],
   "source": [
    "x = {\"apple\", \"banana\", \"cherry\"}\n",
    "y = {\"google\", \"baidu\", \"apple\"}\n",
    "x.update(y)\n",
    "print(x)\n",
    "\n",
    "y.update([\"lsgo\", \"dreamtech\"])\n",
    "print(y)"
   ]
  },
  {
   "cell_type": "markdown",
   "metadata": {},
   "source": [
    "3. ``set.remove(item)`` 用于移除集合中的指定元素。如果元素不存在，则会发生错误;"
   ]
  },
  {
   "cell_type": "code",
   "execution_count": 11,
   "metadata": {
    "ExecuteTime": {
     "end_time": "2020-08-05T07:45:02.051710Z",
     "start_time": "2020-08-05T07:45:02.048708Z"
    }
   },
   "outputs": [
    {
     "name": "stdout",
     "output_type": "stream",
     "text": [
      "{'apple', 'cherry'}\n"
     ]
    }
   ],
   "source": [
    "fruits = {\"apple\", \"banana\", \"cherry\"}\n",
    "fruits.remove(\"banana\")\n",
    "print(fruits)"
   ]
  },
  {
   "cell_type": "code",
   "execution_count": 13,
   "metadata": {
    "ExecuteTime": {
     "end_time": "2020-08-05T07:46:24.192051Z",
     "start_time": "2020-08-05T07:46:24.148041Z"
    }
   },
   "outputs": [
    {
     "ename": "KeyError",
     "evalue": "'ba'",
     "output_type": "error",
     "traceback": [
      "\u001b[1;31m---------------------------------------------------------------------------\u001b[0m",
      "\u001b[1;31mKeyError\u001b[0m                                  Traceback (most recent call last)",
      "\u001b[1;32m<ipython-input-13-b9996cc64ded>\u001b[0m in \u001b[0;36m<module>\u001b[1;34m\u001b[0m\n\u001b[1;32m----> 1\u001b[1;33m \u001b[0mfruits\u001b[0m\u001b[1;33m.\u001b[0m\u001b[0mremove\u001b[0m\u001b[1;33m(\u001b[0m\u001b[1;34m\"ba\"\u001b[0m\u001b[1;33m)\u001b[0m\u001b[1;33m\u001b[0m\u001b[1;33m\u001b[0m\u001b[0m\n\u001b[0m",
      "\u001b[1;31mKeyError\u001b[0m: 'ba'"
     ]
    }
   ],
   "source": [
    "fruits.remove(\"ba\")"
   ]
  },
  {
   "cell_type": "markdown",
   "metadata": {},
   "source": [
    "4. ``set.discard(value)`` 用于移除指定的集合元素。``remove()`` 方法在移除一个不存在的元素时会发生错误，而 ``discard()`` 方法不会;"
   ]
  },
  {
   "cell_type": "code",
   "execution_count": 12,
   "metadata": {
    "ExecuteTime": {
     "end_time": "2020-08-05T07:46:04.846092Z",
     "start_time": "2020-08-05T07:46:04.842091Z"
    }
   },
   "outputs": [
    {
     "name": "stdout",
     "output_type": "stream",
     "text": [
      "{'banana', 'apple', 'cherry'}\n"
     ]
    }
   ],
   "source": [
    "fruits = {\"apple\", \"banana\", \"cherry\"}\n",
    "fruits.discard(\"ba\")\n",
    "print(fruits)"
   ]
  },
  {
   "cell_type": "markdown",
   "metadata": {},
   "source": [
    "5. ``set.pop()`` 用于随机移除一个元素;"
   ]
  },
  {
   "cell_type": "code",
   "execution_count": 14,
   "metadata": {
    "ExecuteTime": {
     "end_time": "2020-08-05T07:47:09.846509Z",
     "start_time": "2020-08-05T07:47:09.842509Z"
    }
   },
   "outputs": [
    {
     "name": "stdout",
     "output_type": "stream",
     "text": [
      "{'apple', 'cherry'}\n",
      "banana\n"
     ]
    }
   ],
   "source": [
    "fruits = {\"apple\", \"banana\", \"cherry\"}\n",
    "x = fruits.pop()\n",
    "print(fruits)  \n",
    "print(x)"
   ]
  },
  {
   "cell_type": "markdown",
   "metadata": {},
   "source": [
    "由于 set 是无序和无重复元素的集合，所以两个或多个 set 可以做数学意义上的集合操作。\n",
    "<br>\n",
    "6. ``set.intersection(set1, set2)`` 返回两个集合的交集;\n",
    "7. ``set1 & set2`` 返回两个集合的交集;\n",
    "8. ``set.intersection_update(set1, set2)`` 交集，在原始的集合上移除不重叠的元素;"
   ]
  },
  {
   "cell_type": "code",
   "execution_count": 15,
   "metadata": {
    "ExecuteTime": {
     "end_time": "2020-08-05T07:49:45.054169Z",
     "start_time": "2020-08-05T07:49:45.048977Z"
    }
   },
   "outputs": [
    {
     "name": "stdout",
     "output_type": "stream",
     "text": [
      "{'c', 'd', 'b', 'r', 'a'}\n",
      "{'c', 'z', 'm', 'a', 'l'}\n",
      "{'c', 'a'}\n",
      "{'c', 'a'}\n",
      "{'c', 'd', 'b', 'r', 'a'}\n",
      "{'c', 'a'}\n"
     ]
    }
   ],
   "source": [
    "a = set('abracadabra')\n",
    "b = set('alacazam')\n",
    "print(a)  \n",
    "print(b)  \n",
    "\n",
    "c = a.intersection(b)\n",
    "print(c)  \n",
    "print(a & b)  \n",
    "print(a)  \n",
    "\n",
    "a.intersection_update(b)\n",
    "print(a)"
   ]
  },
  {
   "cell_type": "markdown",
   "metadata": {},
   "source": [
    "9. ``set.union(set1, set2)`` 返回两个集合的并集;\n",
    "10. ``set1 | set2`` 返回两个集合的并集;"
   ]
  },
  {
   "cell_type": "code",
   "execution_count": 16,
   "metadata": {
    "ExecuteTime": {
     "end_time": "2020-08-05T07:53:26.205282Z",
     "start_time": "2020-08-05T07:53:26.192683Z"
    }
   },
   "outputs": [
    {
     "name": "stdout",
     "output_type": "stream",
     "text": [
      "{'c', 'd', 'b', 'r', 'a'}\n",
      "{'c', 'z', 'm', 'a', 'l'}\n",
      "{'c', 'd', 'z', 'b', 'r', 'm', 'a', 'l'}\n",
      "{'c', 'd', 'z', 'b', 'r', 'm', 'a', 'l'}\n"
     ]
    }
   ],
   "source": [
    "a = set('abracadabra')\n",
    "b = set('alacazam')\n",
    "print(a)  \n",
    "print(b)  \n",
    "\n",
    "print(a | b)  \n",
    "\n",
    "c = a.union(b)\n",
    "print(c)  "
   ]
  },
  {
   "cell_type": "markdown",
   "metadata": {},
   "source": [
    "11. ``set.difference(set)`` 返回集合的差集;\n",
    "12. ``set1 - set2`` 返回集合的差集;\n",
    "13. ``set.difference_update(set)`` 集合的差集，直接在原来的集合中移除元素，没有返回值;"
   ]
  },
  {
   "cell_type": "code",
   "execution_count": 17,
   "metadata": {
    "ExecuteTime": {
     "end_time": "2020-08-05T07:55:59.630167Z",
     "start_time": "2020-08-05T07:55:59.623165Z"
    }
   },
   "outputs": [
    {
     "name": "stdout",
     "output_type": "stream",
     "text": [
      "{'c', 'd', 'b', 'r', 'a'}\n",
      "{'c', 'z', 'm', 'a', 'l'}\n",
      "{'d', 'r', 'b'}\n",
      "{'d', 'r', 'b'}\n",
      "{'c', 'd', 'b', 'r', 'a'}\n",
      "{'d', 'b', 'r'}\n"
     ]
    }
   ],
   "source": [
    "a = set('abracadabra')\n",
    "b = set('alacazam')\n",
    "print(a)  \n",
    "print(b)  \n",
    "\n",
    "c = a.difference(b)\n",
    "print(c)  \n",
    "print(a - b)  \n",
    "\n",
    "print(a)  \n",
    "a.difference_update(b)\n",
    "print(a)"
   ]
  },
  {
   "cell_type": "markdown",
   "metadata": {},
   "source": [
    "14. ``set.symmetric_difference(set)``返回集合的异或;\n",
    "15. ``set1 ^ set2`` 返回集合的异或;\n",
    "16. ``set.symmetric_difference_update(set)``移除当前集合中在另外一个指定集合相同的元素，并将另外一个指定集合中不同的元素插入到当前集合中;"
   ]
  },
  {
   "cell_type": "code",
   "execution_count": 18,
   "metadata": {
    "ExecuteTime": {
     "end_time": "2020-08-05T07:57:49.755024Z",
     "start_time": "2020-08-05T07:57:49.750034Z"
    }
   },
   "outputs": [
    {
     "name": "stdout",
     "output_type": "stream",
     "text": [
      "{'c', 'd', 'b', 'r', 'a'}\n",
      "{'c', 'z', 'm', 'a', 'l'}\n",
      "{'r', 'm', 'd', 'z', 'b', 'l'}\n",
      "{'r', 'm', 'd', 'z', 'b', 'l'}\n",
      "{'c', 'd', 'b', 'r', 'a'}\n",
      "{'d', 'z', 'b', 'r', 'm', 'l'}\n"
     ]
    }
   ],
   "source": [
    "a = set('abracadabra')\n",
    "b = set('alacazam')\n",
    "print(a)  \n",
    "print(b)  \n",
    "\n",
    "c = a.symmetric_difference(b)\n",
    "print(c)  \n",
    "print(a ^ b)  \n",
    "\n",
    "print(a)  \n",
    "a.symmetric_difference_update(b)\n",
    "print(a)"
   ]
  },
  {
   "cell_type": "markdown",
   "metadata": {},
   "source": [
    "17. ``set.issubset(set)``判断集合是不是被其他集合包含，如果是则返回 True，否则返回 False;\n",
    "18. ``set1 <= set2`` 判断集合是不是被其他集合包含，如果是则返回 True，否则返回 False;"
   ]
  },
  {
   "cell_type": "code",
   "execution_count": 19,
   "metadata": {
    "ExecuteTime": {
     "end_time": "2020-08-05T07:59:25.360825Z",
     "start_time": "2020-08-05T07:59:25.354824Z"
    }
   },
   "outputs": [
    {
     "name": "stdout",
     "output_type": "stream",
     "text": [
      "True\n",
      "True\n",
      "False\n",
      "False\n"
     ]
    }
   ],
   "source": [
    "x = {\"a\", \"b\", \"c\"}\n",
    "y = {\"f\", \"e\", \"d\", \"c\", \"b\", \"a\"}\n",
    "z = x.issubset(y)\n",
    "print(z)  \n",
    "print(x <= y)  \n",
    "\n",
    "x = {\"a\", \"b\", \"c\"}\n",
    "y = {\"f\", \"e\", \"d\", \"c\", \"b\"}\n",
    "z = x.issubset(y)\n",
    "print(z)  \n",
    "print(x <= y) "
   ]
  },
  {
   "cell_type": "markdown",
   "metadata": {},
   "source": [
    "19. ``set.issuperset(set)``用于判断集合是不是包含其他集合，如果是则返回 True，否则返回 False;\n",
    "20. ``set1 >= set2`` 判断集合是不是包含其他集合，如果是则返回 True，否则返回 False;"
   ]
  },
  {
   "cell_type": "code",
   "execution_count": 20,
   "metadata": {
    "ExecuteTime": {
     "end_time": "2020-08-05T08:00:38.450227Z",
     "start_time": "2020-08-05T08:00:38.445227Z"
    }
   },
   "outputs": [
    {
     "name": "stdout",
     "output_type": "stream",
     "text": [
      "True\n",
      "True\n",
      "False\n",
      "False\n"
     ]
    }
   ],
   "source": [
    "x = {\"f\", \"e\", \"d\", \"c\", \"b\", \"a\"}\n",
    "y = {\"a\", \"b\", \"c\"}\n",
    "z = x.issuperset(y)\n",
    "print(z)  \n",
    "print(x >= y)  \n",
    "\n",
    "x = {\"f\", \"e\", \"d\", \"c\", \"b\"}\n",
    "y = {\"a\", \"b\", \"c\"}\n",
    "z = x.issuperset(y)\n",
    "print(z)  \n",
    "print(x >= y)"
   ]
  },
  {
   "cell_type": "markdown",
   "metadata": {},
   "source": [
    "21. ``set.isdisjoint(set)`` 用于判断两个集合是不是不相交，如果是返回 True，否则返回 False;"
   ]
  },
  {
   "cell_type": "code",
   "execution_count": 21,
   "metadata": {
    "ExecuteTime": {
     "end_time": "2020-08-05T08:01:17.439552Z",
     "start_time": "2020-08-05T08:01:17.434552Z"
    }
   },
   "outputs": [
    {
     "name": "stdout",
     "output_type": "stream",
     "text": [
      "False\n",
      "True\n"
     ]
    }
   ],
   "source": [
    "x = {\"f\", \"e\", \"d\", \"c\", \"b\"}\n",
    "y = {\"a\", \"b\", \"c\"}\n",
    "z = x.isdisjoint(y)\n",
    "print(z)  \n",
    "\n",
    "x = {\"f\", \"e\", \"d\", \"m\", \"g\"}\n",
    "y = {\"a\", \"b\", \"c\"}\n",
    "z = x.isdisjoint(y)\n",
    "print(z)"
   ]
  },
  {
   "cell_type": "markdown",
   "metadata": {},
   "source": [
    "## 4. 集合的转换"
   ]
  },
  {
   "cell_type": "code",
   "execution_count": 23,
   "metadata": {
    "ExecuteTime": {
     "end_time": "2020-08-05T08:04:07.750916Z",
     "start_time": "2020-08-05T08:04:07.746915Z"
    }
   },
   "outputs": [
    {
     "name": "stdout",
     "output_type": "stream",
     "text": [
      "{0, 1, 2, 3} <class 'set'>\n",
      "[0, 1, 2, 3] <class 'list'>\n",
      "(0, 1, 2, 3) <class 'tuple'>\n"
     ]
    }
   ],
   "source": [
    "se = set(range(4))\n",
    "li = list(se)\n",
    "tu = tuple(se)\n",
    "\n",
    "print(se, type(se))  \n",
    "print(li, type(li))  \n",
    "print(tu, type(tu))"
   ]
  },
  {
   "cell_type": "markdown",
   "metadata": {},
   "source": [
    "## 5. 不可变集合"
   ]
  },
  {
   "cell_type": "markdown",
   "metadata": {},
   "source": [
    "Python 提供了不能改变元素的集合的实现版本，即不能增加或删除元素，类型名叫``frozenset``。需要注意的是``frozenset``仍然可以进行集合操作，只是不能用带有``update``的方法;"
   ]
  },
  {
   "cell_type": "markdown",
   "metadata": {},
   "source": [
    "+ ``frozenset([iterable])`` 返回一个冻结的集合，冻结后集合不能再添加或删除任何元素;"
   ]
  },
  {
   "cell_type": "code",
   "execution_count": 22,
   "metadata": {
    "ExecuteTime": {
     "end_time": "2020-08-05T08:03:17.855405Z",
     "start_time": "2020-08-05T08:03:17.851404Z"
    }
   },
   "outputs": [
    {
     "name": "stdout",
     "output_type": "stream",
     "text": [
      "frozenset({0, 1, 2, 3, 4, 5, 6, 7, 8, 9})\n",
      "frozenset({'p', 'g', 'u', 'r', 's', 'o', 'l'})\n"
     ]
    }
   ],
   "source": [
    "a = frozenset(range(10))  # 生成一个新的不可变集合\n",
    "print(a)  \n",
    "\n",
    "b = frozenset('lsgogroup')\n",
    "print(b) "
   ]
  },
  {
   "cell_type": "code",
   "execution_count": null,
   "metadata": {},
   "outputs": [],
   "source": []
  }
 ],
 "metadata": {
  "kernelspec": {
   "display_name": "Python 3",
   "language": "python",
   "name": "python3"
  },
  "language_info": {
   "codemirror_mode": {
    "name": "ipython",
    "version": 3
   },
   "file_extension": ".py",
   "mimetype": "text/x-python",
   "name": "python",
   "nbconvert_exporter": "python",
   "pygments_lexer": "ipython3",
   "version": "3.7.4"
  }
 },
 "nbformat": 4,
 "nbformat_minor": 2
}
